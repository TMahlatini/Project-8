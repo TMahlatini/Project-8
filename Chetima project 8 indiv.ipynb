{
 "cells": [
  {
   "cell_type": "markdown",
   "id": "e4c3a401",
   "metadata": {},
   "source": [
    "# Working with personal data requests\n"
   ]
  },
  {
   "cell_type": "code",
   "execution_count": 2,
   "id": "59b581a3",
   "metadata": {},
   "outputs": [],
   "source": [
    "import pandas as pd\n",
    "import numpy as np"
   ]
  },
  {
   "cell_type": "markdown",
   "id": "d65ea541",
   "metadata": {},
   "source": [
    "### Your task\n",
    "\n",
    "Import your own personal data file (or better yet, several of them!). Extract just the timestamp data. Export this timestamp data as a CSV file and save it on your machine.\n",
    "\n",
    "\n",
    "### What if you have _other_ types of data?\n",
    "\n",
    "A summary of pandas input/output (I/O) tools is [here](https://pandas.pydata.org/docs/user_guide/io.html). Here are some things we can directly import:\n",
    "* CSVs\n",
    "* JSON\n",
    "* text (rtf, txt)\n",
    "* HTML\n",
    "* MS Excel\n",
    "* Pickle (Python file format)\n",
    "* Parquet\n",
    "* And many others...\n",
    "\n",
    "With HTML, you might want to parse it using Beautiful Soup.\n",
    "\n",
    "For PDFs, you might need to use a tool like [Tabula](https://pypi.org/project/tabula-py/) (a Java tool, which runs in a Python wrapper) to extract the text from the PDF into a table format. _(Note: To use it, I had to install/update Java, and then install the Tabula package! A bit annoying, but not too bad...)_ Once I did that, though, it was fairly easy to run.\n",
    "\n",
    "If you are having issues getting Tabula installed on your machine:\n",
    "* make sure you try following the installation instructions [here](https://pypi.org/project/tabula-py/)\n",
    "* you can also try running it in a Google Colab notebook, example [here](https://colab.research.google.com/github/chezou/tabula-py/blob/master/examples/tabula_example.ipynb)\n",
    "\n"
   ]
  },
  {
   "cell_type": "code",
   "execution_count": 3,
   "id": "311eabc7",
   "metadata": {},
   "outputs": [],
   "source": [
    "#df = pd.read_csv(\"watch-history2.csv\")\n"
   ]
  },
  {
   "cell_type": "code",
   "execution_count": 152,
   "id": "750c9ff2",
   "metadata": {},
   "outputs": [],
   "source": [
    "#df.head(10)"
   ]
  },
  {
   "cell_type": "code",
   "execution_count": 5,
   "id": "027e0ecf",
   "metadata": {},
   "outputs": [],
   "source": [
    "df_time = df.time"
   ]
  },
  {
   "cell_type": "code",
   "execution_count": 6,
   "id": "14782774",
   "metadata": {},
   "outputs": [
    {
     "data": {
      "text/plain": [
       "0        2023-04-19T22:04:48.331Z\n",
       "1        2023-04-19T21:59:00.004Z\n",
       "2        2023-04-19T21:58:37.669Z\n",
       "3        2023-04-19T21:58:25.254Z\n",
       "4        2023-04-19T03:35:12.207Z\n",
       "                   ...           \n",
       "19966    2019-04-10T12:00:53.076Z\n",
       "19967    2019-04-09T21:34:21.036Z\n",
       "19968    2019-04-07T21:27:52.689Z\n",
       "19969    2019-04-07T21:18:22.625Z\n",
       "19970    2019-04-07T12:30:57.931Z\n",
       "Name: time, Length: 19971, dtype: object"
      ]
     },
     "execution_count": 6,
     "metadata": {},
     "output_type": "execute_result"
    }
   ],
   "source": [
    "df_time\n"
   ]
  },
  {
   "cell_type": "code",
   "execution_count": null,
   "id": "b05d63c1",
   "metadata": {},
   "outputs": [],
   "source": [
    "# At the end, make sure you export your dataframe (containing timestamps) using .to_csv\n",
    "# df.to_csv(\"filename.csv\")"
   ]
  },
  {
   "cell_type": "code",
   "execution_count": 7,
   "id": "ad2de066",
   "metadata": {},
   "outputs": [],
   "source": [
    "df_time.to_csv(\"timestamp.csv\")"
   ]
  },
  {
   "cell_type": "code",
   "execution_count": null,
   "id": "f4d181fc",
   "metadata": {},
   "outputs": [],
   "source": []
  },
  {
   "cell_type": "code",
   "execution_count": 116,
   "id": "9ed3eca9",
   "metadata": {},
   "outputs": [],
   "source": [
    "terence = pd.read_csv(\"terence-data.csv\")"
   ]
  },
  {
   "cell_type": "code",
   "execution_count": 117,
   "id": "22810e19",
   "metadata": {},
   "outputs": [],
   "source": [
    "#The data was downloaded with the column number and timestamp in the same column, so I had to separate the two using excel."
   ]
  },
  {
   "cell_type": "code",
   "execution_count": 118,
   "id": "a0ee64f0",
   "metadata": {},
   "outputs": [
    {
     "data": {
      "text/html": [
       "<div>\n",
       "<style scoped>\n",
       "    .dataframe tbody tr th:only-of-type {\n",
       "        vertical-align: middle;\n",
       "    }\n",
       "\n",
       "    .dataframe tbody tr th {\n",
       "        vertical-align: top;\n",
       "    }\n",
       "\n",
       "    .dataframe thead th {\n",
       "        text-align: right;\n",
       "    }\n",
       "</style>\n",
       "<table border=\"1\" class=\"dataframe\">\n",
       "  <thead>\n",
       "    <tr style=\"text-align: right;\">\n",
       "      <th></th>\n",
       "      <th>,</th>\n",
       "      <th>endTime</th>\n",
       "    </tr>\n",
       "  </thead>\n",
       "  <tbody>\n",
       "    <tr>\n",
       "      <th>0</th>\n",
       "      <td>0</td>\n",
       "      <td>6/6/2022 10:39</td>\n",
       "    </tr>\n",
       "    <tr>\n",
       "      <th>1</th>\n",
       "      <td>1</td>\n",
       "      <td>6/6/2022 10:43</td>\n",
       "    </tr>\n",
       "    <tr>\n",
       "      <th>2</th>\n",
       "      <td>2</td>\n",
       "      <td>6/6/2022 10:46</td>\n",
       "    </tr>\n",
       "    <tr>\n",
       "      <th>3</th>\n",
       "      <td>3</td>\n",
       "      <td>6/6/2022 10:49</td>\n",
       "    </tr>\n",
       "    <tr>\n",
       "      <th>4</th>\n",
       "      <td>4</td>\n",
       "      <td>6/6/2022 10:52</td>\n",
       "    </tr>\n",
       "    <tr>\n",
       "      <th>...</th>\n",
       "      <td>...</td>\n",
       "      <td>...</td>\n",
       "    </tr>\n",
       "    <tr>\n",
       "      <th>9994</th>\n",
       "      <td>9994</td>\n",
       "      <td>9/8/2022 7:25</td>\n",
       "    </tr>\n",
       "    <tr>\n",
       "      <th>9995</th>\n",
       "      <td>9995</td>\n",
       "      <td>9/8/2022 7:30</td>\n",
       "    </tr>\n",
       "    <tr>\n",
       "      <th>9996</th>\n",
       "      <td>9996</td>\n",
       "      <td>9/8/2022 7:33</td>\n",
       "    </tr>\n",
       "    <tr>\n",
       "      <th>9997</th>\n",
       "      <td>9997</td>\n",
       "      <td>9/8/2022 7:36</td>\n",
       "    </tr>\n",
       "    <tr>\n",
       "      <th>9998</th>\n",
       "      <td>9998</td>\n",
       "      <td>9/8/2022 7:41</td>\n",
       "    </tr>\n",
       "  </tbody>\n",
       "</table>\n",
       "<p>9999 rows × 2 columns</p>\n",
       "</div>"
      ],
      "text/plain": [
       "         ,         endTime\n",
       "0        0  6/6/2022 10:39\n",
       "1        1  6/6/2022 10:43\n",
       "2        2  6/6/2022 10:46\n",
       "3        3  6/6/2022 10:49\n",
       "4        4  6/6/2022 10:52\n",
       "...    ...             ...\n",
       "9994  9994   9/8/2022 7:25\n",
       "9995  9995   9/8/2022 7:30\n",
       "9996  9996   9/8/2022 7:33\n",
       "9997  9997   9/8/2022 7:36\n",
       "9998  9998   9/8/2022 7:41\n",
       "\n",
       "[9999 rows x 2 columns]"
      ]
     },
     "execution_count": 118,
     "metadata": {},
     "output_type": "execute_result"
    }
   ],
   "source": [
    "terence"
   ]
  },
  {
   "cell_type": "raw",
   "id": "93c183d2",
   "metadata": {},
   "source": []
  },
  {
   "cell_type": "code",
   "execution_count": 119,
   "id": "3ecfd89b",
   "metadata": {},
   "outputs": [],
   "source": [
    "#https://www.geeksforgeeks.org/delete-a-column-from-a-pandas-dataframe/\n",
    "del terence[\",\"]"
   ]
  },
  {
   "cell_type": "code",
   "execution_count": 120,
   "id": "e3c4c5f1",
   "metadata": {},
   "outputs": [
    {
     "data": {
      "text/html": [
       "<div>\n",
       "<style scoped>\n",
       "    .dataframe tbody tr th:only-of-type {\n",
       "        vertical-align: middle;\n",
       "    }\n",
       "\n",
       "    .dataframe tbody tr th {\n",
       "        vertical-align: top;\n",
       "    }\n",
       "\n",
       "    .dataframe thead th {\n",
       "        text-align: right;\n",
       "    }\n",
       "</style>\n",
       "<table border=\"1\" class=\"dataframe\">\n",
       "  <thead>\n",
       "    <tr style=\"text-align: right;\">\n",
       "      <th></th>\n",
       "      <th>endTime</th>\n",
       "    </tr>\n",
       "  </thead>\n",
       "  <tbody>\n",
       "    <tr>\n",
       "      <th>0</th>\n",
       "      <td>6/6/2022 10:39</td>\n",
       "    </tr>\n",
       "    <tr>\n",
       "      <th>1</th>\n",
       "      <td>6/6/2022 10:43</td>\n",
       "    </tr>\n",
       "    <tr>\n",
       "      <th>2</th>\n",
       "      <td>6/6/2022 10:46</td>\n",
       "    </tr>\n",
       "    <tr>\n",
       "      <th>3</th>\n",
       "      <td>6/6/2022 10:49</td>\n",
       "    </tr>\n",
       "    <tr>\n",
       "      <th>4</th>\n",
       "      <td>6/6/2022 10:52</td>\n",
       "    </tr>\n",
       "    <tr>\n",
       "      <th>...</th>\n",
       "      <td>...</td>\n",
       "    </tr>\n",
       "    <tr>\n",
       "      <th>9994</th>\n",
       "      <td>9/8/2022 7:25</td>\n",
       "    </tr>\n",
       "    <tr>\n",
       "      <th>9995</th>\n",
       "      <td>9/8/2022 7:30</td>\n",
       "    </tr>\n",
       "    <tr>\n",
       "      <th>9996</th>\n",
       "      <td>9/8/2022 7:33</td>\n",
       "    </tr>\n",
       "    <tr>\n",
       "      <th>9997</th>\n",
       "      <td>9/8/2022 7:36</td>\n",
       "    </tr>\n",
       "    <tr>\n",
       "      <th>9998</th>\n",
       "      <td>9/8/2022 7:41</td>\n",
       "    </tr>\n",
       "  </tbody>\n",
       "</table>\n",
       "<p>9999 rows × 1 columns</p>\n",
       "</div>"
      ],
      "text/plain": [
       "             endTime\n",
       "0     6/6/2022 10:39\n",
       "1     6/6/2022 10:43\n",
       "2     6/6/2022 10:46\n",
       "3     6/6/2022 10:49\n",
       "4     6/6/2022 10:52\n",
       "...              ...\n",
       "9994   9/8/2022 7:25\n",
       "9995   9/8/2022 7:30\n",
       "9996   9/8/2022 7:33\n",
       "9997   9/8/2022 7:36\n",
       "9998   9/8/2022 7:41\n",
       "\n",
       "[9999 rows x 1 columns]"
      ]
     },
     "execution_count": 120,
     "metadata": {},
     "output_type": "execute_result"
    }
   ],
   "source": [
    "terence"
   ]
  },
  {
   "cell_type": "code",
   "execution_count": 121,
   "id": "4f9447e0",
   "metadata": {},
   "outputs": [],
   "source": [
    "#transform it to a date format\n",
    "#terence[\"date\"] = terence[\"endTime\"].dt.date"
   ]
  },
  {
   "cell_type": "code",
   "execution_count": 148,
   "id": "032fc06d",
   "metadata": {},
   "outputs": [],
   "source": [
    "#Already in YY/MM/DD format, so we don;t have to transform it\n",
    "terence['int_endTime'] = pd.to_datetime(terence[\"endTime\"])"
   ]
  },
  {
   "cell_type": "code",
   "execution_count": 149,
   "id": "c4acced3",
   "metadata": {},
   "outputs": [
    {
     "data": {
      "text/html": [
       "<div>\n",
       "<style scoped>\n",
       "    .dataframe tbody tr th:only-of-type {\n",
       "        vertical-align: middle;\n",
       "    }\n",
       "\n",
       "    .dataframe tbody tr th {\n",
       "        vertical-align: top;\n",
       "    }\n",
       "\n",
       "    .dataframe thead th {\n",
       "        text-align: right;\n",
       "    }\n",
       "</style>\n",
       "<table border=\"1\" class=\"dataframe\">\n",
       "  <thead>\n",
       "    <tr style=\"text-align: right;\">\n",
       "      <th></th>\n",
       "      <th>Unnamed: 0.1</th>\n",
       "      <th>Unnamed: 0</th>\n",
       "      <th>endTime</th>\n",
       "      <th>int_endTime</th>\n",
       "    </tr>\n",
       "  </thead>\n",
       "  <tbody>\n",
       "    <tr>\n",
       "      <th>0</th>\n",
       "      <td>0</td>\n",
       "      <td>0</td>\n",
       "      <td>2022-06-06 10:39:00</td>\n",
       "      <td>2022-06-06 10:39:00</td>\n",
       "    </tr>\n",
       "    <tr>\n",
       "      <th>1</th>\n",
       "      <td>1</td>\n",
       "      <td>1</td>\n",
       "      <td>2022-06-06 10:43:00</td>\n",
       "      <td>2022-06-06 10:43:00</td>\n",
       "    </tr>\n",
       "    <tr>\n",
       "      <th>2</th>\n",
       "      <td>2</td>\n",
       "      <td>2</td>\n",
       "      <td>2022-06-06 10:46:00</td>\n",
       "      <td>2022-06-06 10:46:00</td>\n",
       "    </tr>\n",
       "    <tr>\n",
       "      <th>3</th>\n",
       "      <td>3</td>\n",
       "      <td>3</td>\n",
       "      <td>2022-06-06 10:49:00</td>\n",
       "      <td>2022-06-06 10:49:00</td>\n",
       "    </tr>\n",
       "    <tr>\n",
       "      <th>4</th>\n",
       "      <td>4</td>\n",
       "      <td>4</td>\n",
       "      <td>2022-06-06 10:52:00</td>\n",
       "      <td>2022-06-06 10:52:00</td>\n",
       "    </tr>\n",
       "    <tr>\n",
       "      <th>...</th>\n",
       "      <td>...</td>\n",
       "      <td>...</td>\n",
       "      <td>...</td>\n",
       "      <td>...</td>\n",
       "    </tr>\n",
       "    <tr>\n",
       "      <th>9994</th>\n",
       "      <td>9994</td>\n",
       "      <td>9994</td>\n",
       "      <td>2022-09-08 07:25:00</td>\n",
       "      <td>2022-09-08 07:25:00</td>\n",
       "    </tr>\n",
       "    <tr>\n",
       "      <th>9995</th>\n",
       "      <td>9995</td>\n",
       "      <td>9995</td>\n",
       "      <td>2022-09-08 07:30:00</td>\n",
       "      <td>2022-09-08 07:30:00</td>\n",
       "    </tr>\n",
       "    <tr>\n",
       "      <th>9996</th>\n",
       "      <td>9996</td>\n",
       "      <td>9996</td>\n",
       "      <td>2022-09-08 07:33:00</td>\n",
       "      <td>2022-09-08 07:33:00</td>\n",
       "    </tr>\n",
       "    <tr>\n",
       "      <th>9997</th>\n",
       "      <td>9997</td>\n",
       "      <td>9997</td>\n",
       "      <td>2022-09-08 07:36:00</td>\n",
       "      <td>2022-09-08 07:36:00</td>\n",
       "    </tr>\n",
       "    <tr>\n",
       "      <th>9998</th>\n",
       "      <td>9998</td>\n",
       "      <td>9998</td>\n",
       "      <td>2022-09-08 07:41:00</td>\n",
       "      <td>2022-09-08 07:41:00</td>\n",
       "    </tr>\n",
       "  </tbody>\n",
       "</table>\n",
       "<p>9999 rows × 4 columns</p>\n",
       "</div>"
      ],
      "text/plain": [
       "      Unnamed: 0.1  Unnamed: 0              endTime         int_endTime\n",
       "0                0           0  2022-06-06 10:39:00 2022-06-06 10:39:00\n",
       "1                1           1  2022-06-06 10:43:00 2022-06-06 10:43:00\n",
       "2                2           2  2022-06-06 10:46:00 2022-06-06 10:46:00\n",
       "3                3           3  2022-06-06 10:49:00 2022-06-06 10:49:00\n",
       "4                4           4  2022-06-06 10:52:00 2022-06-06 10:52:00\n",
       "...            ...         ...                  ...                 ...\n",
       "9994          9994        9994  2022-09-08 07:25:00 2022-09-08 07:25:00\n",
       "9995          9995        9995  2022-09-08 07:30:00 2022-09-08 07:30:00\n",
       "9996          9996        9996  2022-09-08 07:33:00 2022-09-08 07:33:00\n",
       "9997          9997        9997  2022-09-08 07:36:00 2022-09-08 07:36:00\n",
       "9998          9998        9998  2022-09-08 07:41:00 2022-09-08 07:41:00\n",
       "\n",
       "[9999 rows x 4 columns]"
      ]
     },
     "execution_count": 149,
     "metadata": {},
     "output_type": "execute_result"
    }
   ],
   "source": [
    "terence"
   ]
  },
  {
   "cell_type": "code",
   "execution_count": 142,
   "id": "e846ce77",
   "metadata": {},
   "outputs": [],
   "source": [
    "# I had issues displaying the dataframe as a table after transforming the values into a date format. So I had to remake a new csv file with the new date format.\n",
    "terence.to_csv(\"mahlatini.csv\")"
   ]
  },
  {
   "cell_type": "code",
   "execution_count": 143,
   "id": "0c58d7bc",
   "metadata": {},
   "outputs": [],
   "source": [
    "terence = pd.read_csv(\"mahlatini.csv\")"
   ]
  },
  {
   "cell_type": "code",
   "execution_count": 144,
   "id": "496cf153",
   "metadata": {},
   "outputs": [
    {
     "data": {
      "text/html": [
       "<div>\n",
       "<style scoped>\n",
       "    .dataframe tbody tr th:only-of-type {\n",
       "        vertical-align: middle;\n",
       "    }\n",
       "\n",
       "    .dataframe tbody tr th {\n",
       "        vertical-align: top;\n",
       "    }\n",
       "\n",
       "    .dataframe thead th {\n",
       "        text-align: right;\n",
       "    }\n",
       "</style>\n",
       "<table border=\"1\" class=\"dataframe\">\n",
       "  <thead>\n",
       "    <tr style=\"text-align: right;\">\n",
       "      <th></th>\n",
       "      <th>Unnamed: 0.1</th>\n",
       "      <th>Unnamed: 0</th>\n",
       "      <th>endTime</th>\n",
       "    </tr>\n",
       "  </thead>\n",
       "  <tbody>\n",
       "    <tr>\n",
       "      <th>0</th>\n",
       "      <td>0</td>\n",
       "      <td>0</td>\n",
       "      <td>2022-06-06 10:39:00</td>\n",
       "    </tr>\n",
       "    <tr>\n",
       "      <th>1</th>\n",
       "      <td>1</td>\n",
       "      <td>1</td>\n",
       "      <td>2022-06-06 10:43:00</td>\n",
       "    </tr>\n",
       "    <tr>\n",
       "      <th>2</th>\n",
       "      <td>2</td>\n",
       "      <td>2</td>\n",
       "      <td>2022-06-06 10:46:00</td>\n",
       "    </tr>\n",
       "    <tr>\n",
       "      <th>3</th>\n",
       "      <td>3</td>\n",
       "      <td>3</td>\n",
       "      <td>2022-06-06 10:49:00</td>\n",
       "    </tr>\n",
       "    <tr>\n",
       "      <th>4</th>\n",
       "      <td>4</td>\n",
       "      <td>4</td>\n",
       "      <td>2022-06-06 10:52:00</td>\n",
       "    </tr>\n",
       "    <tr>\n",
       "      <th>...</th>\n",
       "      <td>...</td>\n",
       "      <td>...</td>\n",
       "      <td>...</td>\n",
       "    </tr>\n",
       "    <tr>\n",
       "      <th>9994</th>\n",
       "      <td>9994</td>\n",
       "      <td>9994</td>\n",
       "      <td>2022-09-08 07:25:00</td>\n",
       "    </tr>\n",
       "    <tr>\n",
       "      <th>9995</th>\n",
       "      <td>9995</td>\n",
       "      <td>9995</td>\n",
       "      <td>2022-09-08 07:30:00</td>\n",
       "    </tr>\n",
       "    <tr>\n",
       "      <th>9996</th>\n",
       "      <td>9996</td>\n",
       "      <td>9996</td>\n",
       "      <td>2022-09-08 07:33:00</td>\n",
       "    </tr>\n",
       "    <tr>\n",
       "      <th>9997</th>\n",
       "      <td>9997</td>\n",
       "      <td>9997</td>\n",
       "      <td>2022-09-08 07:36:00</td>\n",
       "    </tr>\n",
       "    <tr>\n",
       "      <th>9998</th>\n",
       "      <td>9998</td>\n",
       "      <td>9998</td>\n",
       "      <td>2022-09-08 07:41:00</td>\n",
       "    </tr>\n",
       "  </tbody>\n",
       "</table>\n",
       "<p>9999 rows × 3 columns</p>\n",
       "</div>"
      ],
      "text/plain": [
       "      Unnamed: 0.1  Unnamed: 0              endTime\n",
       "0                0           0  2022-06-06 10:39:00\n",
       "1                1           1  2022-06-06 10:43:00\n",
       "2                2           2  2022-06-06 10:46:00\n",
       "3                3           3  2022-06-06 10:49:00\n",
       "4                4           4  2022-06-06 10:52:00\n",
       "...            ...         ...                  ...\n",
       "9994          9994        9994  2022-09-08 07:25:00\n",
       "9995          9995        9995  2022-09-08 07:30:00\n",
       "9996          9996        9996  2022-09-08 07:33:00\n",
       "9997          9997        9997  2022-09-08 07:36:00\n",
       "9998          9998        9998  2022-09-08 07:41:00\n",
       "\n",
       "[9999 rows x 3 columns]"
      ]
     },
     "execution_count": 144,
     "metadata": {},
     "output_type": "execute_result"
    }
   ],
   "source": [
    "terence"
   ]
  },
  {
   "cell_type": "code",
   "execution_count": 151,
   "id": "ecb7b3c0",
   "metadata": {},
   "outputs": [
    {
     "ename": "TypeError",
     "evalue": "unsupported operand type(s) for -: 'str' and 'str'",
     "output_type": "error",
     "traceback": [
      "\u001b[1;31m---------------------------------------------------------------------------\u001b[0m",
      "\u001b[1;31mTypeError\u001b[0m                                 Traceback (most recent call last)",
      "\u001b[1;32mC:\\Users\\Public\\Documents\\Wondershare\\CreatorTemp\\ipykernel_8968\\962174054.py\u001b[0m in \u001b[0;36m<module>\u001b[1;34m\u001b[0m\n\u001b[0;32m      3\u001b[0m \u001b[0mtime\u001b[0m\u001b[1;33m=\u001b[0m\u001b[0mterence\u001b[0m\u001b[1;33m[\u001b[0m\u001b[1;34m'int_endTime'\u001b[0m\u001b[1;33m]\u001b[0m\u001b[1;33m.\u001b[0m\u001b[0mdt\u001b[0m\u001b[1;33m.\u001b[0m\u001b[0mtime\u001b[0m\u001b[1;33m\u001b[0m\u001b[1;33m\u001b[0m\u001b[0m\n\u001b[0;32m      4\u001b[0m \u001b[0mtime\u001b[0m\u001b[1;33m\u001b[0m\u001b[1;33m\u001b[0m\u001b[0m\n\u001b[1;32m----> 5\u001b[1;33m \u001b[0mterence\u001b[0m\u001b[1;33m[\u001b[0m\u001b[1;34m\"difference\"\u001b[0m\u001b[1;33m]\u001b[0m \u001b[1;33m=\u001b[0m \u001b[0mterence\u001b[0m\u001b[1;33m[\u001b[0m\u001b[1;34m\"endTime\"\u001b[0m\u001b[1;33m]\u001b[0m\u001b[1;33m.\u001b[0m\u001b[0mdiff\u001b[0m\u001b[1;33m(\u001b[0m\u001b[1;33m)\u001b[0m\u001b[1;33m\u001b[0m\u001b[1;33m\u001b[0m\u001b[0m\n\u001b[0m\u001b[0;32m      6\u001b[0m \u001b[0mterence\u001b[0m\u001b[1;33m.\u001b[0m\u001b[0mhead\u001b[0m\u001b[1;33m(\u001b[0m\u001b[1;36m100\u001b[0m\u001b[1;33m)\u001b[0m\u001b[1;33m\u001b[0m\u001b[1;33m\u001b[0m\u001b[0m\n",
      "\u001b[1;32m~\\CS 215\\lib\\site-packages\\pandas\\core\\series.py\u001b[0m in \u001b[0;36mdiff\u001b[1;34m(self, periods)\u001b[0m\n\u001b[0;32m   2695\u001b[0m         \u001b[1;33m{\u001b[0m\u001b[0mexamples\u001b[0m\u001b[1;33m}\u001b[0m\u001b[1;33m\u001b[0m\u001b[1;33m\u001b[0m\u001b[0m\n\u001b[0;32m   2696\u001b[0m         \"\"\"\n\u001b[1;32m-> 2697\u001b[1;33m         \u001b[0mresult\u001b[0m \u001b[1;33m=\u001b[0m \u001b[0malgorithms\u001b[0m\u001b[1;33m.\u001b[0m\u001b[0mdiff\u001b[0m\u001b[1;33m(\u001b[0m\u001b[0mself\u001b[0m\u001b[1;33m.\u001b[0m\u001b[0m_values\u001b[0m\u001b[1;33m,\u001b[0m \u001b[0mperiods\u001b[0m\u001b[1;33m)\u001b[0m\u001b[1;33m\u001b[0m\u001b[1;33m\u001b[0m\u001b[0m\n\u001b[0m\u001b[0;32m   2698\u001b[0m         return self._constructor(result, index=self.index).__finalize__(\n\u001b[0;32m   2699\u001b[0m             \u001b[0mself\u001b[0m\u001b[1;33m,\u001b[0m \u001b[0mmethod\u001b[0m\u001b[1;33m=\u001b[0m\u001b[1;34m\"diff\"\u001b[0m\u001b[1;33m\u001b[0m\u001b[1;33m\u001b[0m\u001b[0m\n",
      "\u001b[1;32m~\\CS 215\\lib\\site-packages\\pandas\\core\\algorithms.py\u001b[0m in \u001b[0;36mdiff\u001b[1;34m(arr, n, axis)\u001b[0m\n\u001b[0;32m   1649\u001b[0m         \u001b[0mlag_indexer\u001b[0m \u001b[1;33m=\u001b[0m \u001b[0mtuple\u001b[0m\u001b[1;33m(\u001b[0m\u001b[0m_lag_indexer\u001b[0m\u001b[1;33m)\u001b[0m\u001b[1;33m\u001b[0m\u001b[1;33m\u001b[0m\u001b[0m\n\u001b[0;32m   1650\u001b[0m \u001b[1;33m\u001b[0m\u001b[0m\n\u001b[1;32m-> 1651\u001b[1;33m         \u001b[0mout_arr\u001b[0m\u001b[1;33m[\u001b[0m\u001b[0mres_indexer\u001b[0m\u001b[1;33m]\u001b[0m \u001b[1;33m=\u001b[0m \u001b[0mop\u001b[0m\u001b[1;33m(\u001b[0m\u001b[0marr\u001b[0m\u001b[1;33m[\u001b[0m\u001b[0mres_indexer\u001b[0m\u001b[1;33m]\u001b[0m\u001b[1;33m,\u001b[0m \u001b[0marr\u001b[0m\u001b[1;33m[\u001b[0m\u001b[0mlag_indexer\u001b[0m\u001b[1;33m]\u001b[0m\u001b[1;33m)\u001b[0m\u001b[1;33m\u001b[0m\u001b[1;33m\u001b[0m\u001b[0m\n\u001b[0m\u001b[0;32m   1652\u001b[0m \u001b[1;33m\u001b[0m\u001b[0m\n\u001b[0;32m   1653\u001b[0m     \u001b[1;32mif\u001b[0m \u001b[0mis_timedelta\u001b[0m\u001b[1;33m:\u001b[0m\u001b[1;33m\u001b[0m\u001b[1;33m\u001b[0m\u001b[0m\n",
      "\u001b[1;31mTypeError\u001b[0m: unsupported operand type(s) for -: 'str' and 'str'"
     ]
    }
   ],
   "source": [
    "#Timestamps already sorted in chronological order, I can directly make the new column providing the difference between a timestamp and a previous one.\n",
    "#terence[\"difference\"] = terence.diff(periods=1, axis=0)\n",
    "time=terence['int_endTime'].dt.time\n",
    "time\n",
    "terence[\"difference\"] = terence[\"endTime\"].diff()\n",
    "terence.head(100)"
   ]
  },
  {
   "cell_type": "code",
   "execution_count": 146,
   "id": "49a92b28",
   "metadata": {},
   "outputs": [
    {
     "name": "stdout",
     "output_type": "stream",
     "text": [
      "<class 'pandas.core.frame.DataFrame'>\n",
      "RangeIndex: 9999 entries, 0 to 9998\n",
      "Data columns (total 3 columns):\n",
      " #   Column        Non-Null Count  Dtype \n",
      "---  ------        --------------  ----- \n",
      " 0   Unnamed: 0.1  9999 non-null   int64 \n",
      " 1   Unnamed: 0    9999 non-null   int64 \n",
      " 2   endTime       9997 non-null   object\n",
      "dtypes: int64(2), object(1)\n",
      "memory usage: 234.5+ KB\n"
     ]
    }
   ],
   "source": [
    "#Checking the variabkle type.\n",
    "terence.info()"
   ]
  },
  {
   "cell_type": "raw",
   "id": "bfa3c241",
   "metadata": {},
   "source": []
  }
 ],
 "metadata": {
  "kernelspec": {
   "display_name": "Python 3 (ipykernel)",
   "language": "python",
   "name": "python3"
  },
  "language_info": {
   "codemirror_mode": {
    "name": "ipython",
    "version": 3
   },
   "file_extension": ".py",
   "mimetype": "text/x-python",
   "name": "python",
   "nbconvert_exporter": "python",
   "pygments_lexer": "ipython3",
   "version": "3.9.13"
  }
 },
 "nbformat": 4,
 "nbformat_minor": 5
}
