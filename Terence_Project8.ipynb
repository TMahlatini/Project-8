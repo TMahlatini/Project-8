{
 "cells": [
  {
   "cell_type": "markdown",
   "id": "e4c3a401",
   "metadata": {},
   "source": [
    "# Working with personal data requests\n"
   ]
  },
  {
   "cell_type": "code",
   "execution_count": 257,
   "id": "59b581a3",
   "metadata": {},
   "outputs": [],
   "source": [
    "import pandas as pd\n",
    "import numpy as np\n",
    "import csv\n",
    "import seaborn as sns"
   ]
  },
  {
   "cell_type": "markdown",
   "id": "0be6acb9",
   "metadata": {},
   "source": [
    "# Part 1"
   ]
  },
  {
   "cell_type": "code",
   "execution_count": 115,
   "id": "311eabc7",
   "metadata": {},
   "outputs": [
    {
     "data": {
      "text/html": [
       "<div>\n",
       "<style scoped>\n",
       "    .dataframe tbody tr th:only-of-type {\n",
       "        vertical-align: middle;\n",
       "    }\n",
       "\n",
       "    .dataframe tbody tr th {\n",
       "        vertical-align: top;\n",
       "    }\n",
       "\n",
       "    .dataframe thead th {\n",
       "        text-align: right;\n",
       "    }\n",
       "</style>\n",
       "<table border=\"1\" class=\"dataframe\">\n",
       "  <thead>\n",
       "    <tr style=\"text-align: right;\">\n",
       "      <th></th>\n",
       "      <th>endTime</th>\n",
       "      <th>artistName</th>\n",
       "      <th>trackName</th>\n",
       "      <th>msPlayed</th>\n",
       "    </tr>\n",
       "  </thead>\n",
       "  <tbody>\n",
       "    <tr>\n",
       "      <th>0</th>\n",
       "      <td>2022-06-06 10:39</td>\n",
       "      <td>Jazmine Sullivan</td>\n",
       "      <td>Bust Your Windows</td>\n",
       "      <td>266306</td>\n",
       "    </tr>\n",
       "    <tr>\n",
       "      <th>1</th>\n",
       "      <td>2022-06-06 10:43</td>\n",
       "      <td>Big Sean</td>\n",
       "      <td>Beware</td>\n",
       "      <td>235186</td>\n",
       "    </tr>\n",
       "    <tr>\n",
       "      <th>2</th>\n",
       "      <td>2022-06-06 10:46</td>\n",
       "      <td>Pop Smoke</td>\n",
       "      <td>Got It On Me</td>\n",
       "      <td>164579</td>\n",
       "    </tr>\n",
       "    <tr>\n",
       "      <th>3</th>\n",
       "      <td>2022-06-06 10:49</td>\n",
       "      <td>Pop Smoke</td>\n",
       "      <td>30 (feat. Bizzy Banks)</td>\n",
       "      <td>228251</td>\n",
       "    </tr>\n",
       "    <tr>\n",
       "      <th>4</th>\n",
       "      <td>2022-06-06 10:52</td>\n",
       "      <td>Jon Bellion</td>\n",
       "      <td>Stupid Deep</td>\n",
       "      <td>178176</td>\n",
       "    </tr>\n",
       "  </tbody>\n",
       "</table>\n",
       "</div>"
      ],
      "text/plain": [
       "            endTime        artistName               trackName  msPlayed\n",
       "0  2022-06-06 10:39  Jazmine Sullivan       Bust Your Windows    266306\n",
       "1  2022-06-06 10:43          Big Sean                  Beware    235186\n",
       "2  2022-06-06 10:46         Pop Smoke            Got It On Me    164579\n",
       "3  2022-06-06 10:49         Pop Smoke  30 (feat. Bizzy Banks)    228251\n",
       "4  2022-06-06 10:52       Jon Bellion             Stupid Deep    178176"
      ]
     },
     "execution_count": 115,
     "metadata": {},
     "output_type": "execute_result"
    }
   ],
   "source": [
    "# Your code here\n",
    "df = pd.read_json(\"StreamingHistory1.json\")\n",
    "df.head(5)"
   ]
  },
  {
   "cell_type": "code",
   "execution_count": 62,
   "id": "effa7085",
   "metadata": {},
   "outputs": [
    {
     "data": {
      "text/plain": [
       "0    2022-06-06 10:39\n",
       "1    2022-06-06 10:43\n",
       "2    2022-06-06 10:46\n",
       "3    2022-06-06 10:49\n",
       "4    2022-06-06 10:52\n",
       "5    2022-06-06 10:57\n",
       "6    2022-06-06 10:58\n",
       "7    2022-06-06 10:59\n",
       "8    2022-06-06 10:59\n",
       "9    2022-06-06 11:03\n",
       "Name: endTime, dtype: object"
      ]
     },
     "execution_count": 62,
     "metadata": {},
     "output_type": "execute_result"
    }
   ],
   "source": [
    "timestamps = df.endTime \n",
    "timestamps.head(10)"
   ]
  },
  {
   "cell_type": "code",
   "execution_count": 50,
   "id": "b05d63c1",
   "metadata": {},
   "outputs": [],
   "source": [
    "# At the end, make sure you export your dataframe (containing timestamps) using .to_csv\n",
    "# df.to_csv(\"filename.csv\")\n"
   ]
  },
  {
   "cell_type": "markdown",
   "id": "d6f76fde",
   "metadata": {},
   "source": [
    "# Part 2 "
   ]
  },
  {
   "cell_type": "code",
   "execution_count": 51,
   "id": "b3dbdc4e",
   "metadata": {},
   "outputs": [
    {
     "data": {
      "text/html": [
       "<div>\n",
       "<style scoped>\n",
       "    .dataframe tbody tr th:only-of-type {\n",
       "        vertical-align: middle;\n",
       "    }\n",
       "\n",
       "    .dataframe tbody tr th {\n",
       "        vertical-align: top;\n",
       "    }\n",
       "\n",
       "    .dataframe thead th {\n",
       "        text-align: right;\n",
       "    }\n",
       "</style>\n",
       "<table border=\"1\" class=\"dataframe\">\n",
       "  <thead>\n",
       "    <tr style=\"text-align: right;\">\n",
       "      <th></th>\n",
       "      <th>Unnamed: 0</th>\n",
       "      <th>time</th>\n",
       "    </tr>\n",
       "  </thead>\n",
       "  <tbody>\n",
       "    <tr>\n",
       "      <th>0</th>\n",
       "      <td>0</td>\n",
       "      <td>2023-04-19T22:04:48.331Z</td>\n",
       "    </tr>\n",
       "    <tr>\n",
       "      <th>1</th>\n",
       "      <td>1</td>\n",
       "      <td>2023-04-19T21:59:00.004Z</td>\n",
       "    </tr>\n",
       "    <tr>\n",
       "      <th>2</th>\n",
       "      <td>2</td>\n",
       "      <td>2023-04-19T21:58:37.669Z</td>\n",
       "    </tr>\n",
       "    <tr>\n",
       "      <th>3</th>\n",
       "      <td>3</td>\n",
       "      <td>2023-04-19T21:58:25.254Z</td>\n",
       "    </tr>\n",
       "    <tr>\n",
       "      <th>4</th>\n",
       "      <td>4</td>\n",
       "      <td>2023-04-19T03:35:12.207Z</td>\n",
       "    </tr>\n",
       "  </tbody>\n",
       "</table>\n",
       "</div>"
      ],
      "text/plain": [
       "   Unnamed: 0                      time\n",
       "0           0  2023-04-19T22:04:48.331Z\n",
       "1           1  2023-04-19T21:59:00.004Z\n",
       "2           2  2023-04-19T21:58:37.669Z\n",
       "3           3  2023-04-19T21:58:25.254Z\n",
       "4           4  2023-04-19T03:35:12.207Z"
      ]
     },
     "execution_count": 51,
     "metadata": {},
     "output_type": "execute_result"
    }
   ],
   "source": [
    "chetima = pd.read_csv(\"chetima-timestamps.csv\")\n",
    "chetima.head(5)"
   ]
  },
  {
   "cell_type": "code",
   "execution_count": 52,
   "id": "a9c90f48",
   "metadata": {},
   "outputs": [
    {
     "data": {
      "text/html": [
       "<div>\n",
       "<style scoped>\n",
       "    .dataframe tbody tr th:only-of-type {\n",
       "        vertical-align: middle;\n",
       "    }\n",
       "\n",
       "    .dataframe tbody tr th {\n",
       "        vertical-align: top;\n",
       "    }\n",
       "\n",
       "    .dataframe thead th {\n",
       "        text-align: right;\n",
       "    }\n",
       "</style>\n",
       "<table border=\"1\" class=\"dataframe\">\n",
       "  <thead>\n",
       "    <tr style=\"text-align: right;\">\n",
       "      <th></th>\n",
       "      <th>Unnamed: 0</th>\n",
       "      <th>time</th>\n",
       "    </tr>\n",
       "  </thead>\n",
       "  <tbody>\n",
       "    <tr>\n",
       "      <th>19970</th>\n",
       "      <td>19970</td>\n",
       "      <td>2019-04-07T12:30:57.931Z</td>\n",
       "    </tr>\n",
       "    <tr>\n",
       "      <th>19969</th>\n",
       "      <td>19969</td>\n",
       "      <td>2019-04-07T21:18:22.625Z</td>\n",
       "    </tr>\n",
       "    <tr>\n",
       "      <th>19968</th>\n",
       "      <td>19968</td>\n",
       "      <td>2019-04-07T21:27:52.689Z</td>\n",
       "    </tr>\n",
       "    <tr>\n",
       "      <th>19967</th>\n",
       "      <td>19967</td>\n",
       "      <td>2019-04-09T21:34:21.036Z</td>\n",
       "    </tr>\n",
       "    <tr>\n",
       "      <th>19966</th>\n",
       "      <td>19966</td>\n",
       "      <td>2019-04-10T12:00:53.076Z</td>\n",
       "    </tr>\n",
       "    <tr>\n",
       "      <th>19965</th>\n",
       "      <td>19965</td>\n",
       "      <td>2019-04-13T16:03:42.789Z</td>\n",
       "    </tr>\n",
       "    <tr>\n",
       "      <th>19964</th>\n",
       "      <td>19964</td>\n",
       "      <td>2019-04-13T22:26:12.348Z</td>\n",
       "    </tr>\n",
       "    <tr>\n",
       "      <th>19963</th>\n",
       "      <td>19963</td>\n",
       "      <td>2019-04-13T22:27:07.778Z</td>\n",
       "    </tr>\n",
       "    <tr>\n",
       "      <th>19962</th>\n",
       "      <td>19962</td>\n",
       "      <td>2019-04-13T22:30:38.591Z</td>\n",
       "    </tr>\n",
       "    <tr>\n",
       "      <th>19961</th>\n",
       "      <td>19961</td>\n",
       "      <td>2019-04-13T22:35:46.208Z</td>\n",
       "    </tr>\n",
       "  </tbody>\n",
       "</table>\n",
       "</div>"
      ],
      "text/plain": [
       "       Unnamed: 0                      time\n",
       "19970       19970  2019-04-07T12:30:57.931Z\n",
       "19969       19969  2019-04-07T21:18:22.625Z\n",
       "19968       19968  2019-04-07T21:27:52.689Z\n",
       "19967       19967  2019-04-09T21:34:21.036Z\n",
       "19966       19966  2019-04-10T12:00:53.076Z\n",
       "19965       19965  2019-04-13T16:03:42.789Z\n",
       "19964       19964  2019-04-13T22:26:12.348Z\n",
       "19963       19963  2019-04-13T22:27:07.778Z\n",
       "19962       19962  2019-04-13T22:30:38.591Z\n",
       "19961       19961  2019-04-13T22:35:46.208Z"
      ]
     },
     "execution_count": 52,
     "metadata": {},
     "output_type": "execute_result"
    }
   ],
   "source": [
    "chetima = chetima.sort_values(by='time', ascending = True)\n",
    "chetima.head(10)"
   ]
  },
  {
   "cell_type": "code",
   "execution_count": 53,
   "id": "eb6f4673",
   "metadata": {},
   "outputs": [],
   "source": [
    "chetima.drop(columns = \"Unnamed: 0\", inplace = True)\n"
   ]
  },
  {
   "cell_type": "code",
   "execution_count": 63,
   "id": "ea9f3647",
   "metadata": {},
   "outputs": [
    {
     "data": {
      "text/html": [
       "<div>\n",
       "<style scoped>\n",
       "    .dataframe tbody tr th:only-of-type {\n",
       "        vertical-align: middle;\n",
       "    }\n",
       "\n",
       "    .dataframe tbody tr th {\n",
       "        vertical-align: top;\n",
       "    }\n",
       "\n",
       "    .dataframe thead th {\n",
       "        text-align: right;\n",
       "    }\n",
       "</style>\n",
       "<table border=\"1\" class=\"dataframe\">\n",
       "  <thead>\n",
       "    <tr style=\"text-align: right;\">\n",
       "      <th></th>\n",
       "      <th>time</th>\n",
       "      <th>time_delta</th>\n",
       "    </tr>\n",
       "  </thead>\n",
       "  <tbody>\n",
       "    <tr>\n",
       "      <th>19970</th>\n",
       "      <td>2019-04-07 12:30:57.931000+00:00</td>\n",
       "      <td>NaT</td>\n",
       "    </tr>\n",
       "    <tr>\n",
       "      <th>19969</th>\n",
       "      <td>2019-04-07 21:18:22.625000+00:00</td>\n",
       "      <td>0 days 08:47:24.694000</td>\n",
       "    </tr>\n",
       "    <tr>\n",
       "      <th>19968</th>\n",
       "      <td>2019-04-07 21:27:52.689000+00:00</td>\n",
       "      <td>0 days 00:09:30.064000</td>\n",
       "    </tr>\n",
       "    <tr>\n",
       "      <th>19967</th>\n",
       "      <td>2019-04-09 21:34:21.036000+00:00</td>\n",
       "      <td>2 days 00:06:28.347000</td>\n",
       "    </tr>\n",
       "    <tr>\n",
       "      <th>19966</th>\n",
       "      <td>2019-04-10 12:00:53.076000+00:00</td>\n",
       "      <td>0 days 14:26:32.040000</td>\n",
       "    </tr>\n",
       "  </tbody>\n",
       "</table>\n",
       "</div>"
      ],
      "text/plain": [
       "                                  time             time_delta\n",
       "19970 2019-04-07 12:30:57.931000+00:00                    NaT\n",
       "19969 2019-04-07 21:18:22.625000+00:00 0 days 08:47:24.694000\n",
       "19968 2019-04-07 21:27:52.689000+00:00 0 days 00:09:30.064000\n",
       "19967 2019-04-09 21:34:21.036000+00:00 2 days 00:06:28.347000\n",
       "19966 2019-04-10 12:00:53.076000+00:00 0 days 14:26:32.040000"
      ]
     },
     "execution_count": 63,
     "metadata": {},
     "output_type": "execute_result"
    }
   ],
   "source": [
    "chetima.head(5)"
   ]
  },
  {
   "cell_type": "code",
   "execution_count": 55,
   "id": "2a9d81e7",
   "metadata": {},
   "outputs": [],
   "source": [
    "chetima.time = pd.to_datetime(chetima.time, errors=\"ignore\")"
   ]
  },
  {
   "cell_type": "code",
   "execution_count": 56,
   "id": "98f9a709",
   "metadata": {},
   "outputs": [
    {
     "data": {
      "text/html": [
       "<div>\n",
       "<style scoped>\n",
       "    .dataframe tbody tr th:only-of-type {\n",
       "        vertical-align: middle;\n",
       "    }\n",
       "\n",
       "    .dataframe tbody tr th {\n",
       "        vertical-align: top;\n",
       "    }\n",
       "\n",
       "    .dataframe thead th {\n",
       "        text-align: right;\n",
       "    }\n",
       "</style>\n",
       "<table border=\"1\" class=\"dataframe\">\n",
       "  <thead>\n",
       "    <tr style=\"text-align: right;\">\n",
       "      <th></th>\n",
       "      <th>time</th>\n",
       "    </tr>\n",
       "  </thead>\n",
       "  <tbody>\n",
       "    <tr>\n",
       "      <th>19970</th>\n",
       "      <td>2019-04-07 12:30:57.931000+00:00</td>\n",
       "    </tr>\n",
       "    <tr>\n",
       "      <th>19969</th>\n",
       "      <td>2019-04-07 21:18:22.625000+00:00</td>\n",
       "    </tr>\n",
       "    <tr>\n",
       "      <th>19968</th>\n",
       "      <td>2019-04-07 21:27:52.689000+00:00</td>\n",
       "    </tr>\n",
       "    <tr>\n",
       "      <th>19967</th>\n",
       "      <td>2019-04-09 21:34:21.036000+00:00</td>\n",
       "    </tr>\n",
       "    <tr>\n",
       "      <th>19966</th>\n",
       "      <td>2019-04-10 12:00:53.076000+00:00</td>\n",
       "    </tr>\n",
       "  </tbody>\n",
       "</table>\n",
       "</div>"
      ],
      "text/plain": [
       "                                  time\n",
       "19970 2019-04-07 12:30:57.931000+00:00\n",
       "19969 2019-04-07 21:18:22.625000+00:00\n",
       "19968 2019-04-07 21:27:52.689000+00:00\n",
       "19967 2019-04-09 21:34:21.036000+00:00\n",
       "19966 2019-04-10 12:00:53.076000+00:00"
      ]
     },
     "execution_count": 56,
     "metadata": {},
     "output_type": "execute_result"
    }
   ],
   "source": [
    "chetima.head(5)"
   ]
  },
  {
   "cell_type": "code",
   "execution_count": 57,
   "id": "fc9814b7",
   "metadata": {},
   "outputs": [],
   "source": [
    "chetima[\"time_delta\"] = chetima.time.diff()"
   ]
  },
  {
   "cell_type": "code",
   "execution_count": 64,
   "id": "6168582b",
   "metadata": {},
   "outputs": [
    {
     "data": {
      "text/html": [
       "<div>\n",
       "<style scoped>\n",
       "    .dataframe tbody tr th:only-of-type {\n",
       "        vertical-align: middle;\n",
       "    }\n",
       "\n",
       "    .dataframe tbody tr th {\n",
       "        vertical-align: top;\n",
       "    }\n",
       "\n",
       "    .dataframe thead th {\n",
       "        text-align: right;\n",
       "    }\n",
       "</style>\n",
       "<table border=\"1\" class=\"dataframe\">\n",
       "  <thead>\n",
       "    <tr style=\"text-align: right;\">\n",
       "      <th></th>\n",
       "      <th>time</th>\n",
       "      <th>time_delta</th>\n",
       "    </tr>\n",
       "  </thead>\n",
       "  <tbody>\n",
       "    <tr>\n",
       "      <th>19970</th>\n",
       "      <td>2019-04-07 12:30:57.931000+00:00</td>\n",
       "      <td>NaT</td>\n",
       "    </tr>\n",
       "    <tr>\n",
       "      <th>19969</th>\n",
       "      <td>2019-04-07 21:18:22.625000+00:00</td>\n",
       "      <td>0 days 08:47:24.694000</td>\n",
       "    </tr>\n",
       "    <tr>\n",
       "      <th>19968</th>\n",
       "      <td>2019-04-07 21:27:52.689000+00:00</td>\n",
       "      <td>0 days 00:09:30.064000</td>\n",
       "    </tr>\n",
       "    <tr>\n",
       "      <th>19967</th>\n",
       "      <td>2019-04-09 21:34:21.036000+00:00</td>\n",
       "      <td>2 days 00:06:28.347000</td>\n",
       "    </tr>\n",
       "    <tr>\n",
       "      <th>19966</th>\n",
       "      <td>2019-04-10 12:00:53.076000+00:00</td>\n",
       "      <td>0 days 14:26:32.040000</td>\n",
       "    </tr>\n",
       "  </tbody>\n",
       "</table>\n",
       "</div>"
      ],
      "text/plain": [
       "                                  time             time_delta\n",
       "19970 2019-04-07 12:30:57.931000+00:00                    NaT\n",
       "19969 2019-04-07 21:18:22.625000+00:00 0 days 08:47:24.694000\n",
       "19968 2019-04-07 21:27:52.689000+00:00 0 days 00:09:30.064000\n",
       "19967 2019-04-09 21:34:21.036000+00:00 2 days 00:06:28.347000\n",
       "19966 2019-04-10 12:00:53.076000+00:00 0 days 14:26:32.040000"
      ]
     },
     "execution_count": 64,
     "metadata": {},
     "output_type": "execute_result"
    }
   ],
   "source": [
    "chetima.head(5)"
   ]
  },
  {
   "cell_type": "code",
   "execution_count": 61,
   "id": "b3cb3d1b",
   "metadata": {},
   "outputs": [
    {
     "data": {
      "text/plain": [
       "count                        19970\n",
       "mean     0 days 01:46:14.643485227\n",
       "std      0 days 08:49:36.550994119\n",
       "min         0 days 00:00:00.139000\n",
       "25%         0 days 00:01:10.652750\n",
       "50%         0 days 00:04:45.097000\n",
       "75%         0 days 00:20:33.384750\n",
       "max        15 days 00:34:23.244000\n",
       "Name: time_delta, dtype: object"
      ]
     },
     "execution_count": 61,
     "metadata": {},
     "output_type": "execute_result"
    }
   ],
   "source": [
    "chetima.time_delta.describe()"
   ]
  },
  {
   "cell_type": "markdown",
   "id": "e3b57fb5",
   "metadata": {},
   "source": [
    "### Part 2.3\n",
    "The longest time between timestamps is roughly 15 days  and the average is 1 hr 46 mins and 14 secs. "
   ]
  },
  {
   "cell_type": "code",
   "execution_count": 99,
   "id": "1228db74",
   "metadata": {},
   "outputs": [],
   "source": [
    "# Because the data is accross three years, I had to index using both year and dayofyear so that I could an accurate \n",
    "#count of the day with the most timestamps. First I get the year with the most timestamps and then I get the day\n",
    "# with the most time stamps in that year. \n",
    "chetima[\"day\"] = chetima.time.dt.dayofyear\n",
    "chetima[\"year\"] = chetima.time.dt.year"
   ]
  },
  {
   "cell_type": "code",
   "execution_count": 100,
   "id": "8345ed88",
   "metadata": {},
   "outputs": [
    {
     "data": {
      "text/html": [
       "<div>\n",
       "<style scoped>\n",
       "    .dataframe tbody tr th:only-of-type {\n",
       "        vertical-align: middle;\n",
       "    }\n",
       "\n",
       "    .dataframe tbody tr th {\n",
       "        vertical-align: top;\n",
       "    }\n",
       "\n",
       "    .dataframe thead th {\n",
       "        text-align: right;\n",
       "    }\n",
       "</style>\n",
       "<table border=\"1\" class=\"dataframe\">\n",
       "  <thead>\n",
       "    <tr style=\"text-align: right;\">\n",
       "      <th></th>\n",
       "      <th>time</th>\n",
       "      <th>time_delta</th>\n",
       "      <th>day</th>\n",
       "      <th>year</th>\n",
       "    </tr>\n",
       "  </thead>\n",
       "  <tbody>\n",
       "    <tr>\n",
       "      <th>19970</th>\n",
       "      <td>2019-04-07 12:30:57.931000+00:00</td>\n",
       "      <td>NaT</td>\n",
       "      <td>97</td>\n",
       "      <td>2019</td>\n",
       "    </tr>\n",
       "    <tr>\n",
       "      <th>19969</th>\n",
       "      <td>2019-04-07 21:18:22.625000+00:00</td>\n",
       "      <td>0 days 08:47:24.694000</td>\n",
       "      <td>97</td>\n",
       "      <td>2019</td>\n",
       "    </tr>\n",
       "    <tr>\n",
       "      <th>19968</th>\n",
       "      <td>2019-04-07 21:27:52.689000+00:00</td>\n",
       "      <td>0 days 00:09:30.064000</td>\n",
       "      <td>97</td>\n",
       "      <td>2019</td>\n",
       "    </tr>\n",
       "    <tr>\n",
       "      <th>19967</th>\n",
       "      <td>2019-04-09 21:34:21.036000+00:00</td>\n",
       "      <td>2 days 00:06:28.347000</td>\n",
       "      <td>99</td>\n",
       "      <td>2019</td>\n",
       "    </tr>\n",
       "    <tr>\n",
       "      <th>19966</th>\n",
       "      <td>2019-04-10 12:00:53.076000+00:00</td>\n",
       "      <td>0 days 14:26:32.040000</td>\n",
       "      <td>100</td>\n",
       "      <td>2019</td>\n",
       "    </tr>\n",
       "    <tr>\n",
       "      <th>19965</th>\n",
       "      <td>2019-04-13 16:03:42.789000+00:00</td>\n",
       "      <td>3 days 04:02:49.713000</td>\n",
       "      <td>103</td>\n",
       "      <td>2019</td>\n",
       "    </tr>\n",
       "    <tr>\n",
       "      <th>19964</th>\n",
       "      <td>2019-04-13 22:26:12.348000+00:00</td>\n",
       "      <td>0 days 06:22:29.559000</td>\n",
       "      <td>103</td>\n",
       "      <td>2019</td>\n",
       "    </tr>\n",
       "    <tr>\n",
       "      <th>19963</th>\n",
       "      <td>2019-04-13 22:27:07.778000+00:00</td>\n",
       "      <td>0 days 00:00:55.430000</td>\n",
       "      <td>103</td>\n",
       "      <td>2019</td>\n",
       "    </tr>\n",
       "    <tr>\n",
       "      <th>19962</th>\n",
       "      <td>2019-04-13 22:30:38.591000+00:00</td>\n",
       "      <td>0 days 00:03:30.813000</td>\n",
       "      <td>103</td>\n",
       "      <td>2019</td>\n",
       "    </tr>\n",
       "    <tr>\n",
       "      <th>19961</th>\n",
       "      <td>2019-04-13 22:35:46.208000+00:00</td>\n",
       "      <td>0 days 00:05:07.617000</td>\n",
       "      <td>103</td>\n",
       "      <td>2019</td>\n",
       "    </tr>\n",
       "  </tbody>\n",
       "</table>\n",
       "</div>"
      ],
      "text/plain": [
       "                                  time             time_delta  day  year\n",
       "19970 2019-04-07 12:30:57.931000+00:00                    NaT   97  2019\n",
       "19969 2019-04-07 21:18:22.625000+00:00 0 days 08:47:24.694000   97  2019\n",
       "19968 2019-04-07 21:27:52.689000+00:00 0 days 00:09:30.064000   97  2019\n",
       "19967 2019-04-09 21:34:21.036000+00:00 2 days 00:06:28.347000   99  2019\n",
       "19966 2019-04-10 12:00:53.076000+00:00 0 days 14:26:32.040000  100  2019\n",
       "19965 2019-04-13 16:03:42.789000+00:00 3 days 04:02:49.713000  103  2019\n",
       "19964 2019-04-13 22:26:12.348000+00:00 0 days 06:22:29.559000  103  2019\n",
       "19963 2019-04-13 22:27:07.778000+00:00 0 days 00:00:55.430000  103  2019\n",
       "19962 2019-04-13 22:30:38.591000+00:00 0 days 00:03:30.813000  103  2019\n",
       "19961 2019-04-13 22:35:46.208000+00:00 0 days 00:05:07.617000  103  2019"
      ]
     },
     "execution_count": 100,
     "metadata": {},
     "output_type": "execute_result"
    }
   ],
   "source": [
    "chetima.head(10)"
   ]
  },
  {
   "cell_type": "code",
   "execution_count": 104,
   "id": "a1212c8c",
   "metadata": {},
   "outputs": [
    {
     "data": {
      "text/plain": [
       "2022    7930\n",
       "2023    4808\n",
       "2019    2818\n",
       "2021    2640\n",
       "2020    1775\n",
       "Name: year, dtype: int64"
      ]
     },
     "execution_count": 104,
     "metadata": {},
     "output_type": "execute_result"
    }
   ],
   "source": [
    "chetima.year.value_counts()"
   ]
  },
  {
   "cell_type": "code",
   "execution_count": 106,
   "id": "2a2a7ad0",
   "metadata": {},
   "outputs": [
    {
     "data": {
      "text/html": [
       "<div>\n",
       "<style scoped>\n",
       "    .dataframe tbody tr th:only-of-type {\n",
       "        vertical-align: middle;\n",
       "    }\n",
       "\n",
       "    .dataframe tbody tr th {\n",
       "        vertical-align: top;\n",
       "    }\n",
       "\n",
       "    .dataframe thead th {\n",
       "        text-align: right;\n",
       "    }\n",
       "</style>\n",
       "<table border=\"1\" class=\"dataframe\">\n",
       "  <thead>\n",
       "    <tr style=\"text-align: right;\">\n",
       "      <th></th>\n",
       "      <th>time</th>\n",
       "      <th>time_delta</th>\n",
       "      <th>day</th>\n",
       "      <th>year</th>\n",
       "    </tr>\n",
       "  </thead>\n",
       "  <tbody>\n",
       "    <tr>\n",
       "      <th>12737</th>\n",
       "      <td>2022-01-01 00:02:44.622000+00:00</td>\n",
       "      <td>0 days 00:18:41.056000</td>\n",
       "      <td>1</td>\n",
       "      <td>2022</td>\n",
       "    </tr>\n",
       "    <tr>\n",
       "      <th>12736</th>\n",
       "      <td>2022-01-01 01:56:10.539000+00:00</td>\n",
       "      <td>0 days 01:53:25.917000</td>\n",
       "      <td>1</td>\n",
       "      <td>2022</td>\n",
       "    </tr>\n",
       "    <tr>\n",
       "      <th>12735</th>\n",
       "      <td>2022-01-01 02:04:08.698000+00:00</td>\n",
       "      <td>0 days 00:07:58.159000</td>\n",
       "      <td>1</td>\n",
       "      <td>2022</td>\n",
       "    </tr>\n",
       "    <tr>\n",
       "      <th>12734</th>\n",
       "      <td>2022-01-01 02:05:59.573000+00:00</td>\n",
       "      <td>0 days 00:01:50.875000</td>\n",
       "      <td>1</td>\n",
       "      <td>2022</td>\n",
       "    </tr>\n",
       "    <tr>\n",
       "      <th>12733</th>\n",
       "      <td>2022-01-01 05:47:40.521000+00:00</td>\n",
       "      <td>0 days 03:41:40.948000</td>\n",
       "      <td>1</td>\n",
       "      <td>2022</td>\n",
       "    </tr>\n",
       "    <tr>\n",
       "      <th>12732</th>\n",
       "      <td>2022-01-01 05:48:23.328000+00:00</td>\n",
       "      <td>0 days 00:00:42.807000</td>\n",
       "      <td>1</td>\n",
       "      <td>2022</td>\n",
       "    </tr>\n",
       "    <tr>\n",
       "      <th>12731</th>\n",
       "      <td>2022-01-01 05:48:24.203000+00:00</td>\n",
       "      <td>0 days 00:00:00.875000</td>\n",
       "      <td>1</td>\n",
       "      <td>2022</td>\n",
       "    </tr>\n",
       "    <tr>\n",
       "      <th>12730</th>\n",
       "      <td>2022-01-01 05:48:25.871000+00:00</td>\n",
       "      <td>0 days 00:00:01.668000</td>\n",
       "      <td>1</td>\n",
       "      <td>2022</td>\n",
       "    </tr>\n",
       "    <tr>\n",
       "      <th>12729</th>\n",
       "      <td>2022-01-01 05:48:56.486000+00:00</td>\n",
       "      <td>0 days 00:00:30.615000</td>\n",
       "      <td>1</td>\n",
       "      <td>2022</td>\n",
       "    </tr>\n",
       "    <tr>\n",
       "      <th>12728</th>\n",
       "      <td>2022-01-01 05:49:32.942000+00:00</td>\n",
       "      <td>0 days 00:00:36.456000</td>\n",
       "      <td>1</td>\n",
       "      <td>2022</td>\n",
       "    </tr>\n",
       "  </tbody>\n",
       "</table>\n",
       "</div>"
      ],
      "text/plain": [
       "                                  time             time_delta  day  year\n",
       "12737 2022-01-01 00:02:44.622000+00:00 0 days 00:18:41.056000    1  2022\n",
       "12736 2022-01-01 01:56:10.539000+00:00 0 days 01:53:25.917000    1  2022\n",
       "12735 2022-01-01 02:04:08.698000+00:00 0 days 00:07:58.159000    1  2022\n",
       "12734 2022-01-01 02:05:59.573000+00:00 0 days 00:01:50.875000    1  2022\n",
       "12733 2022-01-01 05:47:40.521000+00:00 0 days 03:41:40.948000    1  2022\n",
       "12732 2022-01-01 05:48:23.328000+00:00 0 days 00:00:42.807000    1  2022\n",
       "12731 2022-01-01 05:48:24.203000+00:00 0 days 00:00:00.875000    1  2022\n",
       "12730 2022-01-01 05:48:25.871000+00:00 0 days 00:00:01.668000    1  2022\n",
       "12729 2022-01-01 05:48:56.486000+00:00 0 days 00:00:30.615000    1  2022\n",
       "12728 2022-01-01 05:49:32.942000+00:00 0 days 00:00:36.456000    1  2022"
      ]
     },
     "execution_count": 106,
     "metadata": {},
     "output_type": "execute_result"
    }
   ],
   "source": [
    "year_2022 = chetima[chetima.year == 2022]\n",
    "year_2022.head(10)"
   ]
  },
  {
   "cell_type": "code",
   "execution_count": 107,
   "id": "397d8958",
   "metadata": {},
   "outputs": [
    {
     "data": {
      "text/plain": [
       "362    74\n",
       "87     72\n",
       "365    66\n",
       "67     65\n",
       "128    64\n",
       "       ..\n",
       "165     2\n",
       "224     2\n",
       "244     1\n",
       "247     1\n",
       "233     1\n",
       "Name: day, Length: 349, dtype: int64"
      ]
     },
     "execution_count": 107,
     "metadata": {},
     "output_type": "execute_result"
    }
   ],
   "source": [
    "year_2022.day.value_counts()"
   ]
  },
  {
   "cell_type": "code",
   "execution_count": 110,
   "id": "c41e333f",
   "metadata": {},
   "outputs": [
    {
     "data": {
      "text/html": [
       "<div>\n",
       "<style scoped>\n",
       "    .dataframe tbody tr th:only-of-type {\n",
       "        vertical-align: middle;\n",
       "    }\n",
       "\n",
       "    .dataframe tbody tr th {\n",
       "        vertical-align: top;\n",
       "    }\n",
       "\n",
       "    .dataframe thead th {\n",
       "        text-align: right;\n",
       "    }\n",
       "</style>\n",
       "<table border=\"1\" class=\"dataframe\">\n",
       "  <thead>\n",
       "    <tr style=\"text-align: right;\">\n",
       "      <th></th>\n",
       "      <th>time</th>\n",
       "      <th>time_delta</th>\n",
       "      <th>day</th>\n",
       "      <th>year</th>\n",
       "    </tr>\n",
       "  </thead>\n",
       "  <tbody>\n",
       "    <tr>\n",
       "      <th>10770</th>\n",
       "      <td>2022-03-15 00:19:13.287000+00:00</td>\n",
       "      <td>0 days 01:49:12.705000</td>\n",
       "      <td>74</td>\n",
       "      <td>2022</td>\n",
       "    </tr>\n",
       "    <tr>\n",
       "      <th>10769</th>\n",
       "      <td>2022-03-15 00:54:29.270000+00:00</td>\n",
       "      <td>0 days 00:35:15.983000</td>\n",
       "      <td>74</td>\n",
       "      <td>2022</td>\n",
       "    </tr>\n",
       "    <tr>\n",
       "      <th>10768</th>\n",
       "      <td>2022-03-15 01:00:37.962000+00:00</td>\n",
       "      <td>0 days 00:06:08.692000</td>\n",
       "      <td>74</td>\n",
       "      <td>2022</td>\n",
       "    </tr>\n",
       "    <tr>\n",
       "      <th>10767</th>\n",
       "      <td>2022-03-15 02:51:27.411000+00:00</td>\n",
       "      <td>0 days 01:50:49.449000</td>\n",
       "      <td>74</td>\n",
       "      <td>2022</td>\n",
       "    </tr>\n",
       "    <tr>\n",
       "      <th>10766</th>\n",
       "      <td>2022-03-15 02:52:21.392000+00:00</td>\n",
       "      <td>0 days 00:00:53.981000</td>\n",
       "      <td>74</td>\n",
       "      <td>2022</td>\n",
       "    </tr>\n",
       "  </tbody>\n",
       "</table>\n",
       "</div>"
      ],
      "text/plain": [
       "                                  time             time_delta  day  year\n",
       "10770 2022-03-15 00:19:13.287000+00:00 0 days 01:49:12.705000   74  2022\n",
       "10769 2022-03-15 00:54:29.270000+00:00 0 days 00:35:15.983000   74  2022\n",
       "10768 2022-03-15 01:00:37.962000+00:00 0 days 00:06:08.692000   74  2022\n",
       "10767 2022-03-15 02:51:27.411000+00:00 0 days 01:50:49.449000   74  2022\n",
       "10766 2022-03-15 02:52:21.392000+00:00 0 days 00:00:53.981000   74  2022"
      ]
     },
     "execution_count": 110,
     "metadata": {},
     "output_type": "execute_result"
    }
   ],
   "source": [
    "year_2022[year_2022.day == 74].head(5)"
   ]
  },
  {
   "cell_type": "markdown",
   "id": "c3f024ab",
   "metadata": {},
   "source": [
    "### Part 2.4\n",
    "The 15th of March 2022 had the most timestamps. "
   ]
  },
  {
   "cell_type": "code",
   "execution_count": 111,
   "id": "116b1ddb",
   "metadata": {},
   "outputs": [
    {
     "name": "stderr",
     "output_type": "stream",
     "text": [
      "/var/folders/fs/6f75xcpx5fb_m71xj8kvjm880000gn/T/ipykernel_47480/539652368.py:1: SettingWithCopyWarning: \n",
      "A value is trying to be set on a copy of a slice from a DataFrame.\n",
      "Try using .loc[row_indexer,col_indexer] = value instead\n",
      "\n",
      "See the caveats in the documentation: https://pandas.pydata.org/pandas-docs/stable/user_guide/indexing.html#returning-a-view-versus-a-copy\n",
      "  year_2022[\"month\"] = year_2022.time.dt.month\n"
     ]
    }
   ],
   "source": [
    "year_2022[\"month\"] = year_2022.time.dt.month"
   ]
  },
  {
   "cell_type": "code",
   "execution_count": 113,
   "id": "abbdfea8",
   "metadata": {},
   "outputs": [
    {
     "data": {
      "text/plain": [
       "3     1032\n",
       "4      914\n",
       "5      894\n",
       "2      854\n",
       "12     741\n",
       "10     735\n",
       "1      621\n",
       "11     567\n",
       "7      454\n",
       "8      436\n",
       "6      357\n",
       "9      325\n",
       "Name: month, dtype: int64"
      ]
     },
     "execution_count": 113,
     "metadata": {},
     "output_type": "execute_result"
    }
   ],
   "source": [
    "year_2022.month.value_counts()"
   ]
  },
  {
   "cell_type": "markdown",
   "id": "9c1df434",
   "metadata": {},
   "source": [
    "### Part 2.5\n",
    "The month of March in 2022 had 1032 timestamps which is the most in all three years"
   ]
  },
  {
   "cell_type": "markdown",
   "id": "cba92318",
   "metadata": {},
   "source": [
    "### Part 2.6\n",
    "\n",
    "Based on the average time between each timestamp which is almost 2 hrs I think thes source of this data is a video streaming platform like youtube or netflix. Also the day/month with the most time stamps coincides with spring break in 2022 which makes me think its probably netflix or a similar service becuase its common to catch up on tv shows over holiday breaks."
   ]
  },
  {
   "cell_type": "markdown",
   "id": "ee9bf177",
   "metadata": {},
   "source": [
    "# Part 3 "
   ]
  },
  {
   "cell_type": "code",
   "execution_count": 144,
   "id": "3e1bcb85",
   "metadata": {},
   "outputs": [],
   "source": [
    "import matplotlib.pyplot as plt"
   ]
  },
  {
   "cell_type": "code",
   "execution_count": 142,
   "id": "dc37a8c9",
   "metadata": {},
   "outputs": [
    {
     "data": {
      "text/html": [
       "<div>\n",
       "<style scoped>\n",
       "    .dataframe tbody tr th:only-of-type {\n",
       "        vertical-align: middle;\n",
       "    }\n",
       "\n",
       "    .dataframe tbody tr th {\n",
       "        vertical-align: top;\n",
       "    }\n",
       "\n",
       "    .dataframe thead th {\n",
       "        text-align: right;\n",
       "    }\n",
       "</style>\n",
       "<table border=\"1\" class=\"dataframe\">\n",
       "  <thead>\n",
       "    <tr style=\"text-align: right;\">\n",
       "      <th></th>\n",
       "      <th>time</th>\n",
       "      <th>time_delta</th>\n",
       "      <th>day</th>\n",
       "      <th>year</th>\n",
       "      <th>month</th>\n",
       "    </tr>\n",
       "  </thead>\n",
       "  <tbody>\n",
       "    <tr>\n",
       "      <th>12737</th>\n",
       "      <td>2022-01-01 00:02:44.622000+00:00</td>\n",
       "      <td>0 days 00:18:41.056000</td>\n",
       "      <td>1</td>\n",
       "      <td>2022</td>\n",
       "      <td>1</td>\n",
       "    </tr>\n",
       "    <tr>\n",
       "      <th>12736</th>\n",
       "      <td>2022-01-01 01:56:10.539000+00:00</td>\n",
       "      <td>0 days 01:53:25.917000</td>\n",
       "      <td>1</td>\n",
       "      <td>2022</td>\n",
       "      <td>1</td>\n",
       "    </tr>\n",
       "    <tr>\n",
       "      <th>12735</th>\n",
       "      <td>2022-01-01 02:04:08.698000+00:00</td>\n",
       "      <td>0 days 00:07:58.159000</td>\n",
       "      <td>1</td>\n",
       "      <td>2022</td>\n",
       "      <td>1</td>\n",
       "    </tr>\n",
       "    <tr>\n",
       "      <th>12734</th>\n",
       "      <td>2022-01-01 02:05:59.573000+00:00</td>\n",
       "      <td>0 days 00:01:50.875000</td>\n",
       "      <td>1</td>\n",
       "      <td>2022</td>\n",
       "      <td>1</td>\n",
       "    </tr>\n",
       "    <tr>\n",
       "      <th>12733</th>\n",
       "      <td>2022-01-01 05:47:40.521000+00:00</td>\n",
       "      <td>0 days 03:41:40.948000</td>\n",
       "      <td>1</td>\n",
       "      <td>2022</td>\n",
       "      <td>1</td>\n",
       "    </tr>\n",
       "  </tbody>\n",
       "</table>\n",
       "</div>"
      ],
      "text/plain": [
       "                                  time             time_delta  day  year  \\\n",
       "12737 2022-01-01 00:02:44.622000+00:00 0 days 00:18:41.056000    1  2022   \n",
       "12736 2022-01-01 01:56:10.539000+00:00 0 days 01:53:25.917000    1  2022   \n",
       "12735 2022-01-01 02:04:08.698000+00:00 0 days 00:07:58.159000    1  2022   \n",
       "12734 2022-01-01 02:05:59.573000+00:00 0 days 00:01:50.875000    1  2022   \n",
       "12733 2022-01-01 05:47:40.521000+00:00 0 days 03:41:40.948000    1  2022   \n",
       "\n",
       "       month  \n",
       "12737      1  \n",
       "12736      1  \n",
       "12735      1  \n",
       "12734      1  \n",
       "12733      1  "
      ]
     },
     "execution_count": 142,
     "metadata": {},
     "output_type": "execute_result"
    }
   ],
   "source": [
    "chetima_2022 = year_2022\n",
    "chetima_2022.head(5)"
   ]
  },
  {
   "cell_type": "code",
   "execution_count": 161,
   "id": "fbe305d2",
   "metadata": {},
   "outputs": [
    {
     "data": {
      "image/png": "[encoded data removed]",
      "text/plain": [
       "<Figure size 432x288 with 1 Axes>"
      ]
     },
     "metadata": {
      "needs_background": "light"
     },
     "output_type": "display_data"
    }
   ],
   "source": [
    "plt.hist(chetima_2022.month, bins = 10, color = \"#0504aa\", alpha = 0.7, rwidth = 0.85 )\n",
    "#plt.hist(terence's data)\n",
    "plt.xlabel(\"Month of the Year\")\n",
    "plt.ylabel(\"Frequency\")\n",
    "plt.title()\n",
    "plt.show()"
   ]
  },
  {
   "cell_type": "code",
   "execution_count": null,
   "id": "94d21623",
   "metadata": {},
   "outputs": [],
   "source": []
  },
  {
   "cell_type": "code",
   "execution_count": null,
   "id": "b075d454",
   "metadata": {},
   "outputs": [],
   "source": []
  },
  {
   "cell_type": "markdown",
   "id": "7aaa2471",
   "metadata": {},
   "source": [
    "# Part 4 "
   ]
  },
  {
   "cell_type": "markdown",
   "id": "dee2b880",
   "metadata": {},
   "source": [
    "Questions: \n",
    "1. Which month had the most listening time? Do I remember what might have been happening? \n",
    "2. Is there a recurring time of the month that I listened to music the most? Or maybe week of the month? "
   ]
  },
  {
   "cell_type": "code",
   "execution_count": 275,
   "id": "d897c72f",
   "metadata": {},
   "outputs": [],
   "source": [
    "music = pd.read_csv(\"music_data.csv\")"
   ]
  },
  {
   "cell_type": "code",
   "execution_count": 276,
   "id": "fd65f507",
   "metadata": {},
   "outputs": [
    {
     "data": {
      "text/html": [
       "<div>\n",
       "<style scoped>\n",
       "    .dataframe tbody tr th:only-of-type {\n",
       "        vertical-align: middle;\n",
       "    }\n",
       "\n",
       "    .dataframe tbody tr th {\n",
       "        vertical-align: top;\n",
       "    }\n",
       "\n",
       "    .dataframe thead th {\n",
       "        text-align: right;\n",
       "    }\n",
       "</style>\n",
       "<table border=\"1\" class=\"dataframe\">\n",
       "  <thead>\n",
       "    <tr style=\"text-align: right;\">\n",
       "      <th></th>\n",
       "      <th>Unnamed: 0</th>\n",
       "      <th>Time</th>\n",
       "      <th>seconds</th>\n",
       "      <th>day</th>\n",
       "      <th>year</th>\n",
       "      <th>month</th>\n",
       "    </tr>\n",
       "  </thead>\n",
       "  <tbody>\n",
       "    <tr>\n",
       "      <th>0</th>\n",
       "      <td>0</td>\n",
       "      <td>2022-03-21 02:15:00</td>\n",
       "      <td>0.000</td>\n",
       "      <td>80</td>\n",
       "      <td>2022</td>\n",
       "      <td>3</td>\n",
       "    </tr>\n",
       "    <tr>\n",
       "      <th>1</th>\n",
       "      <td>1</td>\n",
       "      <td>2022-03-21 02:15:00</td>\n",
       "      <td>4.810</td>\n",
       "      <td>80</td>\n",
       "      <td>2022</td>\n",
       "      <td>3</td>\n",
       "    </tr>\n",
       "    <tr>\n",
       "      <th>2</th>\n",
       "      <td>2</td>\n",
       "      <td>2022-03-21 02:19:00</td>\n",
       "      <td>196.013</td>\n",
       "      <td>80</td>\n",
       "      <td>2022</td>\n",
       "      <td>3</td>\n",
       "    </tr>\n",
       "    <tr>\n",
       "      <th>3</th>\n",
       "      <td>3</td>\n",
       "      <td>2022-03-21 02:23:00</td>\n",
       "      <td>257.253</td>\n",
       "      <td>80</td>\n",
       "      <td>2022</td>\n",
       "      <td>3</td>\n",
       "    </tr>\n",
       "    <tr>\n",
       "      <th>4</th>\n",
       "      <td>4</td>\n",
       "      <td>2022-03-21 02:24:00</td>\n",
       "      <td>45.465</td>\n",
       "      <td>80</td>\n",
       "      <td>2022</td>\n",
       "      <td>3</td>\n",
       "    </tr>\n",
       "    <tr>\n",
       "      <th>5</th>\n",
       "      <td>5</td>\n",
       "      <td>2022-03-21 02:24:00</td>\n",
       "      <td>10.837</td>\n",
       "      <td>80</td>\n",
       "      <td>2022</td>\n",
       "      <td>3</td>\n",
       "    </tr>\n",
       "    <tr>\n",
       "      <th>6</th>\n",
       "      <td>6</td>\n",
       "      <td>2022-03-21 02:28:00</td>\n",
       "      <td>202.666</td>\n",
       "      <td>80</td>\n",
       "      <td>2022</td>\n",
       "      <td>3</td>\n",
       "    </tr>\n",
       "    <tr>\n",
       "      <th>7</th>\n",
       "      <td>7</td>\n",
       "      <td>2022-03-21 02:32:00</td>\n",
       "      <td>121.651</td>\n",
       "      <td>80</td>\n",
       "      <td>2022</td>\n",
       "      <td>3</td>\n",
       "    </tr>\n",
       "    <tr>\n",
       "      <th>8</th>\n",
       "      <td>9</td>\n",
       "      <td>2022-03-21 02:33:00</td>\n",
       "      <td>11.915</td>\n",
       "      <td>80</td>\n",
       "      <td>2022</td>\n",
       "      <td>3</td>\n",
       "    </tr>\n",
       "    <tr>\n",
       "      <th>9</th>\n",
       "      <td>8</td>\n",
       "      <td>2022-03-21 02:33:00</td>\n",
       "      <td>2.495</td>\n",
       "      <td>80</td>\n",
       "      <td>2022</td>\n",
       "      <td>3</td>\n",
       "    </tr>\n",
       "    <tr>\n",
       "      <th>10</th>\n",
       "      <td>10</td>\n",
       "      <td>2022-03-21 02:37:00</td>\n",
       "      <td>245.861</td>\n",
       "      <td>80</td>\n",
       "      <td>2022</td>\n",
       "      <td>3</td>\n",
       "    </tr>\n",
       "    <tr>\n",
       "      <th>11</th>\n",
       "      <td>11</td>\n",
       "      <td>2022-03-21 02:39:00</td>\n",
       "      <td>122.871</td>\n",
       "      <td>80</td>\n",
       "      <td>2022</td>\n",
       "      <td>3</td>\n",
       "    </tr>\n",
       "    <tr>\n",
       "      <th>12</th>\n",
       "      <td>12</td>\n",
       "      <td>2022-03-21 02:40:00</td>\n",
       "      <td>64.073</td>\n",
       "      <td>80</td>\n",
       "      <td>2022</td>\n",
       "      <td>3</td>\n",
       "    </tr>\n",
       "    <tr>\n",
       "      <th>13</th>\n",
       "      <td>13</td>\n",
       "      <td>2022-03-21 02:41:00</td>\n",
       "      <td>44.843</td>\n",
       "      <td>80</td>\n",
       "      <td>2022</td>\n",
       "      <td>3</td>\n",
       "    </tr>\n",
       "    <tr>\n",
       "      <th>14</th>\n",
       "      <td>14</td>\n",
       "      <td>2022-03-21 02:44:00</td>\n",
       "      <td>180.655</td>\n",
       "      <td>80</td>\n",
       "      <td>2022</td>\n",
       "      <td>3</td>\n",
       "    </tr>\n",
       "    <tr>\n",
       "      <th>15</th>\n",
       "      <td>15</td>\n",
       "      <td>2022-03-21 02:47:00</td>\n",
       "      <td>176.253</td>\n",
       "      <td>80</td>\n",
       "      <td>2022</td>\n",
       "      <td>3</td>\n",
       "    </tr>\n",
       "    <tr>\n",
       "      <th>16</th>\n",
       "      <td>17</td>\n",
       "      <td>2022-03-21 02:51:00</td>\n",
       "      <td>12.422</td>\n",
       "      <td>80</td>\n",
       "      <td>2022</td>\n",
       "      <td>3</td>\n",
       "    </tr>\n",
       "    <tr>\n",
       "      <th>17</th>\n",
       "      <td>18</td>\n",
       "      <td>2022-03-21 02:51:00</td>\n",
       "      <td>240.053</td>\n",
       "      <td>80</td>\n",
       "      <td>2022</td>\n",
       "      <td>3</td>\n",
       "    </tr>\n",
       "    <tr>\n",
       "      <th>18</th>\n",
       "      <td>16</td>\n",
       "      <td>2022-03-21 02:51:00</td>\n",
       "      <td>3.922</td>\n",
       "      <td>80</td>\n",
       "      <td>2022</td>\n",
       "      <td>3</td>\n",
       "    </tr>\n",
       "    <tr>\n",
       "      <th>19</th>\n",
       "      <td>19</td>\n",
       "      <td>2022-03-21 02:54:00</td>\n",
       "      <td>153.628</td>\n",
       "      <td>80</td>\n",
       "      <td>2022</td>\n",
       "      <td>3</td>\n",
       "    </tr>\n",
       "  </tbody>\n",
       "</table>\n",
       "</div>"
      ],
      "text/plain": [
       "    Unnamed: 0                 Time  seconds  day  year  month\n",
       "0            0  2022-03-21 02:15:00    0.000   80  2022      3\n",
       "1            1  2022-03-21 02:15:00    4.810   80  2022      3\n",
       "2            2  2022-03-21 02:19:00  196.013   80  2022      3\n",
       "3            3  2022-03-21 02:23:00  257.253   80  2022      3\n",
       "4            4  2022-03-21 02:24:00   45.465   80  2022      3\n",
       "5            5  2022-03-21 02:24:00   10.837   80  2022      3\n",
       "6            6  2022-03-21 02:28:00  202.666   80  2022      3\n",
       "7            7  2022-03-21 02:32:00  121.651   80  2022      3\n",
       "8            9  2022-03-21 02:33:00   11.915   80  2022      3\n",
       "9            8  2022-03-21 02:33:00    2.495   80  2022      3\n",
       "10          10  2022-03-21 02:37:00  245.861   80  2022      3\n",
       "11          11  2022-03-21 02:39:00  122.871   80  2022      3\n",
       "12          12  2022-03-21 02:40:00   64.073   80  2022      3\n",
       "13          13  2022-03-21 02:41:00   44.843   80  2022      3\n",
       "14          14  2022-03-21 02:44:00  180.655   80  2022      3\n",
       "15          15  2022-03-21 02:47:00  176.253   80  2022      3\n",
       "16          17  2022-03-21 02:51:00   12.422   80  2022      3\n",
       "17          18  2022-03-21 02:51:00  240.053   80  2022      3\n",
       "18          16  2022-03-21 02:51:00    3.922   80  2022      3\n",
       "19          19  2022-03-21 02:54:00  153.628   80  2022      3"
      ]
     },
     "execution_count": 276,
     "metadata": {},
     "output_type": "execute_result"
    }
   ],
   "source": [
    "music.head(20)"
   ]
  },
  {
   "cell_type": "code",
   "execution_count": 277,
   "id": "a7cdc960",
   "metadata": {},
   "outputs": [],
   "source": [
    "music.drop(columns = \"Unnamed: 0\", inplace = True)"
   ]
  },
  {
   "cell_type": "code",
   "execution_count": 278,
   "id": "9a4c80fc",
   "metadata": {},
   "outputs": [
    {
     "data": {
      "text/html": [
       "<div>\n",
       "<style scoped>\n",
       "    .dataframe tbody tr th:only-of-type {\n",
       "        vertical-align: middle;\n",
       "    }\n",
       "\n",
       "    .dataframe tbody tr th {\n",
       "        vertical-align: top;\n",
       "    }\n",
       "\n",
       "    .dataframe thead th {\n",
       "        text-align: right;\n",
       "    }\n",
       "</style>\n",
       "<table border=\"1\" class=\"dataframe\">\n",
       "  <thead>\n",
       "    <tr style=\"text-align: right;\">\n",
       "      <th></th>\n",
       "      <th>Time</th>\n",
       "      <th>seconds</th>\n",
       "      <th>day</th>\n",
       "      <th>year</th>\n",
       "      <th>month</th>\n",
       "    </tr>\n",
       "  </thead>\n",
       "  <tbody>\n",
       "    <tr>\n",
       "      <th>0</th>\n",
       "      <td>2022-03-21 02:15:00</td>\n",
       "      <td>0.000</td>\n",
       "      <td>80</td>\n",
       "      <td>2022</td>\n",
       "      <td>3</td>\n",
       "    </tr>\n",
       "    <tr>\n",
       "      <th>1</th>\n",
       "      <td>2022-03-21 02:15:00</td>\n",
       "      <td>4.810</td>\n",
       "      <td>80</td>\n",
       "      <td>2022</td>\n",
       "      <td>3</td>\n",
       "    </tr>\n",
       "    <tr>\n",
       "      <th>2</th>\n",
       "      <td>2022-03-21 02:19:00</td>\n",
       "      <td>196.013</td>\n",
       "      <td>80</td>\n",
       "      <td>2022</td>\n",
       "      <td>3</td>\n",
       "    </tr>\n",
       "    <tr>\n",
       "      <th>3</th>\n",
       "      <td>2022-03-21 02:23:00</td>\n",
       "      <td>257.253</td>\n",
       "      <td>80</td>\n",
       "      <td>2022</td>\n",
       "      <td>3</td>\n",
       "    </tr>\n",
       "    <tr>\n",
       "      <th>4</th>\n",
       "      <td>2022-03-21 02:24:00</td>\n",
       "      <td>45.465</td>\n",
       "      <td>80</td>\n",
       "      <td>2022</td>\n",
       "      <td>3</td>\n",
       "    </tr>\n",
       "  </tbody>\n",
       "</table>\n",
       "</div>"
      ],
      "text/plain": [
       "                  Time  seconds  day  year  month\n",
       "0  2022-03-21 02:15:00    0.000   80  2022      3\n",
       "1  2022-03-21 02:15:00    4.810   80  2022      3\n",
       "2  2022-03-21 02:19:00  196.013   80  2022      3\n",
       "3  2022-03-21 02:23:00  257.253   80  2022      3\n",
       "4  2022-03-21 02:24:00   45.465   80  2022      3"
      ]
     },
     "execution_count": 278,
     "metadata": {},
     "output_type": "execute_result"
    }
   ],
   "source": [
    "music.head(5)"
   ]
  },
  {
   "cell_type": "code",
   "execution_count": 279,
   "id": "12405227",
   "metadata": {},
   "outputs": [
    {
     "data": {
      "text/plain": [
       "88     304\n",
       "91     269\n",
       "138    245\n",
       "86     226\n",
       "87     219\n",
       "      ... \n",
       "145     46\n",
       "140     43\n",
       "129     32\n",
       "155     22\n",
       "85      18\n",
       "Name: day, Length: 77, dtype: int64"
      ]
     },
     "execution_count": 279,
     "metadata": {},
     "output_type": "execute_result"
    }
   ],
   "source": [
    "music.day.value_counts()"
   ]
  },
  {
   "cell_type": "code",
   "execution_count": 298,
   "id": "9c28dbce",
   "metadata": {},
   "outputs": [
    {
     "data": {
      "text/html": [
       "<div>\n",
       "<style scoped>\n",
       "    .dataframe tbody tr th:only-of-type {\n",
       "        vertical-align: middle;\n",
       "    }\n",
       "\n",
       "    .dataframe tbody tr th {\n",
       "        vertical-align: top;\n",
       "    }\n",
       "\n",
       "    .dataframe thead th {\n",
       "        text-align: right;\n",
       "    }\n",
       "</style>\n",
       "<table border=\"1\" class=\"dataframe\">\n",
       "  <thead>\n",
       "    <tr style=\"text-align: right;\">\n",
       "      <th></th>\n",
       "      <th>Days</th>\n",
       "      <th>Count</th>\n",
       "    </tr>\n",
       "  </thead>\n",
       "  <tbody>\n",
       "    <tr>\n",
       "      <th>0</th>\n",
       "      <td>88</td>\n",
       "      <td>304</td>\n",
       "    </tr>\n",
       "    <tr>\n",
       "      <th>1</th>\n",
       "      <td>91</td>\n",
       "      <td>269</td>\n",
       "    </tr>\n",
       "    <tr>\n",
       "      <th>2</th>\n",
       "      <td>138</td>\n",
       "      <td>245</td>\n",
       "    </tr>\n",
       "    <tr>\n",
       "      <th>3</th>\n",
       "      <td>86</td>\n",
       "      <td>226</td>\n",
       "    </tr>\n",
       "    <tr>\n",
       "      <th>4</th>\n",
       "      <td>87</td>\n",
       "      <td>219</td>\n",
       "    </tr>\n",
       "  </tbody>\n",
       "</table>\n",
       "</div>"
      ],
      "text/plain": [
       "   Days  Count\n",
       "0    88    304\n",
       "1    91    269\n",
       "2   138    245\n",
       "3    86    226\n",
       "4    87    219"
      ]
     },
     "execution_count": 298,
     "metadata": {},
     "output_type": "execute_result"
    }
   ],
   "source": [
    "days = music.day.value_counts().rename_axis('Days').reset_index(name='Count')\n",
    "days.head(5)"
   ]
  },
  {
   "cell_type": "code",
   "execution_count": 318,
   "id": "4d936640",
   "metadata": {},
   "outputs": [
    {
     "data": {
      "text/plain": [
       "'2022-03-29 00:10:00'"
      ]
     },
     "execution_count": 318,
     "metadata": {},
     "output_type": "execute_result"
    }
   ],
   "source": [
    "music[music.day == 88].Time.iloc[1]"
   ]
  },
  {
   "cell_type": "code",
   "execution_count": 328,
   "id": "f1ba78fe",
   "metadata": {},
   "outputs": [
    {
     "data": {
      "text/plain": [
       "[(88, 'March'),\n",
       " (91, 'April'),\n",
       " (138, 'May'),\n",
       " (86, 'March'),\n",
       " (87, 'March'),\n",
       " (80, 'March'),\n",
       " (81, 'March'),\n",
       " (108, 'April'),\n",
       " (115, 'April'),\n",
       " (105, 'April')]"
      ]
     },
     "execution_count": 328,
     "metadata": {},
     "output_type": "execute_result"
    }
   ],
   "source": [
    "#getting the months of the year corresponding to the days with highest number of songs played\n",
    "#The months will be used to label the bar chart. \n",
    "dayMonth = []\n",
    "for i in range(10):\n",
    "    timestamp = music[music.day == days.Days.iloc[i]].Time.iloc[1]\n",
    "    month = pd.Timestamp(timestamp)\n",
    "    dayMonth.append((days.Days.iloc[i], month.month_name()))\n",
    "dayMonth"
   ]
  },
  {
   "cell_type": "code",
   "execution_count": 334,
   "id": "2a508d45",
   "metadata": {},
   "outputs": [
    {
     "data": {
      "image/png": "[encoded data removed]",
      "text/plain": [
       "<Figure size 432x288 with 1 Axes>"
      ]
     },
     "metadata": {
      "needs_background": "light"
     },
     "output_type": "display_data"
    }
   ],
   "source": [
    "plt.bar(days.Days, height = days.Count, width = 1, color = \"purple\", alpha = 0.5)\n",
    "plt.title(\"Number of songs played vs Day of the year in 2022\")\n",
    "plt.xlabel(\"Day of the year\")\n",
    "plt.ylabel(\"Number of songs played\")\n",
    "plt.text(88, 304, \"March\")\n",
    "plt.text(91, 269, \"April\")\n",
    "plt.text(138, 245, \"May\")\n",
    "plt.text(105, 215, \"April\")\n",
    "plt.text(155, 200, \"June\")\n",
    "plt.show()"
   ]
  },
  {
   "cell_type": "markdown",
   "id": "f27d3d6d",
   "metadata": {},
   "source": [
    "Between Feb and July in 2022 my music engagement peaked in March and I am not quite sure why that is. Probaly because of the spring break. I had more time on my hands to explore new genres and in April my engagement decreased of which I suspect was due to the increasing school workload. I don't do well with listening to music and studying at the same time. That said, my engagement should have increased in June because summer had begun."
   ]
  }
 ],
 "metadata": {
  "kernelspec": {
   "display_name": "Python 3 (ipykernel)",
   "language": "python",
   "name": "python3"
  },
  "language_info": {
   "codemirror_mode": {
    "name": "ipython",
    "version": 3
   },
   "file_extension": ".py",
   "mimetype": "text/x-python",
   "name": "python",
   "nbconvert_exporter": "python",
   "pygments_lexer": "ipython3",
   "version": "3.9.12"
  }
 },
 "nbformat": 4,
 "nbformat_minor": 5
}
