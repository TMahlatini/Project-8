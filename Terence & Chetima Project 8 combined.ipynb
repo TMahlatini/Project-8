{
 "cells": [
  {
   "cell_type": "markdown",
   "id": "18c8b96d",
   "metadata": {},
   "source": [
    "# Project 8: Chetima & Terence "
   ]
  },
  {
   "cell_type": "code",
   "execution_count": null,
   "id": "82b37f13",
   "metadata": {},
   "outputs": [],
   "source": [
    "#Exporting the necessary packages.\n",
    "import pandas as pd\n",
    "import numpy as np\n",
    "from matplotlib import pyplot as pl"
   ]
  },
  {
   "cell_type": "markdown",
   "id": "4c818cf2",
   "metadata": {},
   "source": [
    "## Part 1 Chetima:"
   ]
  },
  {
   "cell_type": "code",
   "execution_count": 5,
   "id": "311eabc7",
   "metadata": {},
   "outputs": [
    {
     "name": "stdout",
     "output_type": "stream",
     "text": [
      "<class 'pandas.core.frame.DataFrame'>\n",
      "RangeIndex: 19971 entries, 0 to 19970\n",
      "Data columns (total 12 columns):\n",
      " #   Column              Non-Null Count  Dtype \n",
      "---  ------              --------------  ----- \n",
      " 0   header              19971 non-null  object\n",
      " 1   title               19971 non-null  object\n",
      " 2   titleUrl            19547 non-null  object\n",
      " 3   description         2737 non-null   object\n",
      " 4   time                19971 non-null  object\n",
      " 5   products/0          19971 non-null  object\n",
      " 6   details/0/name      2967 non-null   object\n",
      " 7   activityControls/0  19971 non-null  object\n",
      " 8   activityControls/1  2863 non-null   object\n",
      " 9   activityControls/2  2863 non-null   object\n",
      " 10  subtitles/0/name    15974 non-null  object\n",
      " 11  subtitles/0/url     15974 non-null  object\n",
      "dtypes: object(12)\n",
      "memory usage: 1.8+ MB\n"
     ]
    }
   ],
   "source": [
    "#Here I am reading the file I requested from youtube.\n",
    "my_history = pd.read_csv(\"watch-history2.csv\")\n",
    "my_history.info()"
   ]
  },
  {
   "cell_type": "code",
   "execution_count": 5,
   "id": "027e0ecf",
   "metadata": {},
   "outputs": [],
   "source": [
    "#Exporting my timestamps into a new dataframe.\n",
    "df_time = my_history.time"
   ]
  },
  {
   "cell_type": "code",
   "execution_count": 6,
   "id": "14782774",
   "metadata": {},
   "outputs": [
    {
     "data": {
      "text/plain": [
       "0        2023-04-19T22:04:48.331Z\n",
       "1        2023-04-19T21:59:00.004Z\n",
       "2        2023-04-19T21:58:37.669Z\n",
       "3        2023-04-19T21:58:25.254Z\n",
       "4        2023-04-19T03:35:12.207Z\n",
       "                   ...           \n",
       "19966    2019-04-10T12:00:53.076Z\n",
       "19967    2019-04-09T21:34:21.036Z\n",
       "19968    2019-04-07T21:27:52.689Z\n",
       "19969    2019-04-07T21:18:22.625Z\n",
       "19970    2019-04-07T12:30:57.931Z\n",
       "Name: time, Length: 19971, dtype: object"
      ]
     },
     "execution_count": 6,
     "metadata": {},
     "output_type": "execute_result"
    }
   ],
   "source": [
    "df_time\n"
   ]
  },
  {
   "cell_type": "code",
   "execution_count": 7,
   "id": "ad2de066",
   "metadata": {},
   "outputs": [],
   "source": [
    "# I am exporting my dataframe only containing the timestamps to a new csv file.\n",
    "df_time.to_csv(\"timestamp.csv\")"
   ]
  },
  {
   "cell_type": "markdown",
   "id": "db8319e7",
   "metadata": {},
   "source": [
    "# Chetima Part 2:"
   ]
  },
  {
   "cell_type": "code",
   "execution_count": 6,
   "id": "9ed3eca9",
   "metadata": {},
   "outputs": [],
   "source": [
    "#Reading the data I got from my partner.\n",
    "terence = pd.read_csv(\"terence-data.csv\")"
   ]
  },
  {
   "cell_type": "markdown",
   "id": "5bcb1e88",
   "metadata": {},
   "source": [
    "The data was downloaded with the column number and date/timestamp in the same column, so I had to separate the two using excel for better analysis."
   ]
  },
  {
   "cell_type": "code",
   "execution_count": 7,
   "id": "a0ee64f0",
   "metadata": {
    "scrolled": true
   },
   "outputs": [
    {
     "data": {
      "text/html": [
       "<div>\n",
       "<style scoped>\n",
       "    .dataframe tbody tr th:only-of-type {\n",
       "        vertical-align: middle;\n",
       "    }\n",
       "\n",
       "    .dataframe tbody tr th {\n",
       "        vertical-align: top;\n",
       "    }\n",
       "\n",
       "    .dataframe thead th {\n",
       "        text-align: right;\n",
       "    }\n",
       "</style>\n",
       "<table border=\"1\" class=\"dataframe\">\n",
       "  <thead>\n",
       "    <tr style=\"text-align: right;\">\n",
       "      <th></th>\n",
       "      <th>,</th>\n",
       "      <th>endTime</th>\n",
       "    </tr>\n",
       "  </thead>\n",
       "  <tbody>\n",
       "    <tr>\n",
       "      <th>0</th>\n",
       "      <td>0</td>\n",
       "      <td>6/6/2022 10:39</td>\n",
       "    </tr>\n",
       "    <tr>\n",
       "      <th>1</th>\n",
       "      <td>1</td>\n",
       "      <td>6/6/2022 10:43</td>\n",
       "    </tr>\n",
       "    <tr>\n",
       "      <th>2</th>\n",
       "      <td>2</td>\n",
       "      <td>6/6/2022 10:46</td>\n",
       "    </tr>\n",
       "    <tr>\n",
       "      <th>3</th>\n",
       "      <td>3</td>\n",
       "      <td>6/6/2022 10:49</td>\n",
       "    </tr>\n",
       "    <tr>\n",
       "      <th>4</th>\n",
       "      <td>4</td>\n",
       "      <td>6/6/2022 10:52</td>\n",
       "    </tr>\n",
       "    <tr>\n",
       "      <th>...</th>\n",
       "      <td>...</td>\n",
       "      <td>...</td>\n",
       "    </tr>\n",
       "    <tr>\n",
       "      <th>9994</th>\n",
       "      <td>9994</td>\n",
       "      <td>9/8/2022 7:25</td>\n",
       "    </tr>\n",
       "    <tr>\n",
       "      <th>9995</th>\n",
       "      <td>9995</td>\n",
       "      <td>9/8/2022 7:30</td>\n",
       "    </tr>\n",
       "    <tr>\n",
       "      <th>9996</th>\n",
       "      <td>9996</td>\n",
       "      <td>9/8/2022 7:33</td>\n",
       "    </tr>\n",
       "    <tr>\n",
       "      <th>9997</th>\n",
       "      <td>9997</td>\n",
       "      <td>9/8/2022 7:36</td>\n",
       "    </tr>\n",
       "    <tr>\n",
       "      <th>9998</th>\n",
       "      <td>9998</td>\n",
       "      <td>9/8/2022 7:41</td>\n",
       "    </tr>\n",
       "  </tbody>\n",
       "</table>\n",
       "<p>9999 rows × 2 columns</p>\n",
       "</div>"
      ],
      "text/plain": [
       "         ,         endTime\n",
       "0        0  6/6/2022 10:39\n",
       "1        1  6/6/2022 10:43\n",
       "2        2  6/6/2022 10:46\n",
       "3        3  6/6/2022 10:49\n",
       "4        4  6/6/2022 10:52\n",
       "...    ...             ...\n",
       "9994  9994   9/8/2022 7:25\n",
       "9995  9995   9/8/2022 7:30\n",
       "9996  9996   9/8/2022 7:33\n",
       "9997  9997   9/8/2022 7:36\n",
       "9998  9998   9/8/2022 7:41\n",
       "\n",
       "[9999 rows x 2 columns]"
      ]
     },
     "execution_count": 7,
     "metadata": {},
     "output_type": "execute_result"
    }
   ],
   "source": [
    "terence"
   ]
  },
  {
   "cell_type": "code",
   "execution_count": 8,
   "id": "37b3711c",
   "metadata": {},
   "outputs": [],
   "source": [
    "#I want to delete the column number that came with the data because pandas automatically provides one, and it would not look good to have to column numbers columns.\n",
    "#https://www.geeksforgeeks.org/delete-a-column-from-a-pandas-dataframe/\n",
    "del terence[\",\"]"
   ]
  },
  {
   "cell_type": "code",
   "execution_count": 9,
   "id": "8ef9c166",
   "metadata": {},
   "outputs": [
    {
     "data": {
      "text/html": [
       "<div>\n",
       "<style scoped>\n",
       "    .dataframe tbody tr th:only-of-type {\n",
       "        vertical-align: middle;\n",
       "    }\n",
       "\n",
       "    .dataframe tbody tr th {\n",
       "        vertical-align: top;\n",
       "    }\n",
       "\n",
       "    .dataframe thead th {\n",
       "        text-align: right;\n",
       "    }\n",
       "</style>\n",
       "<table border=\"1\" class=\"dataframe\">\n",
       "  <thead>\n",
       "    <tr style=\"text-align: right;\">\n",
       "      <th></th>\n",
       "      <th>endTime</th>\n",
       "    </tr>\n",
       "  </thead>\n",
       "  <tbody>\n",
       "    <tr>\n",
       "      <th>0</th>\n",
       "      <td>6/6/2022 10:39</td>\n",
       "    </tr>\n",
       "    <tr>\n",
       "      <th>1</th>\n",
       "      <td>6/6/2022 10:43</td>\n",
       "    </tr>\n",
       "    <tr>\n",
       "      <th>2</th>\n",
       "      <td>6/6/2022 10:46</td>\n",
       "    </tr>\n",
       "    <tr>\n",
       "      <th>3</th>\n",
       "      <td>6/6/2022 10:49</td>\n",
       "    </tr>\n",
       "    <tr>\n",
       "      <th>4</th>\n",
       "      <td>6/6/2022 10:52</td>\n",
       "    </tr>\n",
       "    <tr>\n",
       "      <th>...</th>\n",
       "      <td>...</td>\n",
       "    </tr>\n",
       "    <tr>\n",
       "      <th>9994</th>\n",
       "      <td>9/8/2022 7:25</td>\n",
       "    </tr>\n",
       "    <tr>\n",
       "      <th>9995</th>\n",
       "      <td>9/8/2022 7:30</td>\n",
       "    </tr>\n",
       "    <tr>\n",
       "      <th>9996</th>\n",
       "      <td>9/8/2022 7:33</td>\n",
       "    </tr>\n",
       "    <tr>\n",
       "      <th>9997</th>\n",
       "      <td>9/8/2022 7:36</td>\n",
       "    </tr>\n",
       "    <tr>\n",
       "      <th>9998</th>\n",
       "      <td>9/8/2022 7:41</td>\n",
       "    </tr>\n",
       "  </tbody>\n",
       "</table>\n",
       "<p>9999 rows × 1 columns</p>\n",
       "</div>"
      ],
      "text/plain": [
       "             endTime\n",
       "0     6/6/2022 10:39\n",
       "1     6/6/2022 10:43\n",
       "2     6/6/2022 10:46\n",
       "3     6/6/2022 10:49\n",
       "4     6/6/2022 10:52\n",
       "...              ...\n",
       "9994   9/8/2022 7:25\n",
       "9995   9/8/2022 7:30\n",
       "9996   9/8/2022 7:33\n",
       "9997   9/8/2022 7:36\n",
       "9998   9/8/2022 7:41\n",
       "\n",
       "[9999 rows x 1 columns]"
      ]
     },
     "execution_count": 9,
     "metadata": {},
     "output_type": "execute_result"
    }
   ],
   "source": [
    "terence"
   ]
  },
  {
   "cell_type": "markdown",
   "id": "94e8de2e",
   "metadata": {},
   "source": [
    "### Part 2.1: "
   ]
  },
  {
   "cell_type": "code",
   "execution_count": 10,
   "id": "032fc06d",
   "metadata": {},
   "outputs": [],
   "source": [
    "#Here I am transforming the data into a datetime format.\n",
    "terence[\"date_time\"] = pd.to_datetime(terence[\"endTime\"], errors = \"coerce\")"
   ]
  },
  {
   "cell_type": "code",
   "execution_count": 11,
   "id": "024e93f9",
   "metadata": {},
   "outputs": [
    {
     "data": {
      "text/html": [
       "<div>\n",
       "<style scoped>\n",
       "    .dataframe tbody tr th:only-of-type {\n",
       "        vertical-align: middle;\n",
       "    }\n",
       "\n",
       "    .dataframe tbody tr th {\n",
       "        vertical-align: top;\n",
       "    }\n",
       "\n",
       "    .dataframe thead th {\n",
       "        text-align: right;\n",
       "    }\n",
       "</style>\n",
       "<table border=\"1\" class=\"dataframe\">\n",
       "  <thead>\n",
       "    <tr style=\"text-align: right;\">\n",
       "      <th></th>\n",
       "      <th>endTime</th>\n",
       "      <th>date_time</th>\n",
       "    </tr>\n",
       "  </thead>\n",
       "  <tbody>\n",
       "    <tr>\n",
       "      <th>0</th>\n",
       "      <td>6/6/2022 10:39</td>\n",
       "      <td>2022-06-06 10:39:00</td>\n",
       "    </tr>\n",
       "    <tr>\n",
       "      <th>1</th>\n",
       "      <td>6/6/2022 10:43</td>\n",
       "      <td>2022-06-06 10:43:00</td>\n",
       "    </tr>\n",
       "    <tr>\n",
       "      <th>2</th>\n",
       "      <td>6/6/2022 10:46</td>\n",
       "      <td>2022-06-06 10:46:00</td>\n",
       "    </tr>\n",
       "    <tr>\n",
       "      <th>3</th>\n",
       "      <td>6/6/2022 10:49</td>\n",
       "      <td>2022-06-06 10:49:00</td>\n",
       "    </tr>\n",
       "    <tr>\n",
       "      <th>4</th>\n",
       "      <td>6/6/2022 10:52</td>\n",
       "      <td>2022-06-06 10:52:00</td>\n",
       "    </tr>\n",
       "    <tr>\n",
       "      <th>...</th>\n",
       "      <td>...</td>\n",
       "      <td>...</td>\n",
       "    </tr>\n",
       "    <tr>\n",
       "      <th>9994</th>\n",
       "      <td>9/8/2022 7:25</td>\n",
       "      <td>2022-09-08 07:25:00</td>\n",
       "    </tr>\n",
       "    <tr>\n",
       "      <th>9995</th>\n",
       "      <td>9/8/2022 7:30</td>\n",
       "      <td>2022-09-08 07:30:00</td>\n",
       "    </tr>\n",
       "    <tr>\n",
       "      <th>9996</th>\n",
       "      <td>9/8/2022 7:33</td>\n",
       "      <td>2022-09-08 07:33:00</td>\n",
       "    </tr>\n",
       "    <tr>\n",
       "      <th>9997</th>\n",
       "      <td>9/8/2022 7:36</td>\n",
       "      <td>2022-09-08 07:36:00</td>\n",
       "    </tr>\n",
       "    <tr>\n",
       "      <th>9998</th>\n",
       "      <td>9/8/2022 7:41</td>\n",
       "      <td>2022-09-08 07:41:00</td>\n",
       "    </tr>\n",
       "  </tbody>\n",
       "</table>\n",
       "<p>9999 rows × 2 columns</p>\n",
       "</div>"
      ],
      "text/plain": [
       "             endTime           date_time\n",
       "0     6/6/2022 10:39 2022-06-06 10:39:00\n",
       "1     6/6/2022 10:43 2022-06-06 10:43:00\n",
       "2     6/6/2022 10:46 2022-06-06 10:46:00\n",
       "3     6/6/2022 10:49 2022-06-06 10:49:00\n",
       "4     6/6/2022 10:52 2022-06-06 10:52:00\n",
       "...              ...                 ...\n",
       "9994   9/8/2022 7:25 2022-09-08 07:25:00\n",
       "9995   9/8/2022 7:30 2022-09-08 07:30:00\n",
       "9996   9/8/2022 7:33 2022-09-08 07:33:00\n",
       "9997   9/8/2022 7:36 2022-09-08 07:36:00\n",
       "9998   9/8/2022 7:41 2022-09-08 07:41:00\n",
       "\n",
       "[9999 rows x 2 columns]"
      ]
     },
     "execution_count": 11,
     "metadata": {},
     "output_type": "execute_result"
    }
   ],
   "source": [
    "terence"
   ]
  },
  {
   "cell_type": "markdown",
   "id": "3e3a39a8",
   "metadata": {},
   "source": [
    "### Part 2.2: "
   ]
  },
  {
   "cell_type": "code",
   "execution_count": 12,
   "id": "726dc106",
   "metadata": {},
   "outputs": [],
   "source": [
    "# Now, I am calculating the difference between the timestamp and a following timestamp. \n",
    "terence[\"time_difference\"] = terence[\"date_time\"].diff()"
   ]
  },
  {
   "cell_type": "code",
   "execution_count": 13,
   "id": "3a2deeeb",
   "metadata": {},
   "outputs": [
    {
     "data": {
      "text/html": [
       "<div>\n",
       "<style scoped>\n",
       "    .dataframe tbody tr th:only-of-type {\n",
       "        vertical-align: middle;\n",
       "    }\n",
       "\n",
       "    .dataframe tbody tr th {\n",
       "        vertical-align: top;\n",
       "    }\n",
       "\n",
       "    .dataframe thead th {\n",
       "        text-align: right;\n",
       "    }\n",
       "</style>\n",
       "<table border=\"1\" class=\"dataframe\">\n",
       "  <thead>\n",
       "    <tr style=\"text-align: right;\">\n",
       "      <th></th>\n",
       "      <th>endTime</th>\n",
       "      <th>date_time</th>\n",
       "      <th>time_difference</th>\n",
       "    </tr>\n",
       "  </thead>\n",
       "  <tbody>\n",
       "    <tr>\n",
       "      <th>0</th>\n",
       "      <td>6/6/2022 10:39</td>\n",
       "      <td>2022-06-06 10:39:00</td>\n",
       "      <td>NaT</td>\n",
       "    </tr>\n",
       "    <tr>\n",
       "      <th>1</th>\n",
       "      <td>6/6/2022 10:43</td>\n",
       "      <td>2022-06-06 10:43:00</td>\n",
       "      <td>0 days 00:04:00</td>\n",
       "    </tr>\n",
       "    <tr>\n",
       "      <th>2</th>\n",
       "      <td>6/6/2022 10:46</td>\n",
       "      <td>2022-06-06 10:46:00</td>\n",
       "      <td>0 days 00:03:00</td>\n",
       "    </tr>\n",
       "    <tr>\n",
       "      <th>3</th>\n",
       "      <td>6/6/2022 10:49</td>\n",
       "      <td>2022-06-06 10:49:00</td>\n",
       "      <td>0 days 00:03:00</td>\n",
       "    </tr>\n",
       "    <tr>\n",
       "      <th>4</th>\n",
       "      <td>6/6/2022 10:52</td>\n",
       "      <td>2022-06-06 10:52:00</td>\n",
       "      <td>0 days 00:03:00</td>\n",
       "    </tr>\n",
       "    <tr>\n",
       "      <th>...</th>\n",
       "      <td>...</td>\n",
       "      <td>...</td>\n",
       "      <td>...</td>\n",
       "    </tr>\n",
       "    <tr>\n",
       "      <th>9994</th>\n",
       "      <td>9/8/2022 7:25</td>\n",
       "      <td>2022-09-08 07:25:00</td>\n",
       "      <td>0 days 00:04:00</td>\n",
       "    </tr>\n",
       "    <tr>\n",
       "      <th>9995</th>\n",
       "      <td>9/8/2022 7:30</td>\n",
       "      <td>2022-09-08 07:30:00</td>\n",
       "      <td>0 days 00:05:00</td>\n",
       "    </tr>\n",
       "    <tr>\n",
       "      <th>9996</th>\n",
       "      <td>9/8/2022 7:33</td>\n",
       "      <td>2022-09-08 07:33:00</td>\n",
       "      <td>0 days 00:03:00</td>\n",
       "    </tr>\n",
       "    <tr>\n",
       "      <th>9997</th>\n",
       "      <td>9/8/2022 7:36</td>\n",
       "      <td>2022-09-08 07:36:00</td>\n",
       "      <td>0 days 00:03:00</td>\n",
       "    </tr>\n",
       "    <tr>\n",
       "      <th>9998</th>\n",
       "      <td>9/8/2022 7:41</td>\n",
       "      <td>2022-09-08 07:41:00</td>\n",
       "      <td>0 days 00:05:00</td>\n",
       "    </tr>\n",
       "  </tbody>\n",
       "</table>\n",
       "<p>9999 rows × 3 columns</p>\n",
       "</div>"
      ],
      "text/plain": [
       "             endTime           date_time time_difference\n",
       "0     6/6/2022 10:39 2022-06-06 10:39:00             NaT\n",
       "1     6/6/2022 10:43 2022-06-06 10:43:00 0 days 00:04:00\n",
       "2     6/6/2022 10:46 2022-06-06 10:46:00 0 days 00:03:00\n",
       "3     6/6/2022 10:49 2022-06-06 10:49:00 0 days 00:03:00\n",
       "4     6/6/2022 10:52 2022-06-06 10:52:00 0 days 00:03:00\n",
       "...              ...                 ...             ...\n",
       "9994   9/8/2022 7:25 2022-09-08 07:25:00 0 days 00:04:00\n",
       "9995   9/8/2022 7:30 2022-09-08 07:30:00 0 days 00:05:00\n",
       "9996   9/8/2022 7:33 2022-09-08 07:33:00 0 days 00:03:00\n",
       "9997   9/8/2022 7:36 2022-09-08 07:36:00 0 days 00:03:00\n",
       "9998   9/8/2022 7:41 2022-09-08 07:41:00 0 days 00:05:00\n",
       "\n",
       "[9999 rows x 3 columns]"
      ]
     },
     "execution_count": 13,
     "metadata": {},
     "output_type": "execute_result"
    }
   ],
   "source": [
    "terence"
   ]
  },
  {
   "cell_type": "markdown",
   "id": "5e8ed0bf",
   "metadata": {},
   "source": [
    "### Part 2.3: "
   ]
  },
  {
   "cell_type": "markdown",
   "id": "6fc4f6ae",
   "metadata": {},
   "source": [
    "Calculating the maximum and average time between timestamps."
   ]
  },
  {
   "cell_type": "code",
   "execution_count": 14,
   "id": "46a3b032",
   "metadata": {},
   "outputs": [
    {
     "data": {
      "text/plain": [
       "Timedelta('2 days 15:27:00')"
      ]
     },
     "execution_count": 14,
     "metadata": {},
     "output_type": "execute_result"
    }
   ],
   "source": [
    "terence[\"time_difference\"].max()"
   ]
  },
  {
   "cell_type": "code",
   "execution_count": 15,
   "id": "005f90d7",
   "metadata": {},
   "outputs": [
    {
     "data": {
      "text/plain": [
       "Timedelta('0 days 00:13:31.053526763')"
      ]
     },
     "execution_count": 15,
     "metadata": {},
     "output_type": "execute_result"
    }
   ],
   "source": [
    "terence[\"time_difference\"].mean()"
   ]
  },
  {
   "cell_type": "markdown",
   "id": "9795f352",
   "metadata": {},
   "source": [
    "    The maximum time between timestamps is 2 days 15 hours and 27 minutes. \n",
    "    The average time between timestamps is 13 minutes and roughly 31 seconds."
   ]
  },
  {
   "cell_type": "markdown",
   "id": "29d9590f",
   "metadata": {},
   "source": [
    "### Part 2.4: "
   ]
  },
  {
   "cell_type": "code",
   "execution_count": 43,
   "id": "989840dd",
   "metadata": {},
   "outputs": [],
   "source": [
    "#Creating a new column with only the day from the timestamp concerned. \n",
    "terence['days'] = pd.DatetimeIndex(terence['date_time']).day "
   ]
  },
  {
   "cell_type": "code",
   "execution_count": null,
   "id": "050b72f2",
   "metadata": {},
   "outputs": [],
   "source": [
    "#Creating a new column with only the month from the timestamp concerned. \n",
    "terence['month'] = pd.DatetimeIndex(terence['date_time']).month"
   ]
  },
  {
   "cell_type": "code",
   "execution_count": 49,
   "id": "83c59ae7",
   "metadata": {},
   "outputs": [],
   "source": [
    "#Creating a new column with only the day and month from the timestamp concerned. \n",
    "#https://stackoverflow.com/questions/39291499/how-to-concatenate-multiple-column-values-into-a-single-column-in-pandas-datafra\n",
    "terence['days_&_months'] = terence['month'].astype(str) + '-' + terence['days'].astype(str)"
   ]
  },
  {
   "cell_type": "code",
   "execution_count": 50,
   "id": "169c8da5",
   "metadata": {},
   "outputs": [
    {
     "data": {
      "text/html": [
       "<div>\n",
       "<style scoped>\n",
       "    .dataframe tbody tr th:only-of-type {\n",
       "        vertical-align: middle;\n",
       "    }\n",
       "\n",
       "    .dataframe tbody tr th {\n",
       "        vertical-align: top;\n",
       "    }\n",
       "\n",
       "    .dataframe thead th {\n",
       "        text-align: right;\n",
       "    }\n",
       "</style>\n",
       "<table border=\"1\" class=\"dataframe\">\n",
       "  <thead>\n",
       "    <tr style=\"text-align: right;\">\n",
       "      <th></th>\n",
       "      <th>endTime</th>\n",
       "      <th>date_time</th>\n",
       "      <th>time_difference</th>\n",
       "      <th>days</th>\n",
       "      <th>month</th>\n",
       "      <th>days_&amp;_months</th>\n",
       "    </tr>\n",
       "  </thead>\n",
       "  <tbody>\n",
       "    <tr>\n",
       "      <th>0</th>\n",
       "      <td>6/6/2022 10:39</td>\n",
       "      <td>2022-06-06 10:39:00</td>\n",
       "      <td>NaT</td>\n",
       "      <td>6.0</td>\n",
       "      <td>6.0</td>\n",
       "      <td>6.0-6.0</td>\n",
       "    </tr>\n",
       "    <tr>\n",
       "      <th>1</th>\n",
       "      <td>6/6/2022 10:43</td>\n",
       "      <td>2022-06-06 10:43:00</td>\n",
       "      <td>0 days 00:04:00</td>\n",
       "      <td>6.0</td>\n",
       "      <td>6.0</td>\n",
       "      <td>6.0-6.0</td>\n",
       "    </tr>\n",
       "    <tr>\n",
       "      <th>2</th>\n",
       "      <td>6/6/2022 10:46</td>\n",
       "      <td>2022-06-06 10:46:00</td>\n",
       "      <td>0 days 00:03:00</td>\n",
       "      <td>6.0</td>\n",
       "      <td>6.0</td>\n",
       "      <td>6.0-6.0</td>\n",
       "    </tr>\n",
       "    <tr>\n",
       "      <th>3</th>\n",
       "      <td>6/6/2022 10:49</td>\n",
       "      <td>2022-06-06 10:49:00</td>\n",
       "      <td>0 days 00:03:00</td>\n",
       "      <td>6.0</td>\n",
       "      <td>6.0</td>\n",
       "      <td>6.0-6.0</td>\n",
       "    </tr>\n",
       "    <tr>\n",
       "      <th>4</th>\n",
       "      <td>6/6/2022 10:52</td>\n",
       "      <td>2022-06-06 10:52:00</td>\n",
       "      <td>0 days 00:03:00</td>\n",
       "      <td>6.0</td>\n",
       "      <td>6.0</td>\n",
       "      <td>6.0-6.0</td>\n",
       "    </tr>\n",
       "    <tr>\n",
       "      <th>...</th>\n",
       "      <td>...</td>\n",
       "      <td>...</td>\n",
       "      <td>...</td>\n",
       "      <td>...</td>\n",
       "      <td>...</td>\n",
       "      <td>...</td>\n",
       "    </tr>\n",
       "    <tr>\n",
       "      <th>9994</th>\n",
       "      <td>9/8/2022 7:25</td>\n",
       "      <td>2022-09-08 07:25:00</td>\n",
       "      <td>0 days 00:04:00</td>\n",
       "      <td>8.0</td>\n",
       "      <td>9.0</td>\n",
       "      <td>9.0-8.0</td>\n",
       "    </tr>\n",
       "    <tr>\n",
       "      <th>9995</th>\n",
       "      <td>9/8/2022 7:30</td>\n",
       "      <td>2022-09-08 07:30:00</td>\n",
       "      <td>0 days 00:05:00</td>\n",
       "      <td>8.0</td>\n",
       "      <td>9.0</td>\n",
       "      <td>9.0-8.0</td>\n",
       "    </tr>\n",
       "    <tr>\n",
       "      <th>9996</th>\n",
       "      <td>9/8/2022 7:33</td>\n",
       "      <td>2022-09-08 07:33:00</td>\n",
       "      <td>0 days 00:03:00</td>\n",
       "      <td>8.0</td>\n",
       "      <td>9.0</td>\n",
       "      <td>9.0-8.0</td>\n",
       "    </tr>\n",
       "    <tr>\n",
       "      <th>9997</th>\n",
       "      <td>9/8/2022 7:36</td>\n",
       "      <td>2022-09-08 07:36:00</td>\n",
       "      <td>0 days 00:03:00</td>\n",
       "      <td>8.0</td>\n",
       "      <td>9.0</td>\n",
       "      <td>9.0-8.0</td>\n",
       "    </tr>\n",
       "    <tr>\n",
       "      <th>9998</th>\n",
       "      <td>9/8/2022 7:41</td>\n",
       "      <td>2022-09-08 07:41:00</td>\n",
       "      <td>0 days 00:05:00</td>\n",
       "      <td>8.0</td>\n",
       "      <td>9.0</td>\n",
       "      <td>9.0-8.0</td>\n",
       "    </tr>\n",
       "  </tbody>\n",
       "</table>\n",
       "<p>9999 rows × 6 columns</p>\n",
       "</div>"
      ],
      "text/plain": [
       "             endTime           date_time time_difference  days  month  \\\n",
       "0     6/6/2022 10:39 2022-06-06 10:39:00             NaT   6.0    6.0   \n",
       "1     6/6/2022 10:43 2022-06-06 10:43:00 0 days 00:04:00   6.0    6.0   \n",
       "2     6/6/2022 10:46 2022-06-06 10:46:00 0 days 00:03:00   6.0    6.0   \n",
       "3     6/6/2022 10:49 2022-06-06 10:49:00 0 days 00:03:00   6.0    6.0   \n",
       "4     6/6/2022 10:52 2022-06-06 10:52:00 0 days 00:03:00   6.0    6.0   \n",
       "...              ...                 ...             ...   ...    ...   \n",
       "9994   9/8/2022 7:25 2022-09-08 07:25:00 0 days 00:04:00   8.0    9.0   \n",
       "9995   9/8/2022 7:30 2022-09-08 07:30:00 0 days 00:05:00   8.0    9.0   \n",
       "9996   9/8/2022 7:33 2022-09-08 07:33:00 0 days 00:03:00   8.0    9.0   \n",
       "9997   9/8/2022 7:36 2022-09-08 07:36:00 0 days 00:03:00   8.0    9.0   \n",
       "9998   9/8/2022 7:41 2022-09-08 07:41:00 0 days 00:05:00   8.0    9.0   \n",
       "\n",
       "     days_&_months  \n",
       "0          6.0-6.0  \n",
       "1          6.0-6.0  \n",
       "2          6.0-6.0  \n",
       "3          6.0-6.0  \n",
       "4          6.0-6.0  \n",
       "...            ...  \n",
       "9994       9.0-8.0  \n",
       "9995       9.0-8.0  \n",
       "9996       9.0-8.0  \n",
       "9997       9.0-8.0  \n",
       "9998       9.0-8.0  \n",
       "\n",
       "[9999 rows x 6 columns]"
      ]
     },
     "execution_count": 50,
     "metadata": {},
     "output_type": "execute_result"
    }
   ],
   "source": [
    "terence"
   ]
  },
  {
   "cell_type": "code",
   "execution_count": 52,
   "id": "d8d8e429",
   "metadata": {},
   "outputs": [
    {
     "name": "stdout",
     "output_type": "stream",
     "text": [
      "318\n",
      "7.0-3.0     318\n",
      "8.0-24.0    233\n",
      "6.0-23.0    225\n",
      "7.0-21.0    221\n",
      "6.0-27.0    220\n",
      "           ... \n",
      "8.0-6.0      16\n",
      "7.0-9.0      12\n",
      "9.0-7.0      11\n",
      "8.0-2.0       4\n",
      "nan-nan       2\n",
      "Name: days_&_months, Length: 95, dtype: int64\n"
     ]
    }
   ],
   "source": [
    "#Calculating the day with the most timestamps using the days & months column.\n",
    "day_counts = terence[\"days_&_months\"].value_counts()\n",
    "day_max= terence[\"days_&_months\"].value_counts().max()\n",
    "print(day_max)\n",
    "print(day_counts)"
   ]
  },
  {
   "cell_type": "markdown",
   "id": "cbd7f514",
   "metadata": {},
   "source": [
    "The day with most timestamps is July 3rd."
   ]
  },
  {
   "cell_type": "markdown",
   "id": "a71e3204",
   "metadata": {},
   "source": [
    "### Part 2.5: "
   ]
  },
  {
   "cell_type": "code",
   "execution_count": 53,
   "id": "a5ce03c3",
   "metadata": {},
   "outputs": [
    {
     "data": {
      "text/html": [
       "<div>\n",
       "<style scoped>\n",
       "    .dataframe tbody tr th:only-of-type {\n",
       "        vertical-align: middle;\n",
       "    }\n",
       "\n",
       "    .dataframe tbody tr th {\n",
       "        vertical-align: top;\n",
       "    }\n",
       "\n",
       "    .dataframe thead th {\n",
       "        text-align: right;\n",
       "    }\n",
       "</style>\n",
       "<table border=\"1\" class=\"dataframe\">\n",
       "  <thead>\n",
       "    <tr style=\"text-align: right;\">\n",
       "      <th></th>\n",
       "      <th>endTime</th>\n",
       "      <th>date_time</th>\n",
       "      <th>time_difference</th>\n",
       "      <th>days</th>\n",
       "      <th>month</th>\n",
       "      <th>days_&amp;_months</th>\n",
       "    </tr>\n",
       "  </thead>\n",
       "  <tbody>\n",
       "    <tr>\n",
       "      <th>0</th>\n",
       "      <td>6/6/2022 10:39</td>\n",
       "      <td>2022-06-06 10:39:00</td>\n",
       "      <td>NaT</td>\n",
       "      <td>6.0</td>\n",
       "      <td>6.0</td>\n",
       "      <td>6.0-6.0</td>\n",
       "    </tr>\n",
       "    <tr>\n",
       "      <th>1</th>\n",
       "      <td>6/6/2022 10:43</td>\n",
       "      <td>2022-06-06 10:43:00</td>\n",
       "      <td>0 days 00:04:00</td>\n",
       "      <td>6.0</td>\n",
       "      <td>6.0</td>\n",
       "      <td>6.0-6.0</td>\n",
       "    </tr>\n",
       "    <tr>\n",
       "      <th>2</th>\n",
       "      <td>6/6/2022 10:46</td>\n",
       "      <td>2022-06-06 10:46:00</td>\n",
       "      <td>0 days 00:03:00</td>\n",
       "      <td>6.0</td>\n",
       "      <td>6.0</td>\n",
       "      <td>6.0-6.0</td>\n",
       "    </tr>\n",
       "    <tr>\n",
       "      <th>3</th>\n",
       "      <td>6/6/2022 10:49</td>\n",
       "      <td>2022-06-06 10:49:00</td>\n",
       "      <td>0 days 00:03:00</td>\n",
       "      <td>6.0</td>\n",
       "      <td>6.0</td>\n",
       "      <td>6.0-6.0</td>\n",
       "    </tr>\n",
       "    <tr>\n",
       "      <th>4</th>\n",
       "      <td>6/6/2022 10:52</td>\n",
       "      <td>2022-06-06 10:52:00</td>\n",
       "      <td>0 days 00:03:00</td>\n",
       "      <td>6.0</td>\n",
       "      <td>6.0</td>\n",
       "      <td>6.0-6.0</td>\n",
       "    </tr>\n",
       "    <tr>\n",
       "      <th>...</th>\n",
       "      <td>...</td>\n",
       "      <td>...</td>\n",
       "      <td>...</td>\n",
       "      <td>...</td>\n",
       "      <td>...</td>\n",
       "      <td>...</td>\n",
       "    </tr>\n",
       "    <tr>\n",
       "      <th>9994</th>\n",
       "      <td>9/8/2022 7:25</td>\n",
       "      <td>2022-09-08 07:25:00</td>\n",
       "      <td>0 days 00:04:00</td>\n",
       "      <td>8.0</td>\n",
       "      <td>9.0</td>\n",
       "      <td>9.0-8.0</td>\n",
       "    </tr>\n",
       "    <tr>\n",
       "      <th>9995</th>\n",
       "      <td>9/8/2022 7:30</td>\n",
       "      <td>2022-09-08 07:30:00</td>\n",
       "      <td>0 days 00:05:00</td>\n",
       "      <td>8.0</td>\n",
       "      <td>9.0</td>\n",
       "      <td>9.0-8.0</td>\n",
       "    </tr>\n",
       "    <tr>\n",
       "      <th>9996</th>\n",
       "      <td>9/8/2022 7:33</td>\n",
       "      <td>2022-09-08 07:33:00</td>\n",
       "      <td>0 days 00:03:00</td>\n",
       "      <td>8.0</td>\n",
       "      <td>9.0</td>\n",
       "      <td>9.0-8.0</td>\n",
       "    </tr>\n",
       "    <tr>\n",
       "      <th>9997</th>\n",
       "      <td>9/8/2022 7:36</td>\n",
       "      <td>2022-09-08 07:36:00</td>\n",
       "      <td>0 days 00:03:00</td>\n",
       "      <td>8.0</td>\n",
       "      <td>9.0</td>\n",
       "      <td>9.0-8.0</td>\n",
       "    </tr>\n",
       "    <tr>\n",
       "      <th>9998</th>\n",
       "      <td>9/8/2022 7:41</td>\n",
       "      <td>2022-09-08 07:41:00</td>\n",
       "      <td>0 days 00:05:00</td>\n",
       "      <td>8.0</td>\n",
       "      <td>9.0</td>\n",
       "      <td>9.0-8.0</td>\n",
       "    </tr>\n",
       "  </tbody>\n",
       "</table>\n",
       "<p>9999 rows × 6 columns</p>\n",
       "</div>"
      ],
      "text/plain": [
       "             endTime           date_time time_difference  days  month  \\\n",
       "0     6/6/2022 10:39 2022-06-06 10:39:00             NaT   6.0    6.0   \n",
       "1     6/6/2022 10:43 2022-06-06 10:43:00 0 days 00:04:00   6.0    6.0   \n",
       "2     6/6/2022 10:46 2022-06-06 10:46:00 0 days 00:03:00   6.0    6.0   \n",
       "3     6/6/2022 10:49 2022-06-06 10:49:00 0 days 00:03:00   6.0    6.0   \n",
       "4     6/6/2022 10:52 2022-06-06 10:52:00 0 days 00:03:00   6.0    6.0   \n",
       "...              ...                 ...             ...   ...    ...   \n",
       "9994   9/8/2022 7:25 2022-09-08 07:25:00 0 days 00:04:00   8.0    9.0   \n",
       "9995   9/8/2022 7:30 2022-09-08 07:30:00 0 days 00:05:00   8.0    9.0   \n",
       "9996   9/8/2022 7:33 2022-09-08 07:33:00 0 days 00:03:00   8.0    9.0   \n",
       "9997   9/8/2022 7:36 2022-09-08 07:36:00 0 days 00:03:00   8.0    9.0   \n",
       "9998   9/8/2022 7:41 2022-09-08 07:41:00 0 days 00:05:00   8.0    9.0   \n",
       "\n",
       "     days_&_months  \n",
       "0          6.0-6.0  \n",
       "1          6.0-6.0  \n",
       "2          6.0-6.0  \n",
       "3          6.0-6.0  \n",
       "4          6.0-6.0  \n",
       "...            ...  \n",
       "9994       9.0-8.0  \n",
       "9995       9.0-8.0  \n",
       "9996       9.0-8.0  \n",
       "9997       9.0-8.0  \n",
       "9998       9.0-8.0  \n",
       "\n",
       "[9999 rows x 6 columns]"
      ]
     },
     "execution_count": 53,
     "metadata": {},
     "output_type": "execute_result"
    }
   ],
   "source": [
    "terence"
   ]
  },
  {
   "cell_type": "code",
   "execution_count": 54,
   "id": "84feda07",
   "metadata": {},
   "outputs": [
    {
     "name": "stdout",
     "output_type": "stream",
     "text": [
      "7.0    3419\n",
      "8.0    3037\n",
      "6.0    2721\n",
      "9.0     820\n",
      "Name: month, dtype: int64\n",
      "3419\n"
     ]
    }
   ],
   "source": [
    "#Calculating the month with the most timestamps using the months column.\n",
    "month_max = terence[\"month\"].value_counts()\n",
    "max_time = terence[\"month\"].value_counts().max()\n",
    "print(month_max)\n",
    "print(max_time)"
   ]
  },
  {
   "cell_type": "markdown",
   "id": "01305d9e",
   "metadata": {},
   "source": [
    "The month with the most timestamps is July, with a total of 3419 timestamps. "
   ]
  },
  {
   "cell_type": "markdown",
   "id": "da73d596",
   "metadata": {},
   "source": [
    "### Part 2.6: "
   ]
  },
  {
   "cell_type": "markdown",
   "id": "d6b372cc",
   "metadata": {},
   "source": [
    "My partner's data is from a audio streaming service. The timestamps are short, constant and large in number for such a short period of time. An audio streaming service consumer is more likely to share the same data characteristics."
   ]
  },
  {
   "cell_type": "markdown",
   "id": "c5dcd63c",
   "metadata": {},
   "source": [
    "### Part 2.7: "
   ]
  },
  {
   "cell_type": "markdown",
   "id": "84799b79",
   "metadata": {},
   "source": [
    "My partner has indeed correctly guessed where I requested my data from, Youtube. His analysis looked good too."
   ]
  },
  {
   "cell_type": "markdown",
   "id": "0227a1c7",
   "metadata": {},
   "source": [
    "### Part 2.8:\n"
   ]
  },
  {
   "cell_type": "markdown",
   "id": "a8563a05",
   "metadata": {},
   "source": [
    "March 2022 most coincided withe spring break, I most likely took that opportunity to relax and do what I could not do during school time"
   ]
  },
  {
   "cell_type": "markdown",
   "id": "488ed41e",
   "metadata": {},
   "source": [
    "### Part 2.9: "
   ]
  },
  {
   "cell_type": "markdown",
   "id": "dc8ed0bd",
   "metadata": {},
   "source": [
    "Terence's data was indeed requested from spotify. I think that for college students, being hyper active on apps like spotify is not uncommon, in fact I can arguably say that it is the norm. As for myself, I knew that I spent a lot of time on Youtube, but after Terence's analysis I really think that I should my best try to invest my time in some other beneficial areas too.  "
   ]
  },
  {
   "cell_type": "markdown",
   "id": "6b59d5b9",
   "metadata": {},
   "source": [
    "# Terence Part 2 "
   ]
  },
  {
   "cell_type": "code",
   "execution_count": 61,
   "id": "86f331bf",
   "metadata": {},
   "outputs": [
    {
     "data": {
      "text/html": [
       "<div>\n",
       "<style scoped>\n",
       "    .dataframe tbody tr th:only-of-type {\n",
       "        vertical-align: middle;\n",
       "    }\n",
       "\n",
       "    .dataframe tbody tr th {\n",
       "        vertical-align: top;\n",
       "    }\n",
       "\n",
       "    .dataframe thead th {\n",
       "        text-align: right;\n",
       "    }\n",
       "</style>\n",
       "<table border=\"1\" class=\"dataframe\">\n",
       "  <thead>\n",
       "    <tr style=\"text-align: right;\">\n",
       "      <th></th>\n",
       "      <th>Unnamed: 0</th>\n",
       "      <th>time</th>\n",
       "    </tr>\n",
       "  </thead>\n",
       "  <tbody>\n",
       "    <tr>\n",
       "      <th>0</th>\n",
       "      <td>0</td>\n",
       "      <td>2023-04-19T22:04:48.331Z</td>\n",
       "    </tr>\n",
       "    <tr>\n",
       "      <th>1</th>\n",
       "      <td>1</td>\n",
       "      <td>2023-04-19T21:59:00.004Z</td>\n",
       "    </tr>\n",
       "    <tr>\n",
       "      <th>2</th>\n",
       "      <td>2</td>\n",
       "      <td>2023-04-19T21:58:37.669Z</td>\n",
       "    </tr>\n",
       "    <tr>\n",
       "      <th>3</th>\n",
       "      <td>3</td>\n",
       "      <td>2023-04-19T21:58:25.254Z</td>\n",
       "    </tr>\n",
       "    <tr>\n",
       "      <th>4</th>\n",
       "      <td>4</td>\n",
       "      <td>2023-04-19T03:35:12.207Z</td>\n",
       "    </tr>\n",
       "  </tbody>\n",
       "</table>\n",
       "</div>"
      ],
      "text/plain": [
       "   Unnamed: 0                      time\n",
       "0           0  2023-04-19T22:04:48.331Z\n",
       "1           1  2023-04-19T21:59:00.004Z\n",
       "2           2  2023-04-19T21:58:37.669Z\n",
       "3           3  2023-04-19T21:58:25.254Z\n",
       "4           4  2023-04-19T03:35:12.207Z"
      ]
     },
     "execution_count": 61,
     "metadata": {},
     "output_type": "execute_result"
    }
   ],
   "source": [
    "chetima = pd.read_csv(\"timestamp.csv\")\n",
    "chetima.head(5)"
   ]
  },
  {
   "cell_type": "code",
   "execution_count": 62,
   "id": "54e0d821",
   "metadata": {},
   "outputs": [
    {
     "data": {
      "text/html": [
       "<div>\n",
       "<style scoped>\n",
       "    .dataframe tbody tr th:only-of-type {\n",
       "        vertical-align: middle;\n",
       "    }\n",
       "\n",
       "    .dataframe tbody tr th {\n",
       "        vertical-align: top;\n",
       "    }\n",
       "\n",
       "    .dataframe thead th {\n",
       "        text-align: right;\n",
       "    }\n",
       "</style>\n",
       "<table border=\"1\" class=\"dataframe\">\n",
       "  <thead>\n",
       "    <tr style=\"text-align: right;\">\n",
       "      <th></th>\n",
       "      <th>Unnamed: 0</th>\n",
       "      <th>time</th>\n",
       "    </tr>\n",
       "  </thead>\n",
       "  <tbody>\n",
       "    <tr>\n",
       "      <th>19970</th>\n",
       "      <td>19970</td>\n",
       "      <td>2019-04-07T12:30:57.931Z</td>\n",
       "    </tr>\n",
       "    <tr>\n",
       "      <th>19969</th>\n",
       "      <td>19969</td>\n",
       "      <td>2019-04-07T21:18:22.625Z</td>\n",
       "    </tr>\n",
       "    <tr>\n",
       "      <th>19968</th>\n",
       "      <td>19968</td>\n",
       "      <td>2019-04-07T21:27:52.689Z</td>\n",
       "    </tr>\n",
       "    <tr>\n",
       "      <th>19967</th>\n",
       "      <td>19967</td>\n",
       "      <td>2019-04-09T21:34:21.036Z</td>\n",
       "    </tr>\n",
       "    <tr>\n",
       "      <th>19966</th>\n",
       "      <td>19966</td>\n",
       "      <td>2019-04-10T12:00:53.076Z</td>\n",
       "    </tr>\n",
       "    <tr>\n",
       "      <th>19965</th>\n",
       "      <td>19965</td>\n",
       "      <td>2019-04-13T16:03:42.789Z</td>\n",
       "    </tr>\n",
       "    <tr>\n",
       "      <th>19964</th>\n",
       "      <td>19964</td>\n",
       "      <td>2019-04-13T22:26:12.348Z</td>\n",
       "    </tr>\n",
       "    <tr>\n",
       "      <th>19963</th>\n",
       "      <td>19963</td>\n",
       "      <td>2019-04-13T22:27:07.778Z</td>\n",
       "    </tr>\n",
       "    <tr>\n",
       "      <th>19962</th>\n",
       "      <td>19962</td>\n",
       "      <td>2019-04-13T22:30:38.591Z</td>\n",
       "    </tr>\n",
       "    <tr>\n",
       "      <th>19961</th>\n",
       "      <td>19961</td>\n",
       "      <td>2019-04-13T22:35:46.208Z</td>\n",
       "    </tr>\n",
       "  </tbody>\n",
       "</table>\n",
       "</div>"
      ],
      "text/plain": [
       "       Unnamed: 0                      time\n",
       "19970       19970  2019-04-07T12:30:57.931Z\n",
       "19969       19969  2019-04-07T21:18:22.625Z\n",
       "19968       19968  2019-04-07T21:27:52.689Z\n",
       "19967       19967  2019-04-09T21:34:21.036Z\n",
       "19966       19966  2019-04-10T12:00:53.076Z\n",
       "19965       19965  2019-04-13T16:03:42.789Z\n",
       "19964       19964  2019-04-13T22:26:12.348Z\n",
       "19963       19963  2019-04-13T22:27:07.778Z\n",
       "19962       19962  2019-04-13T22:30:38.591Z\n",
       "19961       19961  2019-04-13T22:35:46.208Z"
      ]
     },
     "execution_count": 62,
     "metadata": {},
     "output_type": "execute_result"
    }
   ],
   "source": [
    "chetima = chetima.sort_values(by='time', ascending = True)\n",
    "chetima.head(10)"
   ]
  },
  {
   "cell_type": "code",
   "execution_count": 63,
   "id": "a710c9be",
   "metadata": {},
   "outputs": [],
   "source": [
    "chetima.drop(columns = \"Unnamed: 0\", inplace = True)"
   ]
  },
  {
   "cell_type": "code",
   "execution_count": 64,
   "id": "cba10496",
   "metadata": {},
   "outputs": [
    {
     "data": {
      "text/html": [
       "<div>\n",
       "<style scoped>\n",
       "    .dataframe tbody tr th:only-of-type {\n",
       "        vertical-align: middle;\n",
       "    }\n",
       "\n",
       "    .dataframe tbody tr th {\n",
       "        vertical-align: top;\n",
       "    }\n",
       "\n",
       "    .dataframe thead th {\n",
       "        text-align: right;\n",
       "    }\n",
       "</style>\n",
       "<table border=\"1\" class=\"dataframe\">\n",
       "  <thead>\n",
       "    <tr style=\"text-align: right;\">\n",
       "      <th></th>\n",
       "      <th>time</th>\n",
       "    </tr>\n",
       "  </thead>\n",
       "  <tbody>\n",
       "    <tr>\n",
       "      <th>19970</th>\n",
       "      <td>2019-04-07T12:30:57.931Z</td>\n",
       "    </tr>\n",
       "    <tr>\n",
       "      <th>19969</th>\n",
       "      <td>2019-04-07T21:18:22.625Z</td>\n",
       "    </tr>\n",
       "    <tr>\n",
       "      <th>19968</th>\n",
       "      <td>2019-04-07T21:27:52.689Z</td>\n",
       "    </tr>\n",
       "    <tr>\n",
       "      <th>19967</th>\n",
       "      <td>2019-04-09T21:34:21.036Z</td>\n",
       "    </tr>\n",
       "    <tr>\n",
       "      <th>19966</th>\n",
       "      <td>2019-04-10T12:00:53.076Z</td>\n",
       "    </tr>\n",
       "  </tbody>\n",
       "</table>\n",
       "</div>"
      ],
      "text/plain": [
       "                           time\n",
       "19970  2019-04-07T12:30:57.931Z\n",
       "19969  2019-04-07T21:18:22.625Z\n",
       "19968  2019-04-07T21:27:52.689Z\n",
       "19967  2019-04-09T21:34:21.036Z\n",
       "19966  2019-04-10T12:00:53.076Z"
      ]
     },
     "execution_count": 64,
     "metadata": {},
     "output_type": "execute_result"
    }
   ],
   "source": [
    "chetima.head(5)"
   ]
  },
  {
   "cell_type": "code",
   "execution_count": null,
   "id": "e6d44092",
   "metadata": {},
   "outputs": [],
   "source": []
  },
  {
   "cell_type": "code",
   "execution_count": 65,
   "id": "919d40e2",
   "metadata": {},
   "outputs": [],
   "source": [
    "chetima.time = pd.to_datetime(chetima.time, errors=\"ignore\")"
   ]
  },
  {
   "cell_type": "code",
   "execution_count": 66,
   "id": "8ee60e3c",
   "metadata": {},
   "outputs": [
    {
     "data": {
      "text/html": [
       "<div>\n",
       "<style scoped>\n",
       "    .dataframe tbody tr th:only-of-type {\n",
       "        vertical-align: middle;\n",
       "    }\n",
       "\n",
       "    .dataframe tbody tr th {\n",
       "        vertical-align: top;\n",
       "    }\n",
       "\n",
       "    .dataframe thead th {\n",
       "        text-align: right;\n",
       "    }\n",
       "</style>\n",
       "<table border=\"1\" class=\"dataframe\">\n",
       "  <thead>\n",
       "    <tr style=\"text-align: right;\">\n",
       "      <th></th>\n",
       "      <th>time</th>\n",
       "    </tr>\n",
       "  </thead>\n",
       "  <tbody>\n",
       "    <tr>\n",
       "      <th>19970</th>\n",
       "      <td>2019-04-07 12:30:57.931000+00:00</td>\n",
       "    </tr>\n",
       "    <tr>\n",
       "      <th>19969</th>\n",
       "      <td>2019-04-07 21:18:22.625000+00:00</td>\n",
       "    </tr>\n",
       "    <tr>\n",
       "      <th>19968</th>\n",
       "      <td>2019-04-07 21:27:52.689000+00:00</td>\n",
       "    </tr>\n",
       "    <tr>\n",
       "      <th>19967</th>\n",
       "      <td>2019-04-09 21:34:21.036000+00:00</td>\n",
       "    </tr>\n",
       "    <tr>\n",
       "      <th>19966</th>\n",
       "      <td>2019-04-10 12:00:53.076000+00:00</td>\n",
       "    </tr>\n",
       "  </tbody>\n",
       "</table>\n",
       "</div>"
      ],
      "text/plain": [
       "                                  time\n",
       "19970 2019-04-07 12:30:57.931000+00:00\n",
       "19969 2019-04-07 21:18:22.625000+00:00\n",
       "19968 2019-04-07 21:27:52.689000+00:00\n",
       "19967 2019-04-09 21:34:21.036000+00:00\n",
       "19966 2019-04-10 12:00:53.076000+00:00"
      ]
     },
     "execution_count": 66,
     "metadata": {},
     "output_type": "execute_result"
    }
   ],
   "source": [
    "chetima.head(5)"
   ]
  },
  {
   "cell_type": "code",
   "execution_count": 67,
   "id": "be599f6a",
   "metadata": {},
   "outputs": [],
   "source": [
    "chetima[\"time_delta\"] = chetima.time.diff()"
   ]
  },
  {
   "cell_type": "code",
   "execution_count": 68,
   "id": "dd0eafdb",
   "metadata": {},
   "outputs": [
    {
     "data": {
      "text/html": [
       "<div>\n",
       "<style scoped>\n",
       "    .dataframe tbody tr th:only-of-type {\n",
       "        vertical-align: middle;\n",
       "    }\n",
       "\n",
       "    .dataframe tbody tr th {\n",
       "        vertical-align: top;\n",
       "    }\n",
       "\n",
       "    .dataframe thead th {\n",
       "        text-align: right;\n",
       "    }\n",
       "</style>\n",
       "<table border=\"1\" class=\"dataframe\">\n",
       "  <thead>\n",
       "    <tr style=\"text-align: right;\">\n",
       "      <th></th>\n",
       "      <th>time</th>\n",
       "      <th>time_delta</th>\n",
       "    </tr>\n",
       "  </thead>\n",
       "  <tbody>\n",
       "    <tr>\n",
       "      <th>19970</th>\n",
       "      <td>2019-04-07 12:30:57.931000+00:00</td>\n",
       "      <td>NaT</td>\n",
       "    </tr>\n",
       "    <tr>\n",
       "      <th>19969</th>\n",
       "      <td>2019-04-07 21:18:22.625000+00:00</td>\n",
       "      <td>0 days 08:47:24.694000</td>\n",
       "    </tr>\n",
       "    <tr>\n",
       "      <th>19968</th>\n",
       "      <td>2019-04-07 21:27:52.689000+00:00</td>\n",
       "      <td>0 days 00:09:30.064000</td>\n",
       "    </tr>\n",
       "    <tr>\n",
       "      <th>19967</th>\n",
       "      <td>2019-04-09 21:34:21.036000+00:00</td>\n",
       "      <td>2 days 00:06:28.347000</td>\n",
       "    </tr>\n",
       "    <tr>\n",
       "      <th>19966</th>\n",
       "      <td>2019-04-10 12:00:53.076000+00:00</td>\n",
       "      <td>0 days 14:26:32.040000</td>\n",
       "    </tr>\n",
       "  </tbody>\n",
       "</table>\n",
       "</div>"
      ],
      "text/plain": [
       "                                  time             time_delta\n",
       "19970 2019-04-07 12:30:57.931000+00:00                    NaT\n",
       "19969 2019-04-07 21:18:22.625000+00:00 0 days 08:47:24.694000\n",
       "19968 2019-04-07 21:27:52.689000+00:00 0 days 00:09:30.064000\n",
       "19967 2019-04-09 21:34:21.036000+00:00 2 days 00:06:28.347000\n",
       "19966 2019-04-10 12:00:53.076000+00:00 0 days 14:26:32.040000"
      ]
     },
     "execution_count": 68,
     "metadata": {},
     "output_type": "execute_result"
    }
   ],
   "source": [
    "chetima.head(5)"
   ]
  },
  {
   "cell_type": "code",
   "execution_count": 69,
   "id": "4e9086fa",
   "metadata": {},
   "outputs": [
    {
     "data": {
      "text/plain": [
       "count                        19970\n",
       "mean     0 days 01:46:14.643485227\n",
       "std      0 days 08:49:36.550994119\n",
       "min         0 days 00:00:00.139000\n",
       "25%         0 days 00:01:10.652750\n",
       "50%         0 days 00:04:45.097000\n",
       "75%         0 days 00:20:33.384750\n",
       "max        15 days 00:34:23.244000\n",
       "Name: time_delta, dtype: object"
      ]
     },
     "execution_count": 69,
     "metadata": {},
     "output_type": "execute_result"
    }
   ],
   "source": [
    "chetima.time_delta.describe()"
   ]
  },
  {
   "cell_type": "markdown",
   "id": "afc522c2",
   "metadata": {},
   "source": [
    "### Part 2.3:\n"
   ]
  },
  {
   "cell_type": "markdown",
   "id": "469834db",
   "metadata": {},
   "source": [
    "The longest time between timestamps is roughly 15 days and the average is 1 hr 46 mins and 14 secs."
   ]
  },
  {
   "cell_type": "code",
   "execution_count": 70,
   "id": "5f7779b9",
   "metadata": {},
   "outputs": [],
   "source": [
    "# Because the data is accross three years, I had to index using both year and dayofyear so that I could an accurate \n",
    "#count of the day with the most timestamps. First I get the year with the most timestamps and then I get the day\n",
    "# with the most time stamps in that year. \n",
    "chetima[\"day\"] = chetima.time.dt.dayofyear\n",
    "chetima[\"year\"] = chetima.time.dt.year"
   ]
  },
  {
   "cell_type": "code",
   "execution_count": 71,
   "id": "e648a833",
   "metadata": {},
   "outputs": [
    {
     "data": {
      "text/html": [
       "<div>\n",
       "<style scoped>\n",
       "    .dataframe tbody tr th:only-of-type {\n",
       "        vertical-align: middle;\n",
       "    }\n",
       "\n",
       "    .dataframe tbody tr th {\n",
       "        vertical-align: top;\n",
       "    }\n",
       "\n",
       "    .dataframe thead th {\n",
       "        text-align: right;\n",
       "    }\n",
       "</style>\n",
       "<table border=\"1\" class=\"dataframe\">\n",
       "  <thead>\n",
       "    <tr style=\"text-align: right;\">\n",
       "      <th></th>\n",
       "      <th>time</th>\n",
       "      <th>time_delta</th>\n",
       "      <th>day</th>\n",
       "      <th>year</th>\n",
       "    </tr>\n",
       "  </thead>\n",
       "  <tbody>\n",
       "    <tr>\n",
       "      <th>19970</th>\n",
       "      <td>2019-04-07 12:30:57.931000+00:00</td>\n",
       "      <td>NaT</td>\n",
       "      <td>97</td>\n",
       "      <td>2019</td>\n",
       "    </tr>\n",
       "    <tr>\n",
       "      <th>19969</th>\n",
       "      <td>2019-04-07 21:18:22.625000+00:00</td>\n",
       "      <td>0 days 08:47:24.694000</td>\n",
       "      <td>97</td>\n",
       "      <td>2019</td>\n",
       "    </tr>\n",
       "    <tr>\n",
       "      <th>19968</th>\n",
       "      <td>2019-04-07 21:27:52.689000+00:00</td>\n",
       "      <td>0 days 00:09:30.064000</td>\n",
       "      <td>97</td>\n",
       "      <td>2019</td>\n",
       "    </tr>\n",
       "    <tr>\n",
       "      <th>19967</th>\n",
       "      <td>2019-04-09 21:34:21.036000+00:00</td>\n",
       "      <td>2 days 00:06:28.347000</td>\n",
       "      <td>99</td>\n",
       "      <td>2019</td>\n",
       "    </tr>\n",
       "    <tr>\n",
       "      <th>19966</th>\n",
       "      <td>2019-04-10 12:00:53.076000+00:00</td>\n",
       "      <td>0 days 14:26:32.040000</td>\n",
       "      <td>100</td>\n",
       "      <td>2019</td>\n",
       "    </tr>\n",
       "    <tr>\n",
       "      <th>19965</th>\n",
       "      <td>2019-04-13 16:03:42.789000+00:00</td>\n",
       "      <td>3 days 04:02:49.713000</td>\n",
       "      <td>103</td>\n",
       "      <td>2019</td>\n",
       "    </tr>\n",
       "    <tr>\n",
       "      <th>19964</th>\n",
       "      <td>2019-04-13 22:26:12.348000+00:00</td>\n",
       "      <td>0 days 06:22:29.559000</td>\n",
       "      <td>103</td>\n",
       "      <td>2019</td>\n",
       "    </tr>\n",
       "    <tr>\n",
       "      <th>19963</th>\n",
       "      <td>2019-04-13 22:27:07.778000+00:00</td>\n",
       "      <td>0 days 00:00:55.430000</td>\n",
       "      <td>103</td>\n",
       "      <td>2019</td>\n",
       "    </tr>\n",
       "    <tr>\n",
       "      <th>19962</th>\n",
       "      <td>2019-04-13 22:30:38.591000+00:00</td>\n",
       "      <td>0 days 00:03:30.813000</td>\n",
       "      <td>103</td>\n",
       "      <td>2019</td>\n",
       "    </tr>\n",
       "    <tr>\n",
       "      <th>19961</th>\n",
       "      <td>2019-04-13 22:35:46.208000+00:00</td>\n",
       "      <td>0 days 00:05:07.617000</td>\n",
       "      <td>103</td>\n",
       "      <td>2019</td>\n",
       "    </tr>\n",
       "  </tbody>\n",
       "</table>\n",
       "</div>"
      ],
      "text/plain": [
       "                                  time             time_delta  day  year\n",
       "19970 2019-04-07 12:30:57.931000+00:00                    NaT   97  2019\n",
       "19969 2019-04-07 21:18:22.625000+00:00 0 days 08:47:24.694000   97  2019\n",
       "19968 2019-04-07 21:27:52.689000+00:00 0 days 00:09:30.064000   97  2019\n",
       "19967 2019-04-09 21:34:21.036000+00:00 2 days 00:06:28.347000   99  2019\n",
       "19966 2019-04-10 12:00:53.076000+00:00 0 days 14:26:32.040000  100  2019\n",
       "19965 2019-04-13 16:03:42.789000+00:00 3 days 04:02:49.713000  103  2019\n",
       "19964 2019-04-13 22:26:12.348000+00:00 0 days 06:22:29.559000  103  2019\n",
       "19963 2019-04-13 22:27:07.778000+00:00 0 days 00:00:55.430000  103  2019\n",
       "19962 2019-04-13 22:30:38.591000+00:00 0 days 00:03:30.813000  103  2019\n",
       "19961 2019-04-13 22:35:46.208000+00:00 0 days 00:05:07.617000  103  2019"
      ]
     },
     "execution_count": 71,
     "metadata": {},
     "output_type": "execute_result"
    }
   ],
   "source": [
    "chetima.head(10)"
   ]
  },
  {
   "cell_type": "code",
   "execution_count": 72,
   "id": "755579a2",
   "metadata": {},
   "outputs": [
    {
     "data": {
      "text/plain": [
       "2022    7930\n",
       "2023    4808\n",
       "2019    2818\n",
       "2021    2640\n",
       "2020    1775\n",
       "Name: year, dtype: int64"
      ]
     },
     "execution_count": 72,
     "metadata": {},
     "output_type": "execute_result"
    }
   ],
   "source": [
    "chetima.year.value_counts()"
   ]
  },
  {
   "cell_type": "code",
   "execution_count": 73,
   "id": "44b45171",
   "metadata": {},
   "outputs": [
    {
     "data": {
      "text/html": [
       "<div>\n",
       "<style scoped>\n",
       "    .dataframe tbody tr th:only-of-type {\n",
       "        vertical-align: middle;\n",
       "    }\n",
       "\n",
       "    .dataframe tbody tr th {\n",
       "        vertical-align: top;\n",
       "    }\n",
       "\n",
       "    .dataframe thead th {\n",
       "        text-align: right;\n",
       "    }\n",
       "</style>\n",
       "<table border=\"1\" class=\"dataframe\">\n",
       "  <thead>\n",
       "    <tr style=\"text-align: right;\">\n",
       "      <th></th>\n",
       "      <th>time</th>\n",
       "      <th>time_delta</th>\n",
       "      <th>day</th>\n",
       "      <th>year</th>\n",
       "    </tr>\n",
       "  </thead>\n",
       "  <tbody>\n",
       "    <tr>\n",
       "      <th>12737</th>\n",
       "      <td>2022-01-01 00:02:44.622000+00:00</td>\n",
       "      <td>0 days 00:18:41.056000</td>\n",
       "      <td>1</td>\n",
       "      <td>2022</td>\n",
       "    </tr>\n",
       "    <tr>\n",
       "      <th>12736</th>\n",
       "      <td>2022-01-01 01:56:10.539000+00:00</td>\n",
       "      <td>0 days 01:53:25.917000</td>\n",
       "      <td>1</td>\n",
       "      <td>2022</td>\n",
       "    </tr>\n",
       "    <tr>\n",
       "      <th>12735</th>\n",
       "      <td>2022-01-01 02:04:08.698000+00:00</td>\n",
       "      <td>0 days 00:07:58.159000</td>\n",
       "      <td>1</td>\n",
       "      <td>2022</td>\n",
       "    </tr>\n",
       "    <tr>\n",
       "      <th>12734</th>\n",
       "      <td>2022-01-01 02:05:59.573000+00:00</td>\n",
       "      <td>0 days 00:01:50.875000</td>\n",
       "      <td>1</td>\n",
       "      <td>2022</td>\n",
       "    </tr>\n",
       "    <tr>\n",
       "      <th>12733</th>\n",
       "      <td>2022-01-01 05:47:40.521000+00:00</td>\n",
       "      <td>0 days 03:41:40.948000</td>\n",
       "      <td>1</td>\n",
       "      <td>2022</td>\n",
       "    </tr>\n",
       "    <tr>\n",
       "      <th>12732</th>\n",
       "      <td>2022-01-01 05:48:23.328000+00:00</td>\n",
       "      <td>0 days 00:00:42.807000</td>\n",
       "      <td>1</td>\n",
       "      <td>2022</td>\n",
       "    </tr>\n",
       "    <tr>\n",
       "      <th>12731</th>\n",
       "      <td>2022-01-01 05:48:24.203000+00:00</td>\n",
       "      <td>0 days 00:00:00.875000</td>\n",
       "      <td>1</td>\n",
       "      <td>2022</td>\n",
       "    </tr>\n",
       "    <tr>\n",
       "      <th>12730</th>\n",
       "      <td>2022-01-01 05:48:25.871000+00:00</td>\n",
       "      <td>0 days 00:00:01.668000</td>\n",
       "      <td>1</td>\n",
       "      <td>2022</td>\n",
       "    </tr>\n",
       "    <tr>\n",
       "      <th>12729</th>\n",
       "      <td>2022-01-01 05:48:56.486000+00:00</td>\n",
       "      <td>0 days 00:00:30.615000</td>\n",
       "      <td>1</td>\n",
       "      <td>2022</td>\n",
       "    </tr>\n",
       "    <tr>\n",
       "      <th>12728</th>\n",
       "      <td>2022-01-01 05:49:32.942000+00:00</td>\n",
       "      <td>0 days 00:00:36.456000</td>\n",
       "      <td>1</td>\n",
       "      <td>2022</td>\n",
       "    </tr>\n",
       "  </tbody>\n",
       "</table>\n",
       "</div>"
      ],
      "text/plain": [
       "                                  time             time_delta  day  year\n",
       "12737 2022-01-01 00:02:44.622000+00:00 0 days 00:18:41.056000    1  2022\n",
       "12736 2022-01-01 01:56:10.539000+00:00 0 days 01:53:25.917000    1  2022\n",
       "12735 2022-01-01 02:04:08.698000+00:00 0 days 00:07:58.159000    1  2022\n",
       "12734 2022-01-01 02:05:59.573000+00:00 0 days 00:01:50.875000    1  2022\n",
       "12733 2022-01-01 05:47:40.521000+00:00 0 days 03:41:40.948000    1  2022\n",
       "12732 2022-01-01 05:48:23.328000+00:00 0 days 00:00:42.807000    1  2022\n",
       "12731 2022-01-01 05:48:24.203000+00:00 0 days 00:00:00.875000    1  2022\n",
       "12730 2022-01-01 05:48:25.871000+00:00 0 days 00:00:01.668000    1  2022\n",
       "12729 2022-01-01 05:48:56.486000+00:00 0 days 00:00:30.615000    1  2022\n",
       "12728 2022-01-01 05:49:32.942000+00:00 0 days 00:00:36.456000    1  2022"
      ]
     },
     "execution_count": 73,
     "metadata": {},
     "output_type": "execute_result"
    }
   ],
   "source": [
    "year_2022 = chetima[chetima.year == 2022]\n",
    "year_2022.head(10)"
   ]
  },
  {
   "cell_type": "code",
   "execution_count": 74,
   "id": "887bf20e",
   "metadata": {},
   "outputs": [
    {
     "data": {
      "text/plain": [
       "362    74\n",
       "87     72\n",
       "365    66\n",
       "67     65\n",
       "128    64\n",
       "       ..\n",
       "165     2\n",
       "224     2\n",
       "244     1\n",
       "247     1\n",
       "233     1\n",
       "Name: day, Length: 349, dtype: int64"
      ]
     },
     "execution_count": 74,
     "metadata": {},
     "output_type": "execute_result"
    }
   ],
   "source": [
    "year_2022.day.value_counts()"
   ]
  },
  {
   "cell_type": "code",
   "execution_count": 75,
   "id": "2440696d",
   "metadata": {},
   "outputs": [
    {
     "data": {
      "text/html": [
       "<div>\n",
       "<style scoped>\n",
       "    .dataframe tbody tr th:only-of-type {\n",
       "        vertical-align: middle;\n",
       "    }\n",
       "\n",
       "    .dataframe tbody tr th {\n",
       "        vertical-align: top;\n",
       "    }\n",
       "\n",
       "    .dataframe thead th {\n",
       "        text-align: right;\n",
       "    }\n",
       "</style>\n",
       "<table border=\"1\" class=\"dataframe\">\n",
       "  <thead>\n",
       "    <tr style=\"text-align: right;\">\n",
       "      <th></th>\n",
       "      <th>time</th>\n",
       "      <th>time_delta</th>\n",
       "      <th>day</th>\n",
       "      <th>year</th>\n",
       "    </tr>\n",
       "  </thead>\n",
       "  <tbody>\n",
       "    <tr>\n",
       "      <th>10770</th>\n",
       "      <td>2022-03-15 00:19:13.287000+00:00</td>\n",
       "      <td>0 days 01:49:12.705000</td>\n",
       "      <td>74</td>\n",
       "      <td>2022</td>\n",
       "    </tr>\n",
       "    <tr>\n",
       "      <th>10769</th>\n",
       "      <td>2022-03-15 00:54:29.270000+00:00</td>\n",
       "      <td>0 days 00:35:15.983000</td>\n",
       "      <td>74</td>\n",
       "      <td>2022</td>\n",
       "    </tr>\n",
       "    <tr>\n",
       "      <th>10768</th>\n",
       "      <td>2022-03-15 01:00:37.962000+00:00</td>\n",
       "      <td>0 days 00:06:08.692000</td>\n",
       "      <td>74</td>\n",
       "      <td>2022</td>\n",
       "    </tr>\n",
       "    <tr>\n",
       "      <th>10767</th>\n",
       "      <td>2022-03-15 02:51:27.411000+00:00</td>\n",
       "      <td>0 days 01:50:49.449000</td>\n",
       "      <td>74</td>\n",
       "      <td>2022</td>\n",
       "    </tr>\n",
       "    <tr>\n",
       "      <th>10766</th>\n",
       "      <td>2022-03-15 02:52:21.392000+00:00</td>\n",
       "      <td>0 days 00:00:53.981000</td>\n",
       "      <td>74</td>\n",
       "      <td>2022</td>\n",
       "    </tr>\n",
       "  </tbody>\n",
       "</table>\n",
       "</div>"
      ],
      "text/plain": [
       "                                  time             time_delta  day  year\n",
       "10770 2022-03-15 00:19:13.287000+00:00 0 days 01:49:12.705000   74  2022\n",
       "10769 2022-03-15 00:54:29.270000+00:00 0 days 00:35:15.983000   74  2022\n",
       "10768 2022-03-15 01:00:37.962000+00:00 0 days 00:06:08.692000   74  2022\n",
       "10767 2022-03-15 02:51:27.411000+00:00 0 days 01:50:49.449000   74  2022\n",
       "10766 2022-03-15 02:52:21.392000+00:00 0 days 00:00:53.981000   74  2022"
      ]
     },
     "execution_count": 75,
     "metadata": {},
     "output_type": "execute_result"
    }
   ],
   "source": [
    "year_2022[year_2022.day == 74].head(5)"
   ]
  },
  {
   "cell_type": "markdown",
   "id": "3d3090da",
   "metadata": {},
   "source": [
    "### Part 2.4: "
   ]
  },
  {
   "cell_type": "code",
   "execution_count": 76,
   "id": "7e54769e",
   "metadata": {},
   "outputs": [
    {
     "ename": "SyntaxError",
     "evalue": "invalid syntax (3049643515.py, line 1)",
     "output_type": "error",
     "traceback": [
      "\u001b[1;36m  File \u001b[1;32m\"C:\\Users\\Public\\Documents\\Wondershare\\CreatorTemp\\ipykernel_36232\\3049643515.py\"\u001b[1;36m, line \u001b[1;32m1\u001b[0m\n\u001b[1;33m    The 15th of March 2022 had the most timestamps.\u001b[0m\n\u001b[1;37m        ^\u001b[0m\n\u001b[1;31mSyntaxError\u001b[0m\u001b[1;31m:\u001b[0m invalid syntax\n"
     ]
    }
   ],
   "source": [
    "The 15th of March 2022 had the most timestamps."
   ]
  },
  {
   "cell_type": "code",
   "execution_count": 77,
   "id": "26afb1f8",
   "metadata": {},
   "outputs": [
    {
     "name": "stderr",
     "output_type": "stream",
     "text": [
      "C:\\Users\\Public\\Documents\\Wondershare\\CreatorTemp\\ipykernel_36232\\539652368.py:1: SettingWithCopyWarning: \n",
      "A value is trying to be set on a copy of a slice from a DataFrame.\n",
      "Try using .loc[row_indexer,col_indexer] = value instead\n",
      "\n",
      "See the caveats in the documentation: https://pandas.pydata.org/pandas-docs/stable/user_guide/indexing.html#returning-a-view-versus-a-copy\n",
      "  year_2022[\"month\"] = year_2022.time.dt.month\n"
     ]
    }
   ],
   "source": [
    "year_2022[\"month\"] = year_2022.time.dt.month"
   ]
  },
  {
   "cell_type": "code",
   "execution_count": 78,
   "id": "d76d6231",
   "metadata": {},
   "outputs": [
    {
     "data": {
      "text/plain": [
       "3     1032\n",
       "4      914\n",
       "5      894\n",
       "2      854\n",
       "12     741\n",
       "10     735\n",
       "1      621\n",
       "11     567\n",
       "7      454\n",
       "8      436\n",
       "6      357\n",
       "9      325\n",
       "Name: month, dtype: int64"
      ]
     },
     "execution_count": 78,
     "metadata": {},
     "output_type": "execute_result"
    }
   ],
   "source": [
    "year_2022.month.value_counts()"
   ]
  },
  {
   "cell_type": "markdown",
   "id": "f5fc83f0",
   "metadata": {},
   "source": [
    "### Part 2.5:\n"
   ]
  },
  {
   "cell_type": "markdown",
   "id": "33516138",
   "metadata": {},
   "source": [
    "The month of March in 2022 had 1032 timestamps which is the most in all three years"
   ]
  },
  {
   "cell_type": "markdown",
   "id": "f3ea1e73",
   "metadata": {},
   "source": [
    "### Part 2.6"
   ]
  },
  {
   "cell_type": "markdown",
   "id": "9257cfaa",
   "metadata": {},
   "source": [
    "Based on the average time between each timestamp which is almost 2 hrs I think thes source of this data is a video streaming platform like youtube or netflix. Also the day/month with the most time stamps coincides with spring break in 2022 which makes me think its probably netflix or a similar service becuase its common to catch up on tv shows over holiday breaks."
   ]
  },
  {
   "cell_type": "markdown",
   "id": "3274f9eb",
   "metadata": {},
   "source": [
    "### Part 2.7: "
   ]
  },
  {
   "cell_type": "markdown",
   "id": "0d4b6a50",
   "metadata": {},
   "source": [
    "### Part 2.8:"
   ]
  },
  {
   "cell_type": "markdown",
   "id": "affa5727",
   "metadata": {},
   "source": [
    "I think havng precise location data would be help me figure out what else was going on during the time period with the most tine stamps"
   ]
  },
  {
   "cell_type": "markdown",
   "id": "24a3e246",
   "metadata": {},
   "source": [
    "### Part 2.9:"
   ]
  },
  {
   "cell_type": "markdown",
   "id": "340e854f",
   "metadata": {},
   "source": [
    "The actual source for Chetima's data was youtube so my analysis was almost accurate and one thing I learnt was that we both spend a lot of time on youtube in our free time. Working with my own data made me realize that for better or worse I listen to music a lot."
   ]
  },
  {
   "cell_type": "markdown",
   "id": "82641ad4",
   "metadata": {},
   "source": [
    "## Part 3:"
   ]
  },
  {
   "cell_type": "code",
   "execution_count": null,
   "id": "507e418c",
   "metadata": {},
   "outputs": [],
   "source": [
    "#We are plotting the number of timestamp per month in the 2022 for both our datas.\n",
    "# 2022 because Terence has only his data from certain months of that year."
   ]
  },
  {
   "cell_type": "code",
   "execution_count": 79,
   "id": "46066bf0",
   "metadata": {},
   "outputs": [],
   "source": [
    "Chetima_22 = pd.read_csv(\"Chetima_22.csv\")"
   ]
  },
  {
   "cell_type": "code",
   "execution_count": 81,
   "id": "7443ab12",
   "metadata": {},
   "outputs": [],
   "source": [
    "terence.to_csv(\"terence_22.csv\")"
   ]
  },
  {
   "cell_type": "code",
   "execution_count": 114,
   "id": "5e3c5b0a",
   "metadata": {},
   "outputs": [
    {
     "data": {
      "image/png": "[encoded data removed]",
      "text/plain": [
       "<Figure size 640x480 with 1 Axes>"
      ]
     },
     "metadata": {},
     "output_type": "display_data"
    }
   ],
   "source": [
    "plt.hist(Chetima_22.month, bins = 10, color = \"#0504aa\", alpha = 0.7, rwidth = 0.85, label= 'Chetima' )\n",
    "plt.hist(terence.month, bins = 10, color = \"green\", alpha = 0.9, rwidth = 0.95, label= 'Terence')\n",
    "plt.xlabel(\"Month of the Year\")\n",
    "plt.ylabel(\"Frequency\")\n",
    "plt.title(\"Timestamps per month\")\n",
    "plt.legend()\n",
    "plt.show()"
   ]
  },
  {
   "cell_type": "markdown",
   "id": "f48c570a",
   "metadata": {},
   "source": [
    "It looks like Terrence has more timestamps than Chetima, meaning that he listen to much more content than me over the time period in which he was active on spotify. But Chetima listen to longer content timewise. "
   ]
  },
  {
   "cell_type": "markdown",
   "id": "df861cd4",
   "metadata": {},
   "source": [
    "# Chetima Part 4"
   ]
  },
  {
   "cell_type": "code",
   "execution_count": 24,
   "id": "e102df96",
   "metadata": {},
   "outputs": [],
   "source": [
    "my_history[\"time\"] = pd.to_datetime(my_history[\"time\"], errors = \"coerce\")\n"
   ]
  },
  {
   "cell_type": "code",
   "execution_count": 25,
   "id": "5e705dc3",
   "metadata": {},
   "outputs": [
    {
     "name": "stdout",
     "output_type": "stream",
     "text": [
      "<class 'pandas.core.frame.DataFrame'>\n",
      "RangeIndex: 19971 entries, 0 to 19970\n",
      "Data columns (total 12 columns):\n",
      " #   Column              Non-Null Count  Dtype              \n",
      "---  ------              --------------  -----              \n",
      " 0   header              19971 non-null  object             \n",
      " 1   title               19971 non-null  object             \n",
      " 2   titleUrl            19547 non-null  object             \n",
      " 3   description         2737 non-null   object             \n",
      " 4   time                19971 non-null  datetime64[ns, UTC]\n",
      " 5   products/0          19971 non-null  object             \n",
      " 6   details/0/name      2967 non-null   object             \n",
      " 7   activityControls/0  19971 non-null  object             \n",
      " 8   activityControls/1  2863 non-null   object             \n",
      " 9   activityControls/2  2863 non-null   object             \n",
      " 10  subtitles/0/name    15974 non-null  object             \n",
      " 11  subtitles/0/url     15974 non-null  object             \n",
      "dtypes: datetime64[ns, UTC](1), object(11)\n",
      "memory usage: 1.8+ MB\n"
     ]
    }
   ],
   "source": [
    "my_history.info()"
   ]
  },
  {
   "cell_type": "markdown",
   "id": "8183ca29",
   "metadata": {},
   "source": [
    "### Did I really watch 19971 videos on youtube?"
   ]
  },
  {
   "cell_type": "markdown",
   "id": "bed1b3bb",
   "metadata": {},
   "source": [
    "Some of the videos I watched on youtube were not actually videos I watched. A plethora of them were advertisement videos that poppeed up while I was watching something or maybe even right before I the videos I intended to watch were played. "
   ]
  },
  {
   "cell_type": "code",
   "execution_count": 26,
   "id": "67cd639c",
   "metadata": {},
   "outputs": [],
   "source": [
    "# Youtube ads were recorded in my data as \"Des annonces Google\", So I am creating a new dataframe withouth them.\n",
    "my_actual_history = my_history[my_history[\"details/0/name\"] != \"Des annonces Google\"]\n",
    "#music[music.day == 88].Time.iloc[1]"
   ]
  },
  {
   "cell_type": "code",
   "execution_count": 27,
   "id": "fc159b54",
   "metadata": {},
   "outputs": [
    {
     "name": "stdout",
     "output_type": "stream",
     "text": [
      "<class 'pandas.core.frame.DataFrame'>\n",
      "Int64Index: 17004 entries, 1 to 19970\n",
      "Data columns (total 12 columns):\n",
      " #   Column              Non-Null Count  Dtype              \n",
      "---  ------              --------------  -----              \n",
      " 0   header              17004 non-null  object             \n",
      " 1   title               17004 non-null  object             \n",
      " 2   titleUrl            16580 non-null  object             \n",
      " 3   description         1 non-null      object             \n",
      " 4   time                17004 non-null  datetime64[ns, UTC]\n",
      " 5   products/0          17004 non-null  object             \n",
      " 6   details/0/name      0 non-null      object             \n",
      " 7   activityControls/0  17004 non-null  object             \n",
      " 8   activityControls/1  0 non-null      object             \n",
      " 9   activityControls/2  0 non-null      object             \n",
      " 10  subtitles/0/name    15974 non-null  object             \n",
      " 11  subtitles/0/url     15974 non-null  object             \n",
      "dtypes: datetime64[ns, UTC](1), object(11)\n",
      "memory usage: 1.7+ MB\n"
     ]
    }
   ],
   "source": [
    "my_actual_history.info()"
   ]
  },
  {
   "cell_type": "markdown",
   "id": "e741b0e2",
   "metadata": {},
   "source": [
    "The 2967 are for sure youtube ads or announcements . I watched an important number of the 17004 videos in my home country, where advertisments on youtube are not accessible, thus the number of ads I was forced to watch could largely exceed the 2967. Additionaly, 2967 is only the number of ads/announcements that was recorded by Youtube, many other ads I watched were probably not recorded as ads by youtube. "
   ]
  },
  {
   "cell_type": "markdown",
   "id": "875c3696",
   "metadata": {},
   "source": [
    "### In which fraction of the day was I more frequent on Youtube?"
   ]
  },
  {
   "cell_type": "code",
   "execution_count": 31,
   "id": "992e28ea",
   "metadata": {},
   "outputs": [
    {
     "data": {
      "text/html": [
       "<div>\n",
       "<style scoped>\n",
       "    .dataframe tbody tr th:only-of-type {\n",
       "        vertical-align: middle;\n",
       "    }\n",
       "\n",
       "    .dataframe tbody tr th {\n",
       "        vertical-align: top;\n",
       "    }\n",
       "\n",
       "    .dataframe thead th {\n",
       "        text-align: right;\n",
       "    }\n",
       "</style>\n",
       "<table border=\"1\" class=\"dataframe\">\n",
       "  <thead>\n",
       "    <tr style=\"text-align: right;\">\n",
       "      <th></th>\n",
       "      <th>Column1</th>\n",
       "      <th>time</th>\n",
       "      <th>time_delta</th>\n",
       "      <th>day</th>\n",
       "      <th>year</th>\n",
       "      <th>month</th>\n",
       "    </tr>\n",
       "  </thead>\n",
       "  <tbody>\n",
       "    <tr>\n",
       "      <th>0</th>\n",
       "      <td>12737</td>\n",
       "      <td>12/31/2021 16:02</td>\n",
       "      <td>0 days 00:18:41.056000</td>\n",
       "      <td>1</td>\n",
       "      <td>2022</td>\n",
       "      <td>1</td>\n",
       "    </tr>\n",
       "    <tr>\n",
       "      <th>1</th>\n",
       "      <td>12736</td>\n",
       "      <td>12/31/2021 17:56</td>\n",
       "      <td>0 days 01:53:25.917000</td>\n",
       "      <td>1</td>\n",
       "      <td>2022</td>\n",
       "      <td>1</td>\n",
       "    </tr>\n",
       "    <tr>\n",
       "      <th>2</th>\n",
       "      <td>12735</td>\n",
       "      <td>12/31/2021 18:04</td>\n",
       "      <td>0 days 00:07:58.159000</td>\n",
       "      <td>1</td>\n",
       "      <td>2022</td>\n",
       "      <td>1</td>\n",
       "    </tr>\n",
       "    <tr>\n",
       "      <th>3</th>\n",
       "      <td>12734</td>\n",
       "      <td>12/31/2021 18:06</td>\n",
       "      <td>0 days 00:01:50.875000</td>\n",
       "      <td>1</td>\n",
       "      <td>2022</td>\n",
       "      <td>1</td>\n",
       "    </tr>\n",
       "    <tr>\n",
       "      <th>4</th>\n",
       "      <td>12733</td>\n",
       "      <td>12/31/2021 21:47</td>\n",
       "      <td>0 days 03:41:40.948000</td>\n",
       "      <td>1</td>\n",
       "      <td>2022</td>\n",
       "      <td>1</td>\n",
       "    </tr>\n",
       "    <tr>\n",
       "      <th>...</th>\n",
       "      <td>...</td>\n",
       "      <td>...</td>\n",
       "      <td>...</td>\n",
       "      <td>...</td>\n",
       "      <td>...</td>\n",
       "      <td>...</td>\n",
       "    </tr>\n",
       "    <tr>\n",
       "      <th>7925</th>\n",
       "      <td>4812</td>\n",
       "      <td>12/31/2022 15:29</td>\n",
       "      <td>0 days 00:00:06.953000</td>\n",
       "      <td>365</td>\n",
       "      <td>2022</td>\n",
       "      <td>12</td>\n",
       "    </tr>\n",
       "    <tr>\n",
       "      <th>7926</th>\n",
       "      <td>4811</td>\n",
       "      <td>12/31/2022 15:32</td>\n",
       "      <td>0 days 00:02:53.237000</td>\n",
       "      <td>365</td>\n",
       "      <td>2022</td>\n",
       "      <td>12</td>\n",
       "    </tr>\n",
       "    <tr>\n",
       "      <th>7927</th>\n",
       "      <td>4810</td>\n",
       "      <td>12/31/2022 15:34</td>\n",
       "      <td>0 days 00:01:35.655000</td>\n",
       "      <td>365</td>\n",
       "      <td>2022</td>\n",
       "      <td>12</td>\n",
       "    </tr>\n",
       "    <tr>\n",
       "      <th>7928</th>\n",
       "      <td>4809</td>\n",
       "      <td>12/31/2022 15:37</td>\n",
       "      <td>0 days 00:02:46.727000</td>\n",
       "      <td>365</td>\n",
       "      <td>2022</td>\n",
       "      <td>12</td>\n",
       "    </tr>\n",
       "    <tr>\n",
       "      <th>7929</th>\n",
       "      <td>4808</td>\n",
       "      <td>12/31/2022 15:39</td>\n",
       "      <td>0 days 00:02:01.507000</td>\n",
       "      <td>365</td>\n",
       "      <td>2022</td>\n",
       "      <td>12</td>\n",
       "    </tr>\n",
       "  </tbody>\n",
       "</table>\n",
       "<p>7930 rows × 6 columns</p>\n",
       "</div>"
      ],
      "text/plain": [
       "      Column1              time              time_delta  day  year  month\n",
       "0       12737  12/31/2021 16:02  0 days 00:18:41.056000    1  2022      1\n",
       "1       12736  12/31/2021 17:56  0 days 01:53:25.917000    1  2022      1\n",
       "2       12735  12/31/2021 18:04  0 days 00:07:58.159000    1  2022      1\n",
       "3       12734  12/31/2021 18:06  0 days 00:01:50.875000    1  2022      1\n",
       "4       12733  12/31/2021 21:47  0 days 03:41:40.948000    1  2022      1\n",
       "...       ...               ...                     ...  ...   ...    ...\n",
       "7925     4812  12/31/2022 15:29  0 days 00:00:06.953000  365  2022     12\n",
       "7926     4811  12/31/2022 15:32  0 days 00:02:53.237000  365  2022     12\n",
       "7927     4810  12/31/2022 15:34  0 days 00:01:35.655000  365  2022     12\n",
       "7928     4809  12/31/2022 15:37  0 days 00:02:46.727000  365  2022     12\n",
       "7929     4808  12/31/2022 15:39  0 days 00:02:01.507000  365  2022     12\n",
       "\n",
       "[7930 rows x 6 columns]"
      ]
     },
     "execution_count": 31,
     "metadata": {},
     "output_type": "execute_result"
    }
   ],
   "source": [
    "Chetima_22 = pd.read_csv(\"Chetima_22.csv\")\n",
    "Chetima_22"
   ]
  },
  {
   "cell_type": "code",
   "execution_count": 32,
   "id": "77efc3fa",
   "metadata": {},
   "outputs": [],
   "source": [
    "#Youtube recorded my data with as UTC, which is closer to time zone in my country, Niger(UTC +1).\n",
    "#I am choosimg to work with the videos I watched while I was at home, from June to December 2022.\n",
    "\n",
    "videos = Chetima_22[Chetima_22.month >= 6]"
   ]
  },
  {
   "cell_type": "code",
   "execution_count": 33,
   "id": "7f04b9ce",
   "metadata": {},
   "outputs": [
    {
     "data": {
      "text/html": [
       "<div>\n",
       "<style scoped>\n",
       "    .dataframe tbody tr th:only-of-type {\n",
       "        vertical-align: middle;\n",
       "    }\n",
       "\n",
       "    .dataframe tbody tr th {\n",
       "        vertical-align: top;\n",
       "    }\n",
       "\n",
       "    .dataframe thead th {\n",
       "        text-align: right;\n",
       "    }\n",
       "</style>\n",
       "<table border=\"1\" class=\"dataframe\">\n",
       "  <thead>\n",
       "    <tr style=\"text-align: right;\">\n",
       "      <th></th>\n",
       "      <th>Column1</th>\n",
       "      <th>time</th>\n",
       "      <th>time_delta</th>\n",
       "      <th>day</th>\n",
       "      <th>year</th>\n",
       "      <th>month</th>\n",
       "    </tr>\n",
       "  </thead>\n",
       "  <tbody>\n",
       "    <tr>\n",
       "      <th>4315</th>\n",
       "      <td>8422</td>\n",
       "      <td>6/1/2022 7:11</td>\n",
       "      <td>1 days 21:32:54.636000</td>\n",
       "      <td>152</td>\n",
       "      <td>2022</td>\n",
       "      <td>6</td>\n",
       "    </tr>\n",
       "    <tr>\n",
       "      <th>4316</th>\n",
       "      <td>8421</td>\n",
       "      <td>6/1/2022 7:17</td>\n",
       "      <td>0 days 00:05:52.173000</td>\n",
       "      <td>152</td>\n",
       "      <td>2022</td>\n",
       "      <td>6</td>\n",
       "    </tr>\n",
       "    <tr>\n",
       "      <th>4317</th>\n",
       "      <td>8420</td>\n",
       "      <td>6/1/2022 7:19</td>\n",
       "      <td>0 days 00:02:44.585000</td>\n",
       "      <td>152</td>\n",
       "      <td>2022</td>\n",
       "      <td>6</td>\n",
       "    </tr>\n",
       "    <tr>\n",
       "      <th>4318</th>\n",
       "      <td>8419</td>\n",
       "      <td>6/1/2022 7:22</td>\n",
       "      <td>0 days 00:02:40.405000</td>\n",
       "      <td>152</td>\n",
       "      <td>2022</td>\n",
       "      <td>6</td>\n",
       "    </tr>\n",
       "    <tr>\n",
       "      <th>4319</th>\n",
       "      <td>8418</td>\n",
       "      <td>6/1/2022 9:20</td>\n",
       "      <td>0 days 01:57:37.087000</td>\n",
       "      <td>152</td>\n",
       "      <td>2022</td>\n",
       "      <td>6</td>\n",
       "    </tr>\n",
       "    <tr>\n",
       "      <th>...</th>\n",
       "      <td>...</td>\n",
       "      <td>...</td>\n",
       "      <td>...</td>\n",
       "      <td>...</td>\n",
       "      <td>...</td>\n",
       "      <td>...</td>\n",
       "    </tr>\n",
       "    <tr>\n",
       "      <th>7925</th>\n",
       "      <td>4812</td>\n",
       "      <td>12/31/2022 15:29</td>\n",
       "      <td>0 days 00:00:06.953000</td>\n",
       "      <td>365</td>\n",
       "      <td>2022</td>\n",
       "      <td>12</td>\n",
       "    </tr>\n",
       "    <tr>\n",
       "      <th>7926</th>\n",
       "      <td>4811</td>\n",
       "      <td>12/31/2022 15:32</td>\n",
       "      <td>0 days 00:02:53.237000</td>\n",
       "      <td>365</td>\n",
       "      <td>2022</td>\n",
       "      <td>12</td>\n",
       "    </tr>\n",
       "    <tr>\n",
       "      <th>7927</th>\n",
       "      <td>4810</td>\n",
       "      <td>12/31/2022 15:34</td>\n",
       "      <td>0 days 00:01:35.655000</td>\n",
       "      <td>365</td>\n",
       "      <td>2022</td>\n",
       "      <td>12</td>\n",
       "    </tr>\n",
       "    <tr>\n",
       "      <th>7928</th>\n",
       "      <td>4809</td>\n",
       "      <td>12/31/2022 15:37</td>\n",
       "      <td>0 days 00:02:46.727000</td>\n",
       "      <td>365</td>\n",
       "      <td>2022</td>\n",
       "      <td>12</td>\n",
       "    </tr>\n",
       "    <tr>\n",
       "      <th>7929</th>\n",
       "      <td>4808</td>\n",
       "      <td>12/31/2022 15:39</td>\n",
       "      <td>0 days 00:02:01.507000</td>\n",
       "      <td>365</td>\n",
       "      <td>2022</td>\n",
       "      <td>12</td>\n",
       "    </tr>\n",
       "  </tbody>\n",
       "</table>\n",
       "<p>3615 rows × 6 columns</p>\n",
       "</div>"
      ],
      "text/plain": [
       "      Column1              time              time_delta  day  year  month\n",
       "4315     8422     6/1/2022 7:11  1 days 21:32:54.636000  152  2022      6\n",
       "4316     8421     6/1/2022 7:17  0 days 00:05:52.173000  152  2022      6\n",
       "4317     8420     6/1/2022 7:19  0 days 00:02:44.585000  152  2022      6\n",
       "4318     8419     6/1/2022 7:22  0 days 00:02:40.405000  152  2022      6\n",
       "4319     8418     6/1/2022 9:20  0 days 01:57:37.087000  152  2022      6\n",
       "...       ...               ...                     ...  ...   ...    ...\n",
       "7925     4812  12/31/2022 15:29  0 days 00:00:06.953000  365  2022     12\n",
       "7926     4811  12/31/2022 15:32  0 days 00:02:53.237000  365  2022     12\n",
       "7927     4810  12/31/2022 15:34  0 days 00:01:35.655000  365  2022     12\n",
       "7928     4809  12/31/2022 15:37  0 days 00:02:46.727000  365  2022     12\n",
       "7929     4808  12/31/2022 15:39  0 days 00:02:01.507000  365  2022     12\n",
       "\n",
       "[3615 rows x 6 columns]"
      ]
     },
     "execution_count": 33,
     "metadata": {},
     "output_type": "execute_result"
    }
   ],
   "source": [
    "videos"
   ]
  },
  {
   "cell_type": "code",
   "execution_count": null,
   "id": "da73316b",
   "metadata": {},
   "outputs": [],
   "source": [
    "#I am choosing a range of June to November as these are the full month I spent at home in 2022."
   ]
  },
  {
   "cell_type": "code",
   "execution_count": 34,
   "id": "24724e2b",
   "metadata": {},
   "outputs": [
    {
     "name": "stderr",
     "output_type": "stream",
     "text": [
      "C:\\Users\\Public\\Documents\\Wondershare\\CreatorTemp\\ipykernel_36232\\3796418453.py:1: SettingWithCopyWarning: \n",
      "A value is trying to be set on a copy of a slice from a DataFrame.\n",
      "Try using .loc[row_indexer,col_indexer] = value instead\n",
      "\n",
      "See the caveats in the documentation: https://pandas.pydata.org/pandas-docs/stable/user_guide/indexing.html#returning-a-view-versus-a-copy\n",
      "  videos['hours'] = pd.DatetimeIndex(videos['time']).hour\n",
      "C:\\Users\\Public\\Documents\\Wondershare\\CreatorTemp\\ipykernel_36232\\3796418453.py:2: SettingWithCopyWarning: \n",
      "A value is trying to be set on a copy of a slice from a DataFrame.\n",
      "Try using .loc[row_indexer,col_indexer] = value instead\n",
      "\n",
      "See the caveats in the documentation: https://pandas.pydata.org/pandas-docs/stable/user_guide/indexing.html#returning-a-view-versus-a-copy\n",
      "  videos['minutes'] = pd.DatetimeIndex(videos['time']).minute\n"
     ]
    }
   ],
   "source": [
    "videos['hours'] = pd.DatetimeIndex(videos['time']).hour\n",
    "videos['minutes'] = pd.DatetimeIndex(videos['time']).minute\n",
    "videos = videos[videos.month <= 11]"
   ]
  },
  {
   "cell_type": "code",
   "execution_count": 35,
   "id": "1b39c204",
   "metadata": {},
   "outputs": [
    {
     "data": {
      "text/html": [
       "<div>\n",
       "<style scoped>\n",
       "    .dataframe tbody tr th:only-of-type {\n",
       "        vertical-align: middle;\n",
       "    }\n",
       "\n",
       "    .dataframe tbody tr th {\n",
       "        vertical-align: top;\n",
       "    }\n",
       "\n",
       "    .dataframe thead th {\n",
       "        text-align: right;\n",
       "    }\n",
       "</style>\n",
       "<table border=\"1\" class=\"dataframe\">\n",
       "  <thead>\n",
       "    <tr style=\"text-align: right;\">\n",
       "      <th></th>\n",
       "      <th>Column1</th>\n",
       "      <th>time</th>\n",
       "      <th>time_delta</th>\n",
       "      <th>day</th>\n",
       "      <th>year</th>\n",
       "      <th>month</th>\n",
       "      <th>hours</th>\n",
       "      <th>minutes</th>\n",
       "    </tr>\n",
       "  </thead>\n",
       "  <tbody>\n",
       "    <tr>\n",
       "      <th>4315</th>\n",
       "      <td>8422</td>\n",
       "      <td>6/1/2022 7:11</td>\n",
       "      <td>1 days 21:32:54.636000</td>\n",
       "      <td>152</td>\n",
       "      <td>2022</td>\n",
       "      <td>6</td>\n",
       "      <td>7</td>\n",
       "      <td>11</td>\n",
       "    </tr>\n",
       "    <tr>\n",
       "      <th>4316</th>\n",
       "      <td>8421</td>\n",
       "      <td>6/1/2022 7:17</td>\n",
       "      <td>0 days 00:05:52.173000</td>\n",
       "      <td>152</td>\n",
       "      <td>2022</td>\n",
       "      <td>6</td>\n",
       "      <td>7</td>\n",
       "      <td>17</td>\n",
       "    </tr>\n",
       "    <tr>\n",
       "      <th>4317</th>\n",
       "      <td>8420</td>\n",
       "      <td>6/1/2022 7:19</td>\n",
       "      <td>0 days 00:02:44.585000</td>\n",
       "      <td>152</td>\n",
       "      <td>2022</td>\n",
       "      <td>6</td>\n",
       "      <td>7</td>\n",
       "      <td>19</td>\n",
       "    </tr>\n",
       "    <tr>\n",
       "      <th>4318</th>\n",
       "      <td>8419</td>\n",
       "      <td>6/1/2022 7:22</td>\n",
       "      <td>0 days 00:02:40.405000</td>\n",
       "      <td>152</td>\n",
       "      <td>2022</td>\n",
       "      <td>6</td>\n",
       "      <td>7</td>\n",
       "      <td>22</td>\n",
       "    </tr>\n",
       "    <tr>\n",
       "      <th>4319</th>\n",
       "      <td>8418</td>\n",
       "      <td>6/1/2022 9:20</td>\n",
       "      <td>0 days 01:57:37.087000</td>\n",
       "      <td>152</td>\n",
       "      <td>2022</td>\n",
       "      <td>6</td>\n",
       "      <td>9</td>\n",
       "      <td>20</td>\n",
       "    </tr>\n",
       "    <tr>\n",
       "      <th>...</th>\n",
       "      <td>...</td>\n",
       "      <td>...</td>\n",
       "      <td>...</td>\n",
       "      <td>...</td>\n",
       "      <td>...</td>\n",
       "      <td>...</td>\n",
       "      <td>...</td>\n",
       "      <td>...</td>\n",
       "    </tr>\n",
       "    <tr>\n",
       "      <th>7184</th>\n",
       "      <td>5553</td>\n",
       "      <td>11/29/2022 23:31</td>\n",
       "      <td>0 days 00:15:35.276000</td>\n",
       "      <td>334</td>\n",
       "      <td>2022</td>\n",
       "      <td>11</td>\n",
       "      <td>23</td>\n",
       "      <td>31</td>\n",
       "    </tr>\n",
       "    <tr>\n",
       "      <th>7185</th>\n",
       "      <td>5552</td>\n",
       "      <td>11/29/2022 23:39</td>\n",
       "      <td>0 days 00:07:57.951000</td>\n",
       "      <td>334</td>\n",
       "      <td>2022</td>\n",
       "      <td>11</td>\n",
       "      <td>23</td>\n",
       "      <td>39</td>\n",
       "    </tr>\n",
       "    <tr>\n",
       "      <th>7186</th>\n",
       "      <td>5551</td>\n",
       "      <td>11/30/2022 5:33</td>\n",
       "      <td>0 days 05:54:05.618000</td>\n",
       "      <td>334</td>\n",
       "      <td>2022</td>\n",
       "      <td>11</td>\n",
       "      <td>5</td>\n",
       "      <td>33</td>\n",
       "    </tr>\n",
       "    <tr>\n",
       "      <th>7187</th>\n",
       "      <td>5550</td>\n",
       "      <td>11/30/2022 5:34</td>\n",
       "      <td>0 days 00:00:23.918000</td>\n",
       "      <td>334</td>\n",
       "      <td>2022</td>\n",
       "      <td>11</td>\n",
       "      <td>5</td>\n",
       "      <td>34</td>\n",
       "    </tr>\n",
       "    <tr>\n",
       "      <th>7188</th>\n",
       "      <td>5549</td>\n",
       "      <td>11/30/2022 5:38</td>\n",
       "      <td>0 days 00:04:10.065000</td>\n",
       "      <td>334</td>\n",
       "      <td>2022</td>\n",
       "      <td>11</td>\n",
       "      <td>5</td>\n",
       "      <td>38</td>\n",
       "    </tr>\n",
       "  </tbody>\n",
       "</table>\n",
       "<p>2874 rows × 8 columns</p>\n",
       "</div>"
      ],
      "text/plain": [
       "      Column1              time              time_delta  day  year  month  \\\n",
       "4315     8422     6/1/2022 7:11  1 days 21:32:54.636000  152  2022      6   \n",
       "4316     8421     6/1/2022 7:17  0 days 00:05:52.173000  152  2022      6   \n",
       "4317     8420     6/1/2022 7:19  0 days 00:02:44.585000  152  2022      6   \n",
       "4318     8419     6/1/2022 7:22  0 days 00:02:40.405000  152  2022      6   \n",
       "4319     8418     6/1/2022 9:20  0 days 01:57:37.087000  152  2022      6   \n",
       "...       ...               ...                     ...  ...   ...    ...   \n",
       "7184     5553  11/29/2022 23:31  0 days 00:15:35.276000  334  2022     11   \n",
       "7185     5552  11/29/2022 23:39  0 days 00:07:57.951000  334  2022     11   \n",
       "7186     5551   11/30/2022 5:33  0 days 05:54:05.618000  334  2022     11   \n",
       "7187     5550   11/30/2022 5:34  0 days 00:00:23.918000  334  2022     11   \n",
       "7188     5549   11/30/2022 5:38  0 days 00:04:10.065000  334  2022     11   \n",
       "\n",
       "      hours  minutes  \n",
       "4315      7       11  \n",
       "4316      7       17  \n",
       "4317      7       19  \n",
       "4318      7       22  \n",
       "4319      9       20  \n",
       "...     ...      ...  \n",
       "7184     23       31  \n",
       "7185     23       39  \n",
       "7186      5       33  \n",
       "7187      5       34  \n",
       "7188      5       38  \n",
       "\n",
       "[2874 rows x 8 columns]"
      ]
     },
     "execution_count": 35,
     "metadata": {},
     "output_type": "execute_result"
    }
   ],
   "source": [
    "videos"
   ]
  },
  {
   "cell_type": "code",
   "execution_count": null,
   "id": "c5045508",
   "metadata": {},
   "outputs": [],
   "source": [
    "#Next, I am ploting the number of timestamp per hour."
   ]
  },
  {
   "cell_type": "code",
   "execution_count": 39,
   "id": "a9dfddc6",
   "metadata": {},
   "outputs": [],
   "source": [
    "#http://localhost:8888/notebooks/CS%20215/Individual%20Projects%20Chetima/Project%203%20Chetima.ipynb\n",
    "hours_count = videos.hours.value_counts()"
   ]
  },
  {
   "cell_type": "code",
   "execution_count": 40,
   "id": "61e37e98",
   "metadata": {},
   "outputs": [
    {
     "data": {
      "text/plain": [
       "<AxesSubplot:>"
      ]
     },
     "execution_count": 40,
     "metadata": {},
     "output_type": "execute_result"
    },
    {
     "data": {
      "image/png": "[encoded data removed]",
      "text/plain": [
       "<Figure size 640x480 with 1 Axes>"
      ]
     },
     "metadata": {},
     "output_type": "display_data"
    }
   ],
   "source": [
    "hours_count[hours_count >= 0].plot(kind= 'bar')"
   ]
  },
  {
   "cell_type": "markdown",
   "id": "d3ad2a9c",
   "metadata": {},
   "source": [
    "I apparently was more frequent on Youtube around 9AM UTC which is 10AM Nigerien time."
   ]
  },
  {
   "cell_type": "markdown",
   "id": "b5ce590e",
   "metadata": {},
   "source": [
    "# Terence Part 4 "
   ]
  },
  {
   "cell_type": "markdown",
   "id": "48f16f02",
   "metadata": {},
   "source": [
    "Questions:"
   ]
  },
  {
   "cell_type": "markdown",
   "id": "a2d906ba",
   "metadata": {},
   "source": [
    "  1. Which month had the most listening time? Do I remember what might have been happening?\n",
    "  \n",
    "  2. Is there a recurring time of the month that I listened to music the most? Or maybe week of the month?"
   ]
  },
  {
   "cell_type": "code",
   "execution_count": 96,
   "id": "7e01c061",
   "metadata": {},
   "outputs": [],
   "source": [
    "music = pd.read_csv(\"terence_spot.csv\")"
   ]
  },
  {
   "cell_type": "code",
   "execution_count": 97,
   "id": "79cb948f",
   "metadata": {},
   "outputs": [
    {
     "data": {
      "text/html": [
       "<div>\n",
       "<style scoped>\n",
       "    .dataframe tbody tr th:only-of-type {\n",
       "        vertical-align: middle;\n",
       "    }\n",
       "\n",
       "    .dataframe tbody tr th {\n",
       "        vertical-align: top;\n",
       "    }\n",
       "\n",
       "    .dataframe thead th {\n",
       "        text-align: right;\n",
       "    }\n",
       "</style>\n",
       "<table border=\"1\" class=\"dataframe\">\n",
       "  <thead>\n",
       "    <tr style=\"text-align: right;\">\n",
       "      <th></th>\n",
       "      <th>Column1</th>\n",
       "      <th>Time</th>\n",
       "      <th>seconds</th>\n",
       "      <th>day</th>\n",
       "      <th>year</th>\n",
       "      <th>month</th>\n",
       "    </tr>\n",
       "  </thead>\n",
       "  <tbody>\n",
       "    <tr>\n",
       "      <th>0</th>\n",
       "      <td>0</td>\n",
       "      <td>3/21/2022 2:15</td>\n",
       "      <td>0.000</td>\n",
       "      <td>80</td>\n",
       "      <td>2022</td>\n",
       "      <td>3</td>\n",
       "    </tr>\n",
       "    <tr>\n",
       "      <th>1</th>\n",
       "      <td>1</td>\n",
       "      <td>3/21/2022 2:15</td>\n",
       "      <td>4.810</td>\n",
       "      <td>80</td>\n",
       "      <td>2022</td>\n",
       "      <td>3</td>\n",
       "    </tr>\n",
       "    <tr>\n",
       "      <th>2</th>\n",
       "      <td>2</td>\n",
       "      <td>3/21/2022 2:19</td>\n",
       "      <td>196.013</td>\n",
       "      <td>80</td>\n",
       "      <td>2022</td>\n",
       "      <td>3</td>\n",
       "    </tr>\n",
       "    <tr>\n",
       "      <th>3</th>\n",
       "      <td>3</td>\n",
       "      <td>3/21/2022 2:23</td>\n",
       "      <td>257.253</td>\n",
       "      <td>80</td>\n",
       "      <td>2022</td>\n",
       "      <td>3</td>\n",
       "    </tr>\n",
       "    <tr>\n",
       "      <th>4</th>\n",
       "      <td>4</td>\n",
       "      <td>3/21/2022 2:24</td>\n",
       "      <td>45.465</td>\n",
       "      <td>80</td>\n",
       "      <td>2022</td>\n",
       "      <td>3</td>\n",
       "    </tr>\n",
       "    <tr>\n",
       "      <th>5</th>\n",
       "      <td>5</td>\n",
       "      <td>3/21/2022 2:24</td>\n",
       "      <td>10.837</td>\n",
       "      <td>80</td>\n",
       "      <td>2022</td>\n",
       "      <td>3</td>\n",
       "    </tr>\n",
       "    <tr>\n",
       "      <th>6</th>\n",
       "      <td>6</td>\n",
       "      <td>3/21/2022 2:28</td>\n",
       "      <td>202.666</td>\n",
       "      <td>80</td>\n",
       "      <td>2022</td>\n",
       "      <td>3</td>\n",
       "    </tr>\n",
       "    <tr>\n",
       "      <th>7</th>\n",
       "      <td>7</td>\n",
       "      <td>3/21/2022 2:32</td>\n",
       "      <td>121.651</td>\n",
       "      <td>80</td>\n",
       "      <td>2022</td>\n",
       "      <td>3</td>\n",
       "    </tr>\n",
       "    <tr>\n",
       "      <th>8</th>\n",
       "      <td>9</td>\n",
       "      <td>3/21/2022 2:33</td>\n",
       "      <td>11.915</td>\n",
       "      <td>80</td>\n",
       "      <td>2022</td>\n",
       "      <td>3</td>\n",
       "    </tr>\n",
       "    <tr>\n",
       "      <th>9</th>\n",
       "      <td>8</td>\n",
       "      <td>3/21/2022 2:33</td>\n",
       "      <td>2.495</td>\n",
       "      <td>80</td>\n",
       "      <td>2022</td>\n",
       "      <td>3</td>\n",
       "    </tr>\n",
       "    <tr>\n",
       "      <th>10</th>\n",
       "      <td>10</td>\n",
       "      <td>3/21/2022 2:37</td>\n",
       "      <td>245.861</td>\n",
       "      <td>80</td>\n",
       "      <td>2022</td>\n",
       "      <td>3</td>\n",
       "    </tr>\n",
       "    <tr>\n",
       "      <th>11</th>\n",
       "      <td>11</td>\n",
       "      <td>3/21/2022 2:39</td>\n",
       "      <td>122.871</td>\n",
       "      <td>80</td>\n",
       "      <td>2022</td>\n",
       "      <td>3</td>\n",
       "    </tr>\n",
       "    <tr>\n",
       "      <th>12</th>\n",
       "      <td>12</td>\n",
       "      <td>3/21/2022 2:40</td>\n",
       "      <td>64.073</td>\n",
       "      <td>80</td>\n",
       "      <td>2022</td>\n",
       "      <td>3</td>\n",
       "    </tr>\n",
       "    <tr>\n",
       "      <th>13</th>\n",
       "      <td>13</td>\n",
       "      <td>3/21/2022 2:41</td>\n",
       "      <td>44.843</td>\n",
       "      <td>80</td>\n",
       "      <td>2022</td>\n",
       "      <td>3</td>\n",
       "    </tr>\n",
       "    <tr>\n",
       "      <th>14</th>\n",
       "      <td>14</td>\n",
       "      <td>3/21/2022 2:44</td>\n",
       "      <td>180.655</td>\n",
       "      <td>80</td>\n",
       "      <td>2022</td>\n",
       "      <td>3</td>\n",
       "    </tr>\n",
       "    <tr>\n",
       "      <th>15</th>\n",
       "      <td>15</td>\n",
       "      <td>3/21/2022 2:47</td>\n",
       "      <td>176.253</td>\n",
       "      <td>80</td>\n",
       "      <td>2022</td>\n",
       "      <td>3</td>\n",
       "    </tr>\n",
       "    <tr>\n",
       "      <th>16</th>\n",
       "      <td>17</td>\n",
       "      <td>3/21/2022 2:51</td>\n",
       "      <td>12.422</td>\n",
       "      <td>80</td>\n",
       "      <td>2022</td>\n",
       "      <td>3</td>\n",
       "    </tr>\n",
       "    <tr>\n",
       "      <th>17</th>\n",
       "      <td>18</td>\n",
       "      <td>3/21/2022 2:51</td>\n",
       "      <td>240.053</td>\n",
       "      <td>80</td>\n",
       "      <td>2022</td>\n",
       "      <td>3</td>\n",
       "    </tr>\n",
       "    <tr>\n",
       "      <th>18</th>\n",
       "      <td>16</td>\n",
       "      <td>3/21/2022 2:51</td>\n",
       "      <td>3.922</td>\n",
       "      <td>80</td>\n",
       "      <td>2022</td>\n",
       "      <td>3</td>\n",
       "    </tr>\n",
       "    <tr>\n",
       "      <th>19</th>\n",
       "      <td>19</td>\n",
       "      <td>3/21/2022 2:54</td>\n",
       "      <td>153.628</td>\n",
       "      <td>80</td>\n",
       "      <td>2022</td>\n",
       "      <td>3</td>\n",
       "    </tr>\n",
       "  </tbody>\n",
       "</table>\n",
       "</div>"
      ],
      "text/plain": [
       "    Column1            Time  seconds  day  year  month\n",
       "0         0  3/21/2022 2:15    0.000   80  2022      3\n",
       "1         1  3/21/2022 2:15    4.810   80  2022      3\n",
       "2         2  3/21/2022 2:19  196.013   80  2022      3\n",
       "3         3  3/21/2022 2:23  257.253   80  2022      3\n",
       "4         4  3/21/2022 2:24   45.465   80  2022      3\n",
       "5         5  3/21/2022 2:24   10.837   80  2022      3\n",
       "6         6  3/21/2022 2:28  202.666   80  2022      3\n",
       "7         7  3/21/2022 2:32  121.651   80  2022      3\n",
       "8         9  3/21/2022 2:33   11.915   80  2022      3\n",
       "9         8  3/21/2022 2:33    2.495   80  2022      3\n",
       "10       10  3/21/2022 2:37  245.861   80  2022      3\n",
       "11       11  3/21/2022 2:39  122.871   80  2022      3\n",
       "12       12  3/21/2022 2:40   64.073   80  2022      3\n",
       "13       13  3/21/2022 2:41   44.843   80  2022      3\n",
       "14       14  3/21/2022 2:44  180.655   80  2022      3\n",
       "15       15  3/21/2022 2:47  176.253   80  2022      3\n",
       "16       17  3/21/2022 2:51   12.422   80  2022      3\n",
       "17       18  3/21/2022 2:51  240.053   80  2022      3\n",
       "18       16  3/21/2022 2:51    3.922   80  2022      3\n",
       "19       19  3/21/2022 2:54  153.628   80  2022      3"
      ]
     },
     "execution_count": 97,
     "metadata": {},
     "output_type": "execute_result"
    }
   ],
   "source": [
    "music.head(20)"
   ]
  },
  {
   "cell_type": "code",
   "execution_count": 99,
   "id": "715b0aa8",
   "metadata": {},
   "outputs": [],
   "source": [
    "music.drop(columns = \"Column1\", inplace = True)"
   ]
  },
  {
   "cell_type": "code",
   "execution_count": 100,
   "id": "705bf840",
   "metadata": {},
   "outputs": [
    {
     "data": {
      "text/html": [
       "<div>\n",
       "<style scoped>\n",
       "    .dataframe tbody tr th:only-of-type {\n",
       "        vertical-align: middle;\n",
       "    }\n",
       "\n",
       "    .dataframe tbody tr th {\n",
       "        vertical-align: top;\n",
       "    }\n",
       "\n",
       "    .dataframe thead th {\n",
       "        text-align: right;\n",
       "    }\n",
       "</style>\n",
       "<table border=\"1\" class=\"dataframe\">\n",
       "  <thead>\n",
       "    <tr style=\"text-align: right;\">\n",
       "      <th></th>\n",
       "      <th>Time</th>\n",
       "      <th>seconds</th>\n",
       "      <th>day</th>\n",
       "      <th>year</th>\n",
       "      <th>month</th>\n",
       "    </tr>\n",
       "  </thead>\n",
       "  <tbody>\n",
       "    <tr>\n",
       "      <th>0</th>\n",
       "      <td>3/21/2022 2:15</td>\n",
       "      <td>0.000</td>\n",
       "      <td>80</td>\n",
       "      <td>2022</td>\n",
       "      <td>3</td>\n",
       "    </tr>\n",
       "    <tr>\n",
       "      <th>1</th>\n",
       "      <td>3/21/2022 2:15</td>\n",
       "      <td>4.810</td>\n",
       "      <td>80</td>\n",
       "      <td>2022</td>\n",
       "      <td>3</td>\n",
       "    </tr>\n",
       "    <tr>\n",
       "      <th>2</th>\n",
       "      <td>3/21/2022 2:19</td>\n",
       "      <td>196.013</td>\n",
       "      <td>80</td>\n",
       "      <td>2022</td>\n",
       "      <td>3</td>\n",
       "    </tr>\n",
       "    <tr>\n",
       "      <th>3</th>\n",
       "      <td>3/21/2022 2:23</td>\n",
       "      <td>257.253</td>\n",
       "      <td>80</td>\n",
       "      <td>2022</td>\n",
       "      <td>3</td>\n",
       "    </tr>\n",
       "    <tr>\n",
       "      <th>4</th>\n",
       "      <td>3/21/2022 2:24</td>\n",
       "      <td>45.465</td>\n",
       "      <td>80</td>\n",
       "      <td>2022</td>\n",
       "      <td>3</td>\n",
       "    </tr>\n",
       "  </tbody>\n",
       "</table>\n",
       "</div>"
      ],
      "text/plain": [
       "             Time  seconds  day  year  month\n",
       "0  3/21/2022 2:15    0.000   80  2022      3\n",
       "1  3/21/2022 2:15    4.810   80  2022      3\n",
       "2  3/21/2022 2:19  196.013   80  2022      3\n",
       "3  3/21/2022 2:23  257.253   80  2022      3\n",
       "4  3/21/2022 2:24   45.465   80  2022      3"
      ]
     },
     "execution_count": 100,
     "metadata": {},
     "output_type": "execute_result"
    }
   ],
   "source": [
    "music.head(5)"
   ]
  },
  {
   "cell_type": "code",
   "execution_count": 101,
   "id": "9f3e1ac0",
   "metadata": {},
   "outputs": [
    {
     "data": {
      "text/plain": [
       "Column1                         8287\n",
       "time                  6/12/2022 4:58\n",
       "time_delta    0 days 00:11:47.589000\n",
       "day                              163\n",
       "year                            2022\n",
       "month                              6\n",
       "hours                              4\n",
       "minutes                           58\n",
       "Name: 4450, dtype: object"
      ]
     },
     "execution_count": 101,
     "metadata": {},
     "output_type": "execute_result"
    }
   ],
   "source": [
    "videos[videos.hours == 4].iloc[3]\n",
    "              \n",
    "#music[music.day == 88].Time.iloc[1]              "
   ]
  },
  {
   "cell_type": "code",
   "execution_count": 102,
   "id": "d8764a97",
   "metadata": {},
   "outputs": [
    {
     "data": {
      "text/plain": [
       "88     304\n",
       "91     269\n",
       "138    245\n",
       "86     226\n",
       "87     219\n",
       "      ... \n",
       "145     46\n",
       "140     43\n",
       "129     32\n",
       "155     22\n",
       "85      18\n",
       "Name: day, Length: 77, dtype: int64"
      ]
     },
     "execution_count": 102,
     "metadata": {},
     "output_type": "execute_result"
    }
   ],
   "source": [
    "music.day.value_counts()"
   ]
  },
  {
   "cell_type": "code",
   "execution_count": 103,
   "id": "be13d4a7",
   "metadata": {},
   "outputs": [
    {
     "data": {
      "text/html": [
       "<div>\n",
       "<style scoped>\n",
       "    .dataframe tbody tr th:only-of-type {\n",
       "        vertical-align: middle;\n",
       "    }\n",
       "\n",
       "    .dataframe tbody tr th {\n",
       "        vertical-align: top;\n",
       "    }\n",
       "\n",
       "    .dataframe thead th {\n",
       "        text-align: right;\n",
       "    }\n",
       "</style>\n",
       "<table border=\"1\" class=\"dataframe\">\n",
       "  <thead>\n",
       "    <tr style=\"text-align: right;\">\n",
       "      <th></th>\n",
       "      <th>Days</th>\n",
       "      <th>Count</th>\n",
       "    </tr>\n",
       "  </thead>\n",
       "  <tbody>\n",
       "    <tr>\n",
       "      <th>0</th>\n",
       "      <td>88</td>\n",
       "      <td>304</td>\n",
       "    </tr>\n",
       "    <tr>\n",
       "      <th>1</th>\n",
       "      <td>91</td>\n",
       "      <td>269</td>\n",
       "    </tr>\n",
       "    <tr>\n",
       "      <th>2</th>\n",
       "      <td>138</td>\n",
       "      <td>245</td>\n",
       "    </tr>\n",
       "    <tr>\n",
       "      <th>3</th>\n",
       "      <td>86</td>\n",
       "      <td>226</td>\n",
       "    </tr>\n",
       "    <tr>\n",
       "      <th>4</th>\n",
       "      <td>87</td>\n",
       "      <td>219</td>\n",
       "    </tr>\n",
       "  </tbody>\n",
       "</table>\n",
       "</div>"
      ],
      "text/plain": [
       "   Days  Count\n",
       "0    88    304\n",
       "1    91    269\n",
       "2   138    245\n",
       "3    86    226\n",
       "4    87    219"
      ]
     },
     "execution_count": 103,
     "metadata": {},
     "output_type": "execute_result"
    }
   ],
   "source": [
    "days = music.day.value_counts().rename_axis('Days').reset_index(name='Count')\n",
    "days.head(5)"
   ]
  },
  {
   "cell_type": "code",
   "execution_count": 104,
   "id": "7ea0dc2c",
   "metadata": {},
   "outputs": [
    {
     "data": {
      "text/plain": [
       "'3/29/2022 0:10'"
      ]
     },
     "execution_count": 104,
     "metadata": {},
     "output_type": "execute_result"
    }
   ],
   "source": [
    "music[music.day == 88].Time.iloc[1]"
   ]
  },
  {
   "cell_type": "code",
   "execution_count": 105,
   "id": "118c90eb",
   "metadata": {},
   "outputs": [
    {
     "data": {
      "text/plain": [
       "[(88, 'March'),\n",
       " (91, 'April'),\n",
       " (138, 'May'),\n",
       " (86, 'March'),\n",
       " (87, 'March'),\n",
       " (80, 'March'),\n",
       " (81, 'March'),\n",
       " (108, 'April'),\n",
       " (115, 'April'),\n",
       " (105, 'April')]"
      ]
     },
     "execution_count": 105,
     "metadata": {},
     "output_type": "execute_result"
    }
   ],
   "source": [
    "#getting the months of the year corresponding to the days with highest number of songs played\n",
    "#The months will be used to label the bar chart. \n",
    "dayMonth = []\n",
    "for i in range(10):\n",
    "    timestamp = music[music.day == days.Days.iloc[i]].Time.iloc[1]\n",
    "    month = pd.Timestamp(timestamp)\n",
    "    dayMonth.append((days.Days.iloc[i], month.month_name()))\n",
    "dayMonth\n"
   ]
  },
  {
   "cell_type": "code",
   "execution_count": 106,
   "id": "4ef52bd8",
   "metadata": {},
   "outputs": [
    {
     "data": {
      "image/png": "[encoded data removed]",
      "text/plain": [
       "<Figure size 640x480 with 1 Axes>"
      ]
     },
     "metadata": {},
     "output_type": "display_data"
    }
   ],
   "source": [
    "plt.bar(days.Days, height = days.Count, width = 1, color = \"purple\", alpha = 0.5)\n",
    "plt.title(\"Number of songs played vs Day of the year in 2022\")\n",
    "plt.xlabel(\"Day of the year\")\n",
    "plt.ylabel(\"Number of songs played\")\n",
    "plt.text(88, 304, \"March\")\n",
    "plt.text(91, 269, \"April\")\n",
    "plt.text(138, 245, \"May\")\n",
    "plt.text(105, 215, \"April\")\n",
    "plt.text(155, 200, \"June\")\n",
    "plt.show()"
   ]
  },
  {
   "cell_type": "markdown",
   "id": "779885cf",
   "metadata": {},
   "source": [
    "Between Feb and July in 2022 my music engagement peaked in March and I am not quite sure why that is. Probaly because of the spring break. I had more time on my hands to explore new genres and in April my engagement decreased of which I suspect was due to the increasing school workload. I don't do well with listening to music and studying at the same time. That said, my engagement should have increased in June because summer had begun."
   ]
  }
 ],
 "metadata": {
  "kernelspec": {
   "display_name": "Python 3 (ipykernel)",
   "language": "python",
   "name": "python3"
  },
  "language_info": {
   "codemirror_mode": {
    "name": "ipython",
    "version": 3
   },
   "file_extension": ".py",
   "mimetype": "text/x-python",
   "name": "python",
   "nbconvert_exporter": "python",
   "pygments_lexer": "ipython3",
   "version": "3.9.13"
  }
 },
 "nbformat": 4,
 "nbformat_minor": 5
}
